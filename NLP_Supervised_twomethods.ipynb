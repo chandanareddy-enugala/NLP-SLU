{
  "nbformat": 4,
  "nbformat_minor": 0,
  "metadata": {
    "colab": {
      "provenance": [],
      "collapsed_sections": [
        "yIKis_yjPfgY",
        "1TolklX5Pcw2",
        "zAQ65eGL-AMI",
        "yIXWpcRx_NhH",
        "26Lnll4OgSuJ",
        "HyI5ov4ReS-E",
        "W_iL3k33t7K9",
        "e_aqtdUApX-Y"
      ],
      "include_colab_link": true
    },
    "kernelspec": {
      "name": "python3",
      "display_name": "Python 3"
    },
    "language_info": {
      "name": "python"
    }
  },
  "cells": [
    {
      "cell_type": "markdown",
      "metadata": {
        "id": "view-in-github",
        "colab_type": "text"
      },
      "source": [
        "<a href=\"https://colab.research.google.com/github/chandanareddy-enugala/NLP-SLU/blob/main/NLP_Supervised_twomethods.ipynb\" target=\"_parent\"><img src=\"https://colab.research.google.com/assets/colab-badge.svg\" alt=\"Open In Colab\"/></a>"
      ]
    },
    {
      "cell_type": "code",
      "execution_count": null,
      "metadata": {
        "colab": {
          "base_uri": "https://localhost:8080/"
        },
        "id": "s7SWznyYwBL6",
        "outputId": "a953b023-9674-4157-8be9-9de889c20f7a"
      },
      "outputs": [
        {
          "output_type": "stream",
          "name": "stdout",
          "text": [
            "Mounted at /content/drive\n"
          ]
        }
      ],
      "source": [
        "from google.colab import drive\n",
        "drive.mount('/content/drive')"
      ]
    },
    {
      "cell_type": "markdown",
      "source": [
        "## **Data Loading**"
      ],
      "metadata": {
        "id": "yIKis_yjPfgY"
      }
    },
    {
      "cell_type": "code",
      "source": [
        "# Importing libraries\n",
        "import nltk\n",
        "import numpy as np\n",
        "import pandas as pd\n",
        "import random\n",
        "from sklearn.model_selection import train_test_split\n",
        "import pprint, time\n",
        "import random\n",
        "from datetime import datetime\n",
        "\n",
        "from sklearn.model_selection import train_test_split\n",
        "\n",
        "\n",
        "from tensorflow.keras.preprocessing.sequence import pad_sequences\n",
        "from tensorflow.keras.models import Sequential\n",
        "from tensorflow.keras.layers import LSTM, Embedding, Dense, TimeDistributed, Dropout, Bidirectional \n",
        "from tensorflow.keras.metrics import CategoricalAccuracy\n",
        "from tensorflow.keras.utils import to_categorical\n",
        "from sklearn.metrics import confusion_matrix\n"
      ],
      "metadata": {
        "id": "66nNRsM-Phu0"
      },
      "execution_count": null,
      "outputs": []
    },
    {
      "cell_type": "code",
      "source": [
        "def load_data_as_dataFrame(filePath):\n",
        "  testfile = open(filePath, 'r')\n",
        "  words = []\n",
        "  tags = []\n",
        "  for line in testfile:\n",
        "      pieces = line.rstrip(\"\\n\").split(\"\\t\")\n",
        "      words.append(pieces[0])\n",
        "      if len(pieces)==2:\n",
        "        tags.append(pieces[1])\n",
        "        \n",
        "  else:\n",
        "    data = pd.DataFrame(columns=[\"words\", \"tags\"])\n",
        "    data['words'] = [str(word) for word in words]\n",
        "    if len(pieces)==2:\n",
        "      # --------------------------------------------------------------- Preparing DataFrame  \n",
        "      data['tags'] = [str(tag) for tag in tags]\n",
        "\n",
        "  return data"
      ],
      "metadata": {
        "id": "g0piDiD9Phyl"
      },
      "execution_count": null,
      "outputs": []
    },
    {
      "cell_type": "markdown",
      "source": [
        "**Training Dataset**"
      ],
      "metadata": {
        "id": "OfbfubkgQaZT"
      }
    },
    {
      "cell_type": "code",
      "source": [
        "# Loading training dataset ================================\n",
        "FilePath = \"/content/drive/MyDrive/NLP/Assignment02/data/Input_Files/Input Files/train.tsv\"\n",
        "train_data = load_data_as_dataFrame(FilePath)\n",
        "\n",
        "# WORDS ---------------------------------------------\n",
        "train_words = list(train_data['words'])\n",
        "\n",
        "# TAGS ---------------------------------------------\n",
        "train_tags = list(train_data['tags'])"
      ],
      "metadata": {
        "id": "EHk88GWdQZQW"
      },
      "execution_count": null,
      "outputs": []
    },
    {
      "cell_type": "code",
      "source": [
        "def tag_labels(tag):\n",
        "  tag_split = tag.split(\"-\")\n",
        "  tags_label = []\n",
        "  for letter in tag_split:\n",
        "    if len(letter)==1:\n",
        "      tags_label.append(\"B\")\n",
        "    elif len(letter)==2:\n",
        "      tags_label.append(\"B\")\n",
        "      tags_label.append(\"I\")\n",
        "    elif len(letter)==3:\n",
        "      tags_label.append(\"B\")\n",
        "      tags_label.append(\"I\")\n",
        "      tags_label.append(\"I\")\n",
        "  return tags_label\n",
        "\n",
        "# LABELS ---------------------------------------------\n",
        "train_labels = [tag_labels(tag) for tag in train_tags]\n",
        "\n",
        "print(f\"Example :: 'k-on-s-i-l-t-an' → {tag_labels('k-on-s-i-l-t-an')}\")"
      ],
      "metadata": {
        "colab": {
          "base_uri": "https://localhost:8080/"
        },
        "id": "htxjmUDYYLZN",
        "outputId": "0bf8f44c-818d-47dd-949c-a5c2f20090bc"
      },
      "execution_count": null,
      "outputs": [
        {
          "output_type": "stream",
          "name": "stdout",
          "text": [
            "Example :: 'k-on-s-i-l-t-an' → ['B', 'B', 'I', 'B', 'B', 'B', 'B', 'B', 'I']\n"
          ]
        }
      ]
    },
    {
      "cell_type": "code",
      "source": [
        "train_words[0], train_tags[0], train_labels[0]"
      ],
      "metadata": {
        "colab": {
          "base_uri": "https://localhost:8080/"
        },
        "id": "0Zf78Orcwh3H",
        "outputId": "08790359-a5b7-48fc-ba9b-dab0bd18190a"
      },
      "execution_count": null,
      "outputs": [
        {
          "output_type": "execute_result",
          "data": {
            "text/plain": [
              "('konsiltan', 'k-on-s-i-l-t-an', ['B', 'B', 'I', 'B', 'B', 'B', 'B', 'B', 'I'])"
            ]
          },
          "metadata": {},
          "execution_count": 8
        }
      ]
    },
    {
      "cell_type": "markdown",
      "source": [
        "## **Data Preprocessing**"
      ],
      "metadata": {
        "id": "1TolklX5Pcw2"
      }
    },
    {
      "cell_type": "code",
      "source": [
        "class PreprocessingData:\n",
        "  def __init__(self, words, maxLength, split_str=\"\"):\n",
        "    self.data = pd.DataFrame(columns=['words'])\n",
        "    self.data['words'] = words\n",
        "    self.data_params = {\"maxLength\":maxLength, \"split_str\":split_str}\n",
        "    self.final_array = np.array([])\n",
        "\n",
        "  def words_split(self, words=\"None\", split_str=\"None\"):\n",
        "    if words==\"None\":\n",
        "      words = list(self.data['words'])\n",
        "    if split_str==\"None\":\n",
        "      split_str = self.data_params['split_str']\n",
        "\n",
        "    if split_str==\"\":\n",
        "      words_split = [[letter.lower() for letter in list(word)] for word in words]\n",
        "    else:\n",
        "      words_split =  [[letter.lower() for letter in word.split(\"-\")] for word in words]\n",
        "    self.data['words_split'] = words_split\n",
        "    return words_split\n",
        "\n",
        "  def find_UniqueLetters(self, words_split=\"None\"):\n",
        "    if words_split==\"None\":\n",
        "      words_split = list(self.data['words_split'])\n",
        "\n",
        "    UniqueLetters = [\"<PAD>\"]+list({letter for word in words_split for letter in word})\n",
        "    UniqueLettersLength = len(UniqueLetters)\n",
        "    Letters2Num = {w:i for i, w in enumerate(UniqueLetters)}\n",
        "    Num2Letters = {i:w for w, i in Letters2Num.items()}\n",
        "    \n",
        "    self.data_params['UniqueLetters'] = UniqueLetters\n",
        "    self.data_params['UniqueLettersLength'] = UniqueLettersLength\n",
        "    self.data_params['Letters2Num'] = Letters2Num\n",
        "    self.data_params['Num2Letters'] = Num2Letters\n",
        "    self.data_params['denseValue'] = UniqueLettersLength\n",
        "    return UniqueLetters, UniqueLettersLength, Letters2Num, Num2Letters\n",
        "\n",
        "  def convert_Text2Num(self, words_split=\"None\", Letters2Num=\"None\"):\n",
        "    if words_split==\"None\":\n",
        "      words_split = list(self.data['words_split'])\n",
        "    if Letters2Num == \"None\":\n",
        "      Letters2Num = self.data_params['Letters2Num']\n",
        "    elif \"Letters2Num\" not in self.data_params.keys():\n",
        "      self.data_params['Letters2Num']=Letters2Num\n",
        "      self.data_params['Num2Letters']= {i:w for w, i in Letters2Num.items()}\n",
        "\n",
        "    words_split_num = [[Letters2Num[letter] for letter in word] for word in words_split]\n",
        "    self.data['words_split_num'] = words_split_num\n",
        "    return words_split_num\n",
        "\n",
        "  def padding(self, words_split_num=\"None\", maxLength=\"None\", Letters2Num=\"None\"):\n",
        "    if words_split_num == \"None\":\n",
        "      words_split_num = list(self.data['words_split_num'])\n",
        "    if maxLength == \"None\":\n",
        "      maxLength = self.data_params['maxLength']\n",
        "    if Letters2Num ==\"None\":\n",
        "      Letters2Num = self.data_params['Letters2Num']\n",
        "\n",
        "    words_split_num_pad = [word+[Letters2Num[\"<PAD>\"] for i in range(maxLength-len(word))] for word in words_split_num]\n",
        "    self.data['words_split_num_pad'] = words_split_num_pad\n",
        "    return words_split_num_pad\n",
        "    \n",
        "  def getData_into_Array(self, words_split_num_pad=\"None\", denseValue=\"None\"):\n",
        "    if words_split_num_pad == \"None\":\n",
        "      words_split_num_pad = np.array(data['words_split_num_pad'].tolist())\n",
        "    if denseValue == \"None\":\n",
        "      denseValue = self.data_params['denseValue']\n",
        "    if denseValue != \"None\":\n",
        "      self.final_array = to_categorical(words_split_num_pad, num_classes=denseValue)\n",
        "    return self.final_array"
      ],
      "metadata": {
        "id": "73EYVGYxPimV"
      },
      "execution_count": null,
      "outputs": []
    },
    {
      "cell_type": "markdown",
      "source": [
        "**Words**"
      ],
      "metadata": {
        "id": "PVt57ilEc3bW"
      }
    },
    {
      "cell_type": "code",
      "source": [
        "words_DP = PreprocessingData(train_words, 20)\n",
        "_ = words_DP.words_split()\n",
        "_ = words_DP.find_UniqueLetters()\n",
        "# words_DP.data_params\n",
        "_ = words_DP.convert_Text2Num()\n",
        "_ = words_DP.padding()\n",
        "\n",
        "words_array = np.array(words_DP.data['words_split_num_pad'].tolist())\n",
        "# words_array = words_DP.getData_into_Array()\n",
        "\n",
        "print(\"words_array shape : \", words_array.shape)"
      ],
      "metadata": {
        "colab": {
          "base_uri": "https://localhost:8080/"
        },
        "id": "rI5oKkpMfEYt",
        "outputId": "18808c51-5e91-4dd2-9494-dc458553d5ea"
      },
      "execution_count": null,
      "outputs": [
        {
          "output_type": "stream",
          "name": "stdout",
          "text": [
            "words_array shape :  (12812, 20)\n"
          ]
        }
      ]
    },
    {
      "cell_type": "code",
      "source": [
        "words_DP.data.head()"
      ],
      "metadata": {
        "colab": {
          "base_uri": "https://localhost:8080/",
          "height": 206
        },
        "id": "ZPc0kvcjhMeJ",
        "outputId": "d174a663-0f33-4896-858e-acbb96c66fce"
      },
      "execution_count": null,
      "outputs": [
        {
          "output_type": "execute_result",
          "data": {
            "text/plain": [
              "              words                                       words_split  \\\n",
              "0         konsiltan                       [k, o, n, s, i, l, t, a, n]   \n",
              "1           depotwa                             [d, e, p, o, t, w, a]   \n",
              "2  sosyopwofesyonèl  [s, o, s, y, o, p, w, o, f, e, s, y, o, n, è, l]   \n",
              "3           vejetal                             [v, e, j, e, t, a, l]   \n",
              "4         repibliye                       [r, e, p, i, b, l, i, y, e]   \n",
              "\n",
              "                                     words_split_num  \\\n",
              "0                  [14, 9, 22, 6, 24, 15, 16, 3, 22]   \n",
              "1                          [21, 11, 10, 9, 16, 1, 3]   \n",
              "2  [6, 9, 6, 19, 9, 10, 1, 9, 13, 11, 6, 19, 9, 2...   \n",
              "3                         [8, 11, 12, 11, 16, 3, 15]   \n",
              "4                [26, 11, 10, 24, 5, 15, 24, 19, 11]   \n",
              "\n",
              "                                 words_split_num_pad  \n",
              "0  [14, 9, 22, 6, 24, 15, 16, 3, 22, 0, 0, 0, 0, ...  \n",
              "1  [21, 11, 10, 9, 16, 1, 3, 0, 0, 0, 0, 0, 0, 0,...  \n",
              "2  [6, 9, 6, 19, 9, 10, 1, 9, 13, 11, 6, 19, 9, 2...  \n",
              "3  [8, 11, 12, 11, 16, 3, 15, 0, 0, 0, 0, 0, 0, 0...  \n",
              "4  [26, 11, 10, 24, 5, 15, 24, 19, 11, 0, 0, 0, 0...  "
            ],
            "text/html": [
              "\n",
              "  <div id=\"df-199fa921-6210-44a8-ba25-528ce5e76b30\">\n",
              "    <div class=\"colab-df-container\">\n",
              "      <div>\n",
              "<style scoped>\n",
              "    .dataframe tbody tr th:only-of-type {\n",
              "        vertical-align: middle;\n",
              "    }\n",
              "\n",
              "    .dataframe tbody tr th {\n",
              "        vertical-align: top;\n",
              "    }\n",
              "\n",
              "    .dataframe thead th {\n",
              "        text-align: right;\n",
              "    }\n",
              "</style>\n",
              "<table border=\"1\" class=\"dataframe\">\n",
              "  <thead>\n",
              "    <tr style=\"text-align: right;\">\n",
              "      <th></th>\n",
              "      <th>words</th>\n",
              "      <th>words_split</th>\n",
              "      <th>words_split_num</th>\n",
              "      <th>words_split_num_pad</th>\n",
              "    </tr>\n",
              "  </thead>\n",
              "  <tbody>\n",
              "    <tr>\n",
              "      <th>0</th>\n",
              "      <td>konsiltan</td>\n",
              "      <td>[k, o, n, s, i, l, t, a, n]</td>\n",
              "      <td>[14, 9, 22, 6, 24, 15, 16, 3, 22]</td>\n",
              "      <td>[14, 9, 22, 6, 24, 15, 16, 3, 22, 0, 0, 0, 0, ...</td>\n",
              "    </tr>\n",
              "    <tr>\n",
              "      <th>1</th>\n",
              "      <td>depotwa</td>\n",
              "      <td>[d, e, p, o, t, w, a]</td>\n",
              "      <td>[21, 11, 10, 9, 16, 1, 3]</td>\n",
              "      <td>[21, 11, 10, 9, 16, 1, 3, 0, 0, 0, 0, 0, 0, 0,...</td>\n",
              "    </tr>\n",
              "    <tr>\n",
              "      <th>2</th>\n",
              "      <td>sosyopwofesyonèl</td>\n",
              "      <td>[s, o, s, y, o, p, w, o, f, e, s, y, o, n, è, l]</td>\n",
              "      <td>[6, 9, 6, 19, 9, 10, 1, 9, 13, 11, 6, 19, 9, 2...</td>\n",
              "      <td>[6, 9, 6, 19, 9, 10, 1, 9, 13, 11, 6, 19, 9, 2...</td>\n",
              "    </tr>\n",
              "    <tr>\n",
              "      <th>3</th>\n",
              "      <td>vejetal</td>\n",
              "      <td>[v, e, j, e, t, a, l]</td>\n",
              "      <td>[8, 11, 12, 11, 16, 3, 15]</td>\n",
              "      <td>[8, 11, 12, 11, 16, 3, 15, 0, 0, 0, 0, 0, 0, 0...</td>\n",
              "    </tr>\n",
              "    <tr>\n",
              "      <th>4</th>\n",
              "      <td>repibliye</td>\n",
              "      <td>[r, e, p, i, b, l, i, y, e]</td>\n",
              "      <td>[26, 11, 10, 24, 5, 15, 24, 19, 11]</td>\n",
              "      <td>[26, 11, 10, 24, 5, 15, 24, 19, 11, 0, 0, 0, 0...</td>\n",
              "    </tr>\n",
              "  </tbody>\n",
              "</table>\n",
              "</div>\n",
              "      <button class=\"colab-df-convert\" onclick=\"convertToInteractive('df-199fa921-6210-44a8-ba25-528ce5e76b30')\"\n",
              "              title=\"Convert this dataframe to an interactive table.\"\n",
              "              style=\"display:none;\">\n",
              "        \n",
              "  <svg xmlns=\"http://www.w3.org/2000/svg\" height=\"24px\"viewBox=\"0 0 24 24\"\n",
              "       width=\"24px\">\n",
              "    <path d=\"M0 0h24v24H0V0z\" fill=\"none\"/>\n",
              "    <path d=\"M18.56 5.44l.94 2.06.94-2.06 2.06-.94-2.06-.94-.94-2.06-.94 2.06-2.06.94zm-11 1L8.5 8.5l.94-2.06 2.06-.94-2.06-.94L8.5 2.5l-.94 2.06-2.06.94zm10 10l.94 2.06.94-2.06 2.06-.94-2.06-.94-.94-2.06-.94 2.06-2.06.94z\"/><path d=\"M17.41 7.96l-1.37-1.37c-.4-.4-.92-.59-1.43-.59-.52 0-1.04.2-1.43.59L10.3 9.45l-7.72 7.72c-.78.78-.78 2.05 0 2.83L4 21.41c.39.39.9.59 1.41.59.51 0 1.02-.2 1.41-.59l7.78-7.78 2.81-2.81c.8-.78.8-2.07 0-2.86zM5.41 20L4 18.59l7.72-7.72 1.47 1.35L5.41 20z\"/>\n",
              "  </svg>\n",
              "      </button>\n",
              "      \n",
              "  <style>\n",
              "    .colab-df-container {\n",
              "      display:flex;\n",
              "      flex-wrap:wrap;\n",
              "      gap: 12px;\n",
              "    }\n",
              "\n",
              "    .colab-df-convert {\n",
              "      background-color: #E8F0FE;\n",
              "      border: none;\n",
              "      border-radius: 50%;\n",
              "      cursor: pointer;\n",
              "      display: none;\n",
              "      fill: #1967D2;\n",
              "      height: 32px;\n",
              "      padding: 0 0 0 0;\n",
              "      width: 32px;\n",
              "    }\n",
              "\n",
              "    .colab-df-convert:hover {\n",
              "      background-color: #E2EBFA;\n",
              "      box-shadow: 0px 1px 2px rgba(60, 64, 67, 0.3), 0px 1px 3px 1px rgba(60, 64, 67, 0.15);\n",
              "      fill: #174EA6;\n",
              "    }\n",
              "\n",
              "    [theme=dark] .colab-df-convert {\n",
              "      background-color: #3B4455;\n",
              "      fill: #D2E3FC;\n",
              "    }\n",
              "\n",
              "    [theme=dark] .colab-df-convert:hover {\n",
              "      background-color: #434B5C;\n",
              "      box-shadow: 0px 1px 3px 1px rgba(0, 0, 0, 0.15);\n",
              "      filter: drop-shadow(0px 1px 2px rgba(0, 0, 0, 0.3));\n",
              "      fill: #FFFFFF;\n",
              "    }\n",
              "  </style>\n",
              "\n",
              "      <script>\n",
              "        const buttonEl =\n",
              "          document.querySelector('#df-199fa921-6210-44a8-ba25-528ce5e76b30 button.colab-df-convert');\n",
              "        buttonEl.style.display =\n",
              "          google.colab.kernel.accessAllowed ? 'block' : 'none';\n",
              "\n",
              "        async function convertToInteractive(key) {\n",
              "          const element = document.querySelector('#df-199fa921-6210-44a8-ba25-528ce5e76b30');\n",
              "          const dataTable =\n",
              "            await google.colab.kernel.invokeFunction('convertToInteractive',\n",
              "                                                     [key], {});\n",
              "          if (!dataTable) return;\n",
              "\n",
              "          const docLinkHtml = 'Like what you see? Visit the ' +\n",
              "            '<a target=\"_blank\" href=https://colab.research.google.com/notebooks/data_table.ipynb>data table notebook</a>'\n",
              "            + ' to learn more about interactive tables.';\n",
              "          element.innerHTML = '';\n",
              "          dataTable['output_type'] = 'display_data';\n",
              "          await google.colab.output.renderOutput(dataTable, element);\n",
              "          const docLink = document.createElement('div');\n",
              "          docLink.innerHTML = docLinkHtml;\n",
              "          element.appendChild(docLink);\n",
              "        }\n",
              "      </script>\n",
              "    </div>\n",
              "  </div>\n",
              "  "
            ]
          },
          "metadata": {},
          "execution_count": 11
        }
      ]
    },
    {
      "cell_type": "code",
      "source": [
        "[words_DP.data_params['Num2Letters'][i] for i in words_array[0] if i!=0]"
      ],
      "metadata": {
        "colab": {
          "base_uri": "https://localhost:8080/"
        },
        "id": "1KsGwokH6qEz",
        "outputId": "18158bdd-d48a-4ed6-f841-4c856dcc5b10"
      },
      "execution_count": null,
      "outputs": [
        {
          "output_type": "execute_result",
          "data": {
            "text/plain": [
              "['k', 'o', 'n', 's', 'i', 'l', 't', 'a', 'n']"
            ]
          },
          "metadata": {},
          "execution_count": 12
        }
      ]
    },
    {
      "cell_type": "markdown",
      "source": [
        "**Tags**"
      ],
      "metadata": {
        "id": "JF3kXipFf9LN"
      }
    },
    {
      "cell_type": "code",
      "source": [
        "tags_DP = PreprocessingData(train_tags, 20, \"-\")\n",
        "_ = tags_DP.words_split()\n",
        "_ = tags_DP.find_UniqueLetters()\n",
        "# tags_DP.data_params\n",
        "_ = tags_DP.convert_Text2Num()\n",
        "_ = tags_DP.padding()\n",
        "\n",
        "tags_split_num_pad = np.array(tags_DP.data[\"words_split_num_pad\"].tolist())\n",
        "tags_array = to_categorical(tags_split_num_pad, num_classes=tags_DP.data_params[\"UniqueLettersLength\"])\n",
        "\n",
        "# tags_array = tags_DP.getData_into_Array()\n",
        "print(\"tags_array shape : \", tags_array.shape)"
      ],
      "metadata": {
        "colab": {
          "base_uri": "https://localhost:8080/"
        },
        "id": "JEK2GDUbQ17W",
        "outputId": "5ac22269-7d78-4577-9d3a-c2e1ed85c17a"
      },
      "execution_count": null,
      "outputs": [
        {
          "output_type": "stream",
          "name": "stdout",
          "text": [
            "tags_array shape :  (12812, 20, 33)\n"
          ]
        }
      ]
    },
    {
      "cell_type": "code",
      "source": [
        "tags_DP.data_params.keys()"
      ],
      "metadata": {
        "colab": {
          "base_uri": "https://localhost:8080/"
        },
        "id": "kkRBd38Q89QG",
        "outputId": "f9c969ab-4e13-45b1-b8c7-829561a58bc6"
      },
      "execution_count": null,
      "outputs": [
        {
          "output_type": "execute_result",
          "data": {
            "text/plain": [
              "dict_keys(['maxLength', 'split_str', 'UniqueLetters', 'UniqueLettersLength', 'Letters2Num', 'Num2Letters', 'denseValue'])"
            ]
          },
          "metadata": {},
          "execution_count": 14
        }
      ]
    },
    {
      "cell_type": "code",
      "source": [
        "tags_DP.data.head()"
      ],
      "metadata": {
        "colab": {
          "base_uri": "https://localhost:8080/",
          "height": 206
        },
        "id": "hYIzdhqehQPx",
        "outputId": "7431d755-32e6-4bdf-f570-8fc4b5a9aaf1"
      },
      "execution_count": null,
      "outputs": [
        {
          "output_type": "execute_result",
          "data": {
            "text/plain": [
              "                             words  \\\n",
              "0                  k-on-s-i-l-t-an   \n",
              "1                    d-e-p-o-t-w-a   \n",
              "2  s-o-s-y-o-p-w-o-f-e-s-y-o-n-è-l   \n",
              "3                    v-e-j-e-t-a-l   \n",
              "4                r-e-p-i-b-l-i-y-e   \n",
              "\n",
              "                                        words_split  \\\n",
              "0                           [k, on, s, i, l, t, an]   \n",
              "1                             [d, e, p, o, t, w, a]   \n",
              "2  [s, o, s, y, o, p, w, o, f, e, s, y, o, n, è, l]   \n",
              "3                             [v, e, j, e, t, a, l]   \n",
              "4                       [r, e, p, i, b, l, i, y, e]   \n",
              "\n",
              "                                     words_split_num  \\\n",
              "0                         [20, 7, 10, 29, 21, 22, 5]   \n",
              "1                         [27, 16, 15, 14, 22, 1, 3]   \n",
              "2  [10, 14, 10, 25, 14, 15, 1, 14, 19, 16, 10, 25...   \n",
              "3                        [13, 16, 17, 16, 22, 3, 21]   \n",
              "4                [31, 16, 15, 29, 8, 21, 29, 25, 16]   \n",
              "\n",
              "                                 words_split_num_pad  \n",
              "0  [20, 7, 10, 29, 21, 22, 5, 0, 0, 0, 0, 0, 0, 0...  \n",
              "1  [27, 16, 15, 14, 22, 1, 3, 0, 0, 0, 0, 0, 0, 0...  \n",
              "2  [10, 14, 10, 25, 14, 15, 1, 14, 19, 16, 10, 25...  \n",
              "3  [13, 16, 17, 16, 22, 3, 21, 0, 0, 0, 0, 0, 0, ...  \n",
              "4  [31, 16, 15, 29, 8, 21, 29, 25, 16, 0, 0, 0, 0...  "
            ],
            "text/html": [
              "\n",
              "  <div id=\"df-e6b376c5-eff7-4979-8bad-69c2f4012428\">\n",
              "    <div class=\"colab-df-container\">\n",
              "      <div>\n",
              "<style scoped>\n",
              "    .dataframe tbody tr th:only-of-type {\n",
              "        vertical-align: middle;\n",
              "    }\n",
              "\n",
              "    .dataframe tbody tr th {\n",
              "        vertical-align: top;\n",
              "    }\n",
              "\n",
              "    .dataframe thead th {\n",
              "        text-align: right;\n",
              "    }\n",
              "</style>\n",
              "<table border=\"1\" class=\"dataframe\">\n",
              "  <thead>\n",
              "    <tr style=\"text-align: right;\">\n",
              "      <th></th>\n",
              "      <th>words</th>\n",
              "      <th>words_split</th>\n",
              "      <th>words_split_num</th>\n",
              "      <th>words_split_num_pad</th>\n",
              "    </tr>\n",
              "  </thead>\n",
              "  <tbody>\n",
              "    <tr>\n",
              "      <th>0</th>\n",
              "      <td>k-on-s-i-l-t-an</td>\n",
              "      <td>[k, on, s, i, l, t, an]</td>\n",
              "      <td>[20, 7, 10, 29, 21, 22, 5]</td>\n",
              "      <td>[20, 7, 10, 29, 21, 22, 5, 0, 0, 0, 0, 0, 0, 0...</td>\n",
              "    </tr>\n",
              "    <tr>\n",
              "      <th>1</th>\n",
              "      <td>d-e-p-o-t-w-a</td>\n",
              "      <td>[d, e, p, o, t, w, a]</td>\n",
              "      <td>[27, 16, 15, 14, 22, 1, 3]</td>\n",
              "      <td>[27, 16, 15, 14, 22, 1, 3, 0, 0, 0, 0, 0, 0, 0...</td>\n",
              "    </tr>\n",
              "    <tr>\n",
              "      <th>2</th>\n",
              "      <td>s-o-s-y-o-p-w-o-f-e-s-y-o-n-è-l</td>\n",
              "      <td>[s, o, s, y, o, p, w, o, f, e, s, y, o, n, è, l]</td>\n",
              "      <td>[10, 14, 10, 25, 14, 15, 1, 14, 19, 16, 10, 25...</td>\n",
              "      <td>[10, 14, 10, 25, 14, 15, 1, 14, 19, 16, 10, 25...</td>\n",
              "    </tr>\n",
              "    <tr>\n",
              "      <th>3</th>\n",
              "      <td>v-e-j-e-t-a-l</td>\n",
              "      <td>[v, e, j, e, t, a, l]</td>\n",
              "      <td>[13, 16, 17, 16, 22, 3, 21]</td>\n",
              "      <td>[13, 16, 17, 16, 22, 3, 21, 0, 0, 0, 0, 0, 0, ...</td>\n",
              "    </tr>\n",
              "    <tr>\n",
              "      <th>4</th>\n",
              "      <td>r-e-p-i-b-l-i-y-e</td>\n",
              "      <td>[r, e, p, i, b, l, i, y, e]</td>\n",
              "      <td>[31, 16, 15, 29, 8, 21, 29, 25, 16]</td>\n",
              "      <td>[31, 16, 15, 29, 8, 21, 29, 25, 16, 0, 0, 0, 0...</td>\n",
              "    </tr>\n",
              "  </tbody>\n",
              "</table>\n",
              "</div>\n",
              "      <button class=\"colab-df-convert\" onclick=\"convertToInteractive('df-e6b376c5-eff7-4979-8bad-69c2f4012428')\"\n",
              "              title=\"Convert this dataframe to an interactive table.\"\n",
              "              style=\"display:none;\">\n",
              "        \n",
              "  <svg xmlns=\"http://www.w3.org/2000/svg\" height=\"24px\"viewBox=\"0 0 24 24\"\n",
              "       width=\"24px\">\n",
              "    <path d=\"M0 0h24v24H0V0z\" fill=\"none\"/>\n",
              "    <path d=\"M18.56 5.44l.94 2.06.94-2.06 2.06-.94-2.06-.94-.94-2.06-.94 2.06-2.06.94zm-11 1L8.5 8.5l.94-2.06 2.06-.94-2.06-.94L8.5 2.5l-.94 2.06-2.06.94zm10 10l.94 2.06.94-2.06 2.06-.94-2.06-.94-.94-2.06-.94 2.06-2.06.94z\"/><path d=\"M17.41 7.96l-1.37-1.37c-.4-.4-.92-.59-1.43-.59-.52 0-1.04.2-1.43.59L10.3 9.45l-7.72 7.72c-.78.78-.78 2.05 0 2.83L4 21.41c.39.39.9.59 1.41.59.51 0 1.02-.2 1.41-.59l7.78-7.78 2.81-2.81c.8-.78.8-2.07 0-2.86zM5.41 20L4 18.59l7.72-7.72 1.47 1.35L5.41 20z\"/>\n",
              "  </svg>\n",
              "      </button>\n",
              "      \n",
              "  <style>\n",
              "    .colab-df-container {\n",
              "      display:flex;\n",
              "      flex-wrap:wrap;\n",
              "      gap: 12px;\n",
              "    }\n",
              "\n",
              "    .colab-df-convert {\n",
              "      background-color: #E8F0FE;\n",
              "      border: none;\n",
              "      border-radius: 50%;\n",
              "      cursor: pointer;\n",
              "      display: none;\n",
              "      fill: #1967D2;\n",
              "      height: 32px;\n",
              "      padding: 0 0 0 0;\n",
              "      width: 32px;\n",
              "    }\n",
              "\n",
              "    .colab-df-convert:hover {\n",
              "      background-color: #E2EBFA;\n",
              "      box-shadow: 0px 1px 2px rgba(60, 64, 67, 0.3), 0px 1px 3px 1px rgba(60, 64, 67, 0.15);\n",
              "      fill: #174EA6;\n",
              "    }\n",
              "\n",
              "    [theme=dark] .colab-df-convert {\n",
              "      background-color: #3B4455;\n",
              "      fill: #D2E3FC;\n",
              "    }\n",
              "\n",
              "    [theme=dark] .colab-df-convert:hover {\n",
              "      background-color: #434B5C;\n",
              "      box-shadow: 0px 1px 3px 1px rgba(0, 0, 0, 0.15);\n",
              "      filter: drop-shadow(0px 1px 2px rgba(0, 0, 0, 0.3));\n",
              "      fill: #FFFFFF;\n",
              "    }\n",
              "  </style>\n",
              "\n",
              "      <script>\n",
              "        const buttonEl =\n",
              "          document.querySelector('#df-e6b376c5-eff7-4979-8bad-69c2f4012428 button.colab-df-convert');\n",
              "        buttonEl.style.display =\n",
              "          google.colab.kernel.accessAllowed ? 'block' : 'none';\n",
              "\n",
              "        async function convertToInteractive(key) {\n",
              "          const element = document.querySelector('#df-e6b376c5-eff7-4979-8bad-69c2f4012428');\n",
              "          const dataTable =\n",
              "            await google.colab.kernel.invokeFunction('convertToInteractive',\n",
              "                                                     [key], {});\n",
              "          if (!dataTable) return;\n",
              "\n",
              "          const docLinkHtml = 'Like what you see? Visit the ' +\n",
              "            '<a target=\"_blank\" href=https://colab.research.google.com/notebooks/data_table.ipynb>data table notebook</a>'\n",
              "            + ' to learn more about interactive tables.';\n",
              "          element.innerHTML = '';\n",
              "          dataTable['output_type'] = 'display_data';\n",
              "          await google.colab.output.renderOutput(dataTable, element);\n",
              "          const docLink = document.createElement('div');\n",
              "          docLink.innerHTML = docLinkHtml;\n",
              "          element.appendChild(docLink);\n",
              "        }\n",
              "      </script>\n",
              "    </div>\n",
              "  </div>\n",
              "  "
            ]
          },
          "metadata": {},
          "execution_count": 15
        }
      ]
    },
    {
      "cell_type": "code",
      "source": [
        "tags_array1 = np.argmax(tags_array, axis=-1)\n",
        "[tags_DP.data_params['Num2Letters'][i] for i in tags_array1[0] if i!=0]"
      ],
      "metadata": {
        "colab": {
          "base_uri": "https://localhost:8080/"
        },
        "id": "dx1eZlfF6JFY",
        "outputId": "3348c05d-a638-41fd-941a-0edb69d1c24a"
      },
      "execution_count": null,
      "outputs": [
        {
          "output_type": "execute_result",
          "data": {
            "text/plain": [
              "['k', 'on', 's', 'i', 'l', 't', 'an']"
            ]
          },
          "metadata": {},
          "execution_count": 16
        }
      ]
    },
    {
      "cell_type": "markdown",
      "source": [
        "**Labels**"
      ],
      "metadata": {
        "id": "WlL7h3AzgLhw"
      }
    },
    {
      "cell_type": "code",
      "source": [
        "labels_DP = PreprocessingData(train_labels, 20, \"\")\n",
        "labels_DP.data['words_split'] = train_labels\n",
        "_ = labels_DP.find_UniqueLetters()\n",
        "_ = labels_DP.convert_Text2Num()\n",
        "_ = labels_DP.padding()\n",
        "\n",
        "labels_split_num_pad = np.array(labels_DP.data[\"words_split_num_pad\"].tolist())\n",
        "labels_array = to_categorical(labels_split_num_pad, num_classes=3)\n",
        "\n",
        "print(\"labels_array shape : \", labels_array.shape)"
      ],
      "metadata": {
        "colab": {
          "base_uri": "https://localhost:8080/"
        },
        "id": "_NqbydtLhBWo",
        "outputId": "f60c98e4-d2cf-46f9-fdc8-9c40ef57ee74"
      },
      "execution_count": null,
      "outputs": [
        {
          "output_type": "stream",
          "name": "stdout",
          "text": [
            "labels_array shape :  (12812, 20, 3)\n"
          ]
        }
      ]
    },
    {
      "cell_type": "code",
      "source": [
        "labels_DP.data.head()"
      ],
      "metadata": {
        "colab": {
          "base_uri": "https://localhost:8080/",
          "height": 206
        },
        "id": "vlTKQg5n5ija",
        "outputId": "347fb494-b61e-4888-b75e-9f798403723a"
      },
      "execution_count": null,
      "outputs": [
        {
          "output_type": "execute_result",
          "data": {
            "text/plain": [
              "                                              words  \\\n",
              "0                       [B, B, I, B, B, B, B, B, I]   \n",
              "1                             [B, B, B, B, B, B, B]   \n",
              "2  [B, B, B, B, B, B, B, B, B, B, B, B, B, B, B, B]   \n",
              "3                             [B, B, B, B, B, B, B]   \n",
              "4                       [B, B, B, B, B, B, B, B, B]   \n",
              "\n",
              "                                        words_split  \\\n",
              "0                       [B, B, I, B, B, B, B, B, I]   \n",
              "1                             [B, B, B, B, B, B, B]   \n",
              "2  [B, B, B, B, B, B, B, B, B, B, B, B, B, B, B, B]   \n",
              "3                             [B, B, B, B, B, B, B]   \n",
              "4                       [B, B, B, B, B, B, B, B, B]   \n",
              "\n",
              "                                    words_split_num  \\\n",
              "0                       [1, 1, 2, 1, 1, 1, 1, 1, 2]   \n",
              "1                             [1, 1, 1, 1, 1, 1, 1]   \n",
              "2  [1, 1, 1, 1, 1, 1, 1, 1, 1, 1, 1, 1, 1, 1, 1, 1]   \n",
              "3                             [1, 1, 1, 1, 1, 1, 1]   \n",
              "4                       [1, 1, 1, 1, 1, 1, 1, 1, 1]   \n",
              "\n",
              "                                 words_split_num_pad  \n",
              "0  [1, 1, 2, 1, 1, 1, 1, 1, 2, 0, 0, 0, 0, 0, 0, ...  \n",
              "1  [1, 1, 1, 1, 1, 1, 1, 0, 0, 0, 0, 0, 0, 0, 0, ...  \n",
              "2  [1, 1, 1, 1, 1, 1, 1, 1, 1, 1, 1, 1, 1, 1, 1, ...  \n",
              "3  [1, 1, 1, 1, 1, 1, 1, 0, 0, 0, 0, 0, 0, 0, 0, ...  \n",
              "4  [1, 1, 1, 1, 1, 1, 1, 1, 1, 0, 0, 0, 0, 0, 0, ...  "
            ],
            "text/html": [
              "\n",
              "  <div id=\"df-4d99f383-b940-40d5-b07d-f6435d69e6d8\">\n",
              "    <div class=\"colab-df-container\">\n",
              "      <div>\n",
              "<style scoped>\n",
              "    .dataframe tbody tr th:only-of-type {\n",
              "        vertical-align: middle;\n",
              "    }\n",
              "\n",
              "    .dataframe tbody tr th {\n",
              "        vertical-align: top;\n",
              "    }\n",
              "\n",
              "    .dataframe thead th {\n",
              "        text-align: right;\n",
              "    }\n",
              "</style>\n",
              "<table border=\"1\" class=\"dataframe\">\n",
              "  <thead>\n",
              "    <tr style=\"text-align: right;\">\n",
              "      <th></th>\n",
              "      <th>words</th>\n",
              "      <th>words_split</th>\n",
              "      <th>words_split_num</th>\n",
              "      <th>words_split_num_pad</th>\n",
              "    </tr>\n",
              "  </thead>\n",
              "  <tbody>\n",
              "    <tr>\n",
              "      <th>0</th>\n",
              "      <td>[B, B, I, B, B, B, B, B, I]</td>\n",
              "      <td>[B, B, I, B, B, B, B, B, I]</td>\n",
              "      <td>[1, 1, 2, 1, 1, 1, 1, 1, 2]</td>\n",
              "      <td>[1, 1, 2, 1, 1, 1, 1, 1, 2, 0, 0, 0, 0, 0, 0, ...</td>\n",
              "    </tr>\n",
              "    <tr>\n",
              "      <th>1</th>\n",
              "      <td>[B, B, B, B, B, B, B]</td>\n",
              "      <td>[B, B, B, B, B, B, B]</td>\n",
              "      <td>[1, 1, 1, 1, 1, 1, 1]</td>\n",
              "      <td>[1, 1, 1, 1, 1, 1, 1, 0, 0, 0, 0, 0, 0, 0, 0, ...</td>\n",
              "    </tr>\n",
              "    <tr>\n",
              "      <th>2</th>\n",
              "      <td>[B, B, B, B, B, B, B, B, B, B, B, B, B, B, B, B]</td>\n",
              "      <td>[B, B, B, B, B, B, B, B, B, B, B, B, B, B, B, B]</td>\n",
              "      <td>[1, 1, 1, 1, 1, 1, 1, 1, 1, 1, 1, 1, 1, 1, 1, 1]</td>\n",
              "      <td>[1, 1, 1, 1, 1, 1, 1, 1, 1, 1, 1, 1, 1, 1, 1, ...</td>\n",
              "    </tr>\n",
              "    <tr>\n",
              "      <th>3</th>\n",
              "      <td>[B, B, B, B, B, B, B]</td>\n",
              "      <td>[B, B, B, B, B, B, B]</td>\n",
              "      <td>[1, 1, 1, 1, 1, 1, 1]</td>\n",
              "      <td>[1, 1, 1, 1, 1, 1, 1, 0, 0, 0, 0, 0, 0, 0, 0, ...</td>\n",
              "    </tr>\n",
              "    <tr>\n",
              "      <th>4</th>\n",
              "      <td>[B, B, B, B, B, B, B, B, B]</td>\n",
              "      <td>[B, B, B, B, B, B, B, B, B]</td>\n",
              "      <td>[1, 1, 1, 1, 1, 1, 1, 1, 1]</td>\n",
              "      <td>[1, 1, 1, 1, 1, 1, 1, 1, 1, 0, 0, 0, 0, 0, 0, ...</td>\n",
              "    </tr>\n",
              "  </tbody>\n",
              "</table>\n",
              "</div>\n",
              "      <button class=\"colab-df-convert\" onclick=\"convertToInteractive('df-4d99f383-b940-40d5-b07d-f6435d69e6d8')\"\n",
              "              title=\"Convert this dataframe to an interactive table.\"\n",
              "              style=\"display:none;\">\n",
              "        \n",
              "  <svg xmlns=\"http://www.w3.org/2000/svg\" height=\"24px\"viewBox=\"0 0 24 24\"\n",
              "       width=\"24px\">\n",
              "    <path d=\"M0 0h24v24H0V0z\" fill=\"none\"/>\n",
              "    <path d=\"M18.56 5.44l.94 2.06.94-2.06 2.06-.94-2.06-.94-.94-2.06-.94 2.06-2.06.94zm-11 1L8.5 8.5l.94-2.06 2.06-.94-2.06-.94L8.5 2.5l-.94 2.06-2.06.94zm10 10l.94 2.06.94-2.06 2.06-.94-2.06-.94-.94-2.06-.94 2.06-2.06.94z\"/><path d=\"M17.41 7.96l-1.37-1.37c-.4-.4-.92-.59-1.43-.59-.52 0-1.04.2-1.43.59L10.3 9.45l-7.72 7.72c-.78.78-.78 2.05 0 2.83L4 21.41c.39.39.9.59 1.41.59.51 0 1.02-.2 1.41-.59l7.78-7.78 2.81-2.81c.8-.78.8-2.07 0-2.86zM5.41 20L4 18.59l7.72-7.72 1.47 1.35L5.41 20z\"/>\n",
              "  </svg>\n",
              "      </button>\n",
              "      \n",
              "  <style>\n",
              "    .colab-df-container {\n",
              "      display:flex;\n",
              "      flex-wrap:wrap;\n",
              "      gap: 12px;\n",
              "    }\n",
              "\n",
              "    .colab-df-convert {\n",
              "      background-color: #E8F0FE;\n",
              "      border: none;\n",
              "      border-radius: 50%;\n",
              "      cursor: pointer;\n",
              "      display: none;\n",
              "      fill: #1967D2;\n",
              "      height: 32px;\n",
              "      padding: 0 0 0 0;\n",
              "      width: 32px;\n",
              "    }\n",
              "\n",
              "    .colab-df-convert:hover {\n",
              "      background-color: #E2EBFA;\n",
              "      box-shadow: 0px 1px 2px rgba(60, 64, 67, 0.3), 0px 1px 3px 1px rgba(60, 64, 67, 0.15);\n",
              "      fill: #174EA6;\n",
              "    }\n",
              "\n",
              "    [theme=dark] .colab-df-convert {\n",
              "      background-color: #3B4455;\n",
              "      fill: #D2E3FC;\n",
              "    }\n",
              "\n",
              "    [theme=dark] .colab-df-convert:hover {\n",
              "      background-color: #434B5C;\n",
              "      box-shadow: 0px 1px 3px 1px rgba(0, 0, 0, 0.15);\n",
              "      filter: drop-shadow(0px 1px 2px rgba(0, 0, 0, 0.3));\n",
              "      fill: #FFFFFF;\n",
              "    }\n",
              "  </style>\n",
              "\n",
              "      <script>\n",
              "        const buttonEl =\n",
              "          document.querySelector('#df-4d99f383-b940-40d5-b07d-f6435d69e6d8 button.colab-df-convert');\n",
              "        buttonEl.style.display =\n",
              "          google.colab.kernel.accessAllowed ? 'block' : 'none';\n",
              "\n",
              "        async function convertToInteractive(key) {\n",
              "          const element = document.querySelector('#df-4d99f383-b940-40d5-b07d-f6435d69e6d8');\n",
              "          const dataTable =\n",
              "            await google.colab.kernel.invokeFunction('convertToInteractive',\n",
              "                                                     [key], {});\n",
              "          if (!dataTable) return;\n",
              "\n",
              "          const docLinkHtml = 'Like what you see? Visit the ' +\n",
              "            '<a target=\"_blank\" href=https://colab.research.google.com/notebooks/data_table.ipynb>data table notebook</a>'\n",
              "            + ' to learn more about interactive tables.';\n",
              "          element.innerHTML = '';\n",
              "          dataTable['output_type'] = 'display_data';\n",
              "          await google.colab.output.renderOutput(dataTable, element);\n",
              "          const docLink = document.createElement('div');\n",
              "          docLink.innerHTML = docLinkHtml;\n",
              "          element.appendChild(docLink);\n",
              "        }\n",
              "      </script>\n",
              "    </div>\n",
              "  </div>\n",
              "  "
            ]
          },
          "metadata": {},
          "execution_count": 18
        }
      ]
    },
    {
      "cell_type": "code",
      "source": [
        "labels_array1 = np.argmax(labels_array, axis=-1)\n",
        "[labels_DP.data_params['Num2Letters'][i] for i in labels_array1[0] if i!=0]"
      ],
      "metadata": {
        "colab": {
          "base_uri": "https://localhost:8080/"
        },
        "id": "LGC1M8mL9gal",
        "outputId": "1a387c49-50a7-4be1-9b2d-9baeb89cecce"
      },
      "execution_count": null,
      "outputs": [
        {
          "output_type": "execute_result",
          "data": {
            "text/plain": [
              "['B', 'B', 'I', 'B', 'B', 'B', 'B', 'B', 'I']"
            ]
          },
          "metadata": {},
          "execution_count": 19
        }
      ]
    },
    {
      "cell_type": "markdown",
      "source": [
        "## **Model Preparation & Training**"
      ],
      "metadata": {
        "id": "zAQ65eGL-AMI"
      }
    },
    {
      "cell_type": "code",
      "source": [
        "class HmmModel:\n",
        "  def __init__(self, X, Y, input_dim, input_length, dense_val, Num2Letters):\n",
        "    self.X = X\n",
        "    self.Y = Y\n",
        "    self.input_dim = input_dim\n",
        "    self.input_length = input_length\n",
        "    self.dense_val = dense_val\n",
        "    self.Num2Letters = Num2Letters\n",
        "    self.Y_pred = []\n",
        "    self.Y_pred_text = []\n",
        "\n",
        "    self.model = Sequential()\n",
        "    self.model.add(Embedding(input_dim=self.input_dim, output_dim=50, input_length=self.input_length))\n",
        "    self.model.add(Bidirectional(LSTM(units=100, return_sequences=True, recurrent_dropout=0.2)))\n",
        "    self.model.add(TimeDistributed(Dense(self.dense_val, activation=\"softmax\")))\n",
        "    self.model.compile(optimizer=\"adam\", loss=\"categorical_crossentropy\", metrics=[\"accuracy\"])\n",
        "    print(\"%%%%%%%%%%%%%%%%%%%%%%%%%%% Model Summary %%%%%%%%%%%%%%%%%%%%%%%%%%%\")\n",
        "    print(self.model.summary())\n",
        "    print(\"\\n\")\n",
        "  \n",
        "  def train(self):\n",
        "    startTime = datetime.now()\n",
        "    print(\"%%%%%%%%%%%%%%%%%%%%%%%%%%% Model Training %%%%%%%%%%%%%%%%%%%%%%%%%%%\")\n",
        "    history = self.model.fit(self.X, self.Y, batch_size=5, epochs=1, validation_split=0.2, verbose=1)\n",
        "    endTime = datetime.now()\n",
        "    print(f\"Training is completed Successfully in Time : {endTime-startTime}\")\n",
        "    print(\"\\n\")\n",
        "  \n",
        "  def predict_result(self, X):\n",
        "    startTime = datetime.now()\n",
        "    print(\"%%%%%%%%%%%%%%%%%%%%%%%%%%% Model Predictions %%%%%%%%%%%%%%%%%%%%%%%%%%%\")\n",
        "    self.Y_pred = self.model.predict(X)\n",
        "    self.Y_pred = np.argmax(self.Y_pred, axis=-1)\n",
        "    endTime = datetime.now()\n",
        "    print(f\"Prediction is completed Successfully in Time : {endTime-startTime}\")\n",
        "    print(\"\\n\")\n",
        "    return self.Y_pred\n",
        "  \n",
        "  def predict_text(self, Y_pred=\"None\"):\n",
        "    startTime = datetime.now()\n",
        "    if Y_pred == \"None\":\n",
        "      Y_pred = self.Y_pred\n",
        "\n",
        "    if len(Y_pred)==0:\n",
        "      print(\"----------------------- WARNING -----------------------\")\n",
        "      print(\"Caution: Run function : HmmModel.predict(input)\")\n",
        "      print(\"\\n\")\n",
        "      return \"\"\n",
        "    print(\"%%%%%%%%%%%%%%%%%%%%%%%%%%% Model Prediction Strings %%%%%%%%%%%%%%%%%%%%%%%%%%%\")\n",
        "    for tag_num in Y_pred:\n",
        "      tag = \"\"\n",
        "      for j in [n for n in tag_num if n!=0]:\n",
        "        tag += self.Num2Letters[j] +\"-\"\n",
        "      else:\n",
        "        tag = tag[:-1]\n",
        "      self.Y_pred_text.append(tag)\n",
        "    endTime = datetime.now()\n",
        "    print(f\"Prediction is completed Successfully in Time : {endTime-startTime}\")\n",
        "    print(\"\\n\")\n",
        "    return self.Y_pred_text\n",
        "  \n",
        "  def evaluate_ModelAccuracy(self, X, Y):\n",
        "    Y_actual = np.argmax(Y, axis=-1)\n",
        "    Y_pred = self.predict_result(X)\n",
        "    Y_actual = [n for i in range(len(Y_actual)) for n in Y_actual[i]]\n",
        "    Y_pred = [n for i in range(len(Y_pred)) for n in Y_pred[i]]\n",
        "    \n",
        "    total_length = len(Y_actual)\n",
        "    count = 0\n",
        "    for i in range(total_length):\n",
        "      if Y_actual[i]==Y_pred[i]:\n",
        "        count += 1\n",
        "    print(f\"Model accuracy : {np.round((count/total_length)*100, 2)}%\", )\n",
        "    return \"\"\n",
        "  \n",
        "  def saveModel(self, FilePath):\n",
        "    self.model.save(FilePath)\n",
        "    print(\"Model is saved successfully\")\n",
        "    return \"\"\n",
        "\n",
        "  def loadModel(self, FilPath):\n",
        "    self.model = self.model.load_weights(FilePath)\n",
        "    print(\"Model is loaded successfully\")\n",
        "    return \"\""
      ],
      "metadata": {
        "id": "iYXktTSyKedM"
      },
      "execution_count": null,
      "outputs": []
    },
    {
      "cell_type": "markdown",
      "source": [
        "### **Model training: Words to Tags**"
      ],
      "metadata": {
        "id": "yIXWpcRx_NhH"
      }
    },
    {
      "cell_type": "code",
      "source": [
        "X = words_array\n",
        "Y = tags_array\n",
        "input_dim = words_DP.data_params['UniqueLettersLength'] # words_A_UniqueLettersLength # 28\n",
        "input_length = words_DP.data_params['maxLength'] # words_A_MaxLength # 20\n",
        "dense_val = Y.shape[2] # 33\n",
        "Num2Letters = tags_DP.data_params['Num2Letters']\n",
        "\n",
        "\n",
        "print(f\"Input Dimension : {input_dim}\")\n",
        "print(f\"Input Length : {input_length}\")\n",
        "print(f\"Dense : {dense_val}\")\n",
        "\n",
        "\n",
        "model_Words2Tags = HmmModel(X, Y, input_dim, input_length, dense_val, Num2Letters)\n",
        "model_Words2Tags.train()\n",
        "_ = model_Words2Tags.evaluate_ModelAccuracy(X, Y)\n",
        "\n",
        "train_tags_pred = model_Words2Tags.predict_result(X)\n",
        "train_tags_pred_text = model_Words2Tags.predict_text()"
      ],
      "metadata": {
        "colab": {
          "base_uri": "https://localhost:8080/"
        },
        "id": "Z76qBYRrbHfg",
        "outputId": "3e84e484-3369-450c-dd96-965a9bf29b7d"
      },
      "execution_count": null,
      "outputs": [
        {
          "output_type": "stream",
          "name": "stdout",
          "text": [
            "Input Dimension : 28\n",
            "Input Length : 20\n",
            "Dense : 33\n",
            "%%%%%%%%%%%%%%%%%%%%%%%%%%% Model Summary %%%%%%%%%%%%%%%%%%%%%%%%%%%\n",
            "Model: \"sequential\"\n",
            "_________________________________________________________________\n",
            " Layer (type)                Output Shape              Param #   \n",
            "=================================================================\n",
            " embedding (Embedding)       (None, 20, 50)            1400      \n",
            "                                                                 \n",
            " bidirectional (Bidirectiona  (None, 20, 200)          120800    \n",
            " l)                                                              \n",
            "                                                                 \n",
            " time_distributed (TimeDistr  (None, 20, 33)           6633      \n",
            " ibuted)                                                         \n",
            "                                                                 \n",
            "=================================================================\n",
            "Total params: 128,833\n",
            "Trainable params: 128,833\n",
            "Non-trainable params: 0\n",
            "_________________________________________________________________\n",
            "None\n",
            "\n",
            "\n",
            "%%%%%%%%%%%%%%%%%%%%%%%%%%% Model Training %%%%%%%%%%%%%%%%%%%%%%%%%%%\n",
            "2050/2050 [==============================] - 134s 63ms/step - loss: 0.3929 - accuracy: 0.8987 - val_loss: 0.0702 - val_accuracy: 0.9804\n",
            "Training is completed Successfully in Time : 0:02:14.697024\n",
            "\n",
            "\n",
            "%%%%%%%%%%%%%%%%%%%%%%%%%%% Model Predictions %%%%%%%%%%%%%%%%%%%%%%%%%%%\n",
            "Prediction is completed Successfully in Time : 0:00:05.636519\n",
            "\n",
            "\n",
            "Model accuracy : 98.18%\n",
            "%%%%%%%%%%%%%%%%%%%%%%%%%%% Model Predictions %%%%%%%%%%%%%%%%%%%%%%%%%%%\n",
            "Prediction is completed Successfully in Time : 0:00:04.625746\n",
            "\n",
            "\n",
            "%%%%%%%%%%%%%%%%%%%%%%%%%%% Model Prediction Strings %%%%%%%%%%%%%%%%%%%%%%%%%%%\n",
            "Prediction is completed Successfully in Time : 0:00:00.108249\n",
            "\n",
            "\n"
          ]
        }
      ]
    },
    {
      "cell_type": "code",
      "source": [
        "train_result_df = pd.DataFrame()\n",
        "train_result_df['actual_words'] = words_DP.data['words']\n",
        "train_result_df['actual_tags'] = list(tags_DP.data['words'])\n",
        "train_result_df['predicted_tags'] = train_tags_pred_text\n",
        "train_result_df.head()"
      ],
      "metadata": {
        "colab": {
          "base_uri": "https://localhost:8080/",
          "height": 206
        },
        "id": "T6LBMJjjy407",
        "outputId": "a39b3371-c799-4941-f454-0573fbce61d7"
      },
      "execution_count": null,
      "outputs": [
        {
          "output_type": "execute_result",
          "data": {
            "text/plain": [
              "       actual_words                      actual_tags  \\\n",
              "0         konsiltan                  k-on-s-i-l-t-an   \n",
              "1           depotwa                    d-e-p-o-t-w-a   \n",
              "2  sosyopwofesyonèl  s-o-s-y-o-p-w-o-f-e-s-y-o-n-è-l   \n",
              "3           vejetal                    v-e-j-e-t-a-l   \n",
              "4         repibliye                r-e-p-i-b-l-i-y-e   \n",
              "\n",
              "                    predicted_tags  \n",
              "0                  k-on-s-i-l-t-an  \n",
              "1                    d-e-p-o-t-w-a  \n",
              "2  s-o-s-y-o-p-w-o-f-e-s-y-o-n-è-l  \n",
              "3                    v-e-j-e-t-a-l  \n",
              "4                r-e-p-i-b-l-i-y-e  "
            ],
            "text/html": [
              "\n",
              "  <div id=\"df-76a18c13-0940-4959-981f-8add515c2070\">\n",
              "    <div class=\"colab-df-container\">\n",
              "      <div>\n",
              "<style scoped>\n",
              "    .dataframe tbody tr th:only-of-type {\n",
              "        vertical-align: middle;\n",
              "    }\n",
              "\n",
              "    .dataframe tbody tr th {\n",
              "        vertical-align: top;\n",
              "    }\n",
              "\n",
              "    .dataframe thead th {\n",
              "        text-align: right;\n",
              "    }\n",
              "</style>\n",
              "<table border=\"1\" class=\"dataframe\">\n",
              "  <thead>\n",
              "    <tr style=\"text-align: right;\">\n",
              "      <th></th>\n",
              "      <th>actual_words</th>\n",
              "      <th>actual_tags</th>\n",
              "      <th>predicted_tags</th>\n",
              "    </tr>\n",
              "  </thead>\n",
              "  <tbody>\n",
              "    <tr>\n",
              "      <th>0</th>\n",
              "      <td>konsiltan</td>\n",
              "      <td>k-on-s-i-l-t-an</td>\n",
              "      <td>k-on-s-i-l-t-an</td>\n",
              "    </tr>\n",
              "    <tr>\n",
              "      <th>1</th>\n",
              "      <td>depotwa</td>\n",
              "      <td>d-e-p-o-t-w-a</td>\n",
              "      <td>d-e-p-o-t-w-a</td>\n",
              "    </tr>\n",
              "    <tr>\n",
              "      <th>2</th>\n",
              "      <td>sosyopwofesyonèl</td>\n",
              "      <td>s-o-s-y-o-p-w-o-f-e-s-y-o-n-è-l</td>\n",
              "      <td>s-o-s-y-o-p-w-o-f-e-s-y-o-n-è-l</td>\n",
              "    </tr>\n",
              "    <tr>\n",
              "      <th>3</th>\n",
              "      <td>vejetal</td>\n",
              "      <td>v-e-j-e-t-a-l</td>\n",
              "      <td>v-e-j-e-t-a-l</td>\n",
              "    </tr>\n",
              "    <tr>\n",
              "      <th>4</th>\n",
              "      <td>repibliye</td>\n",
              "      <td>r-e-p-i-b-l-i-y-e</td>\n",
              "      <td>r-e-p-i-b-l-i-y-e</td>\n",
              "    </tr>\n",
              "  </tbody>\n",
              "</table>\n",
              "</div>\n",
              "      <button class=\"colab-df-convert\" onclick=\"convertToInteractive('df-76a18c13-0940-4959-981f-8add515c2070')\"\n",
              "              title=\"Convert this dataframe to an interactive table.\"\n",
              "              style=\"display:none;\">\n",
              "        \n",
              "  <svg xmlns=\"http://www.w3.org/2000/svg\" height=\"24px\"viewBox=\"0 0 24 24\"\n",
              "       width=\"24px\">\n",
              "    <path d=\"M0 0h24v24H0V0z\" fill=\"none\"/>\n",
              "    <path d=\"M18.56 5.44l.94 2.06.94-2.06 2.06-.94-2.06-.94-.94-2.06-.94 2.06-2.06.94zm-11 1L8.5 8.5l.94-2.06 2.06-.94-2.06-.94L8.5 2.5l-.94 2.06-2.06.94zm10 10l.94 2.06.94-2.06 2.06-.94-2.06-.94-.94-2.06-.94 2.06-2.06.94z\"/><path d=\"M17.41 7.96l-1.37-1.37c-.4-.4-.92-.59-1.43-.59-.52 0-1.04.2-1.43.59L10.3 9.45l-7.72 7.72c-.78.78-.78 2.05 0 2.83L4 21.41c.39.39.9.59 1.41.59.51 0 1.02-.2 1.41-.59l7.78-7.78 2.81-2.81c.8-.78.8-2.07 0-2.86zM5.41 20L4 18.59l7.72-7.72 1.47 1.35L5.41 20z\"/>\n",
              "  </svg>\n",
              "      </button>\n",
              "      \n",
              "  <style>\n",
              "    .colab-df-container {\n",
              "      display:flex;\n",
              "      flex-wrap:wrap;\n",
              "      gap: 12px;\n",
              "    }\n",
              "\n",
              "    .colab-df-convert {\n",
              "      background-color: #E8F0FE;\n",
              "      border: none;\n",
              "      border-radius: 50%;\n",
              "      cursor: pointer;\n",
              "      display: none;\n",
              "      fill: #1967D2;\n",
              "      height: 32px;\n",
              "      padding: 0 0 0 0;\n",
              "      width: 32px;\n",
              "    }\n",
              "\n",
              "    .colab-df-convert:hover {\n",
              "      background-color: #E2EBFA;\n",
              "      box-shadow: 0px 1px 2px rgba(60, 64, 67, 0.3), 0px 1px 3px 1px rgba(60, 64, 67, 0.15);\n",
              "      fill: #174EA6;\n",
              "    }\n",
              "\n",
              "    [theme=dark] .colab-df-convert {\n",
              "      background-color: #3B4455;\n",
              "      fill: #D2E3FC;\n",
              "    }\n",
              "\n",
              "    [theme=dark] .colab-df-convert:hover {\n",
              "      background-color: #434B5C;\n",
              "      box-shadow: 0px 1px 3px 1px rgba(0, 0, 0, 0.15);\n",
              "      filter: drop-shadow(0px 1px 2px rgba(0, 0, 0, 0.3));\n",
              "      fill: #FFFFFF;\n",
              "    }\n",
              "  </style>\n",
              "\n",
              "      <script>\n",
              "        const buttonEl =\n",
              "          document.querySelector('#df-76a18c13-0940-4959-981f-8add515c2070 button.colab-df-convert');\n",
              "        buttonEl.style.display =\n",
              "          google.colab.kernel.accessAllowed ? 'block' : 'none';\n",
              "\n",
              "        async function convertToInteractive(key) {\n",
              "          const element = document.querySelector('#df-76a18c13-0940-4959-981f-8add515c2070');\n",
              "          const dataTable =\n",
              "            await google.colab.kernel.invokeFunction('convertToInteractive',\n",
              "                                                     [key], {});\n",
              "          if (!dataTable) return;\n",
              "\n",
              "          const docLinkHtml = 'Like what you see? Visit the ' +\n",
              "            '<a target=\"_blank\" href=https://colab.research.google.com/notebooks/data_table.ipynb>data table notebook</a>'\n",
              "            + ' to learn more about interactive tables.';\n",
              "          element.innerHTML = '';\n",
              "          dataTable['output_type'] = 'display_data';\n",
              "          await google.colab.output.renderOutput(dataTable, element);\n",
              "          const docLink = document.createElement('div');\n",
              "          docLink.innerHTML = docLinkHtml;\n",
              "          element.appendChild(docLink);\n",
              "        }\n",
              "      </script>\n",
              "    </div>\n",
              "  </div>\n",
              "  "
            ]
          },
          "metadata": {},
          "execution_count": 23
        }
      ]
    },
    {
      "cell_type": "code",
      "source": [
        "FilePath = \"/content/drive/MyDrive/NLP/Assignment02/data/Output_Files/train_result_from_model_W2T.txt\"\n",
        "train_file = open(FilePath,\"w\")\n",
        "\n",
        "for i in range(len(train_result_df)):\n",
        "  text = str(train_result_df.loc[i, \"actual_words\"])+\"\\t\"+str(train_result_df.loc[i, \"predicted_tags\"])+\"\\n\"\n",
        "  train_file.write(text)\n",
        "train_file.close()"
      ],
      "metadata": {
        "id": "dDb2Vl2ZzUps"
      },
      "execution_count": null,
      "outputs": []
    },
    {
      "cell_type": "code",
      "source": [
        "train_result_df.to_csv(\"/content/drive/MyDrive/NLP/Assignment02/data/Output_Files/train_result_from_model_W2T.csv\", index=False)"
      ],
      "metadata": {
        "id": "6uoPQrIn0WDT"
      },
      "execution_count": null,
      "outputs": []
    },
    {
      "cell_type": "code",
      "source": [
        "model_Words2Tags.saveModel(\"/content/drive/MyDrive/NLP/Assignment02/data/Models/model_Words2Tags.h5\")"
      ],
      "metadata": {
        "colab": {
          "base_uri": "https://localhost:8080/",
          "height": 53
        },
        "id": "de2hbeLB6t6M",
        "outputId": "85a30296-c241-4b3d-a82f-9e5cb33b2de5"
      },
      "execution_count": null,
      "outputs": [
        {
          "output_type": "stream",
          "name": "stdout",
          "text": [
            "Model is saved successfully\n"
          ]
        },
        {
          "output_type": "execute_result",
          "data": {
            "text/plain": [
              "''"
            ],
            "application/vnd.google.colaboratory.intrinsic+json": {
              "type": "string"
            }
          },
          "metadata": {},
          "execution_count": 75
        }
      ]
    },
    {
      "cell_type": "markdown",
      "source": [
        "### **Model training: Words to Labels**"
      ],
      "metadata": {
        "id": "26Lnll4OgSuJ"
      }
    },
    {
      "cell_type": "code",
      "source": [
        "X = words_array\n",
        "Y = labels_array\n",
        "input_dim = words_DP.data_params['UniqueLettersLength'] # words_A_UniqueLettersLength # 28\n",
        "input_length = words_DP.data_params['maxLength'] # words_A_MaxLength # 20\n",
        "dense_val = Y.shape[2] # 3\n",
        "labels_Num2Letters = labels_DP.data_params['Num2Letters']\n",
        "\n",
        "\n",
        "print(f\"Input Dimension : {input_dim}\")\n",
        "print(f\"Input Length : {input_length}\")\n",
        "print(f\"Dense : {dense_val}\")\n",
        "\n",
        "\n",
        "model_Words2Labels = HmmModel(X, Y, input_dim, input_length, dense_val, labels_Num2Letters)\n",
        "model_Words2Labels.train()\n",
        "_ = model_Words2Labels.evaluate_ModelAccuracy(X, Y)"
      ],
      "metadata": {
        "colab": {
          "base_uri": "https://localhost:8080/"
        },
        "id": "PYoYr-oCAtDb",
        "outputId": "b6f97ab6-2208-4e7a-98de-42a0ef74e21b"
      },
      "execution_count": null,
      "outputs": [
        {
          "output_type": "stream",
          "name": "stdout",
          "text": [
            "Input Dimension : 28\n",
            "Input Length : 20\n",
            "Dense : 3\n",
            "%%%%%%%%%%%%%%%%%%%%%%%%%%% Model Summary %%%%%%%%%%%%%%%%%%%%%%%%%%%\n",
            "Model: \"sequential_1\"\n",
            "_________________________________________________________________\n",
            " Layer (type)                Output Shape              Param #   \n",
            "=================================================================\n",
            " embedding_1 (Embedding)     (None, 20, 50)            1400      \n",
            "                                                                 \n",
            " bidirectional_1 (Bidirectio  (None, 20, 200)          120800    \n",
            " nal)                                                            \n",
            "                                                                 \n",
            " time_distributed_1 (TimeDis  (None, 20, 3)            603       \n",
            " tributed)                                                       \n",
            "                                                                 \n",
            "=================================================================\n",
            "Total params: 122,803\n",
            "Trainable params: 122,803\n",
            "Non-trainable params: 0\n",
            "_________________________________________________________________\n",
            "None\n",
            "\n",
            "\n",
            "%%%%%%%%%%%%%%%%%%%%%%%%%%% Model Training %%%%%%%%%%%%%%%%%%%%%%%%%%%\n",
            "2050/2050 [==============================] - 130s 61ms/step - loss: 0.0320 - accuracy: 0.9897 - val_loss: 0.0029 - val_accuracy: 0.9997\n",
            "Training is completed Successfully in Time : 0:02:26.558081\n",
            "\n",
            "\n",
            "%%%%%%%%%%%%%%%%%%%%%%%%%%% Model Predictions %%%%%%%%%%%%%%%%%%%%%%%%%%%\n",
            "Prediction is completed Successfully in Time : 0:00:05.599243\n",
            "\n",
            "\n",
            "Model accuracy : 99.94%\n"
          ]
        }
      ]
    },
    {
      "cell_type": "code",
      "source": [
        "train_labels_pred = model_Words2Labels.predict_result(X)\n",
        "train_labels_pred_text = model_Words2Labels.predict_text()"
      ],
      "metadata": {
        "colab": {
          "base_uri": "https://localhost:8080/"
        },
        "id": "QUL-8cBWBYBk",
        "outputId": "159f81c2-3c32-40dc-951e-aac41acedc3d"
      },
      "execution_count": null,
      "outputs": [
        {
          "output_type": "stream",
          "name": "stdout",
          "text": [
            "%%%%%%%%%%%%%%%%%%%%%%%%%%% Model Predictions %%%%%%%%%%%%%%%%%%%%%%%%%%%\n",
            "Prediction is completed Successfully in Time : 0:00:04.347110\n",
            "\n",
            "\n",
            "%%%%%%%%%%%%%%%%%%%%%%%%%%% Model Prediction Strings %%%%%%%%%%%%%%%%%%%%%%%%%%%\n",
            "Prediction is completed Successfully in Time : 0:00:00.115286\n",
            "\n",
            "\n"
          ]
        }
      ]
    },
    {
      "cell_type": "code",
      "source": [
        "train_result_df2 = pd.DataFrame()\n",
        "train_result_df2['actual_words'] = words_DP.data['words']\n",
        "train_result_df2['actual_labels'] = list(labels_DP.data['words'])\n",
        "train_result_df2['predicted_labels'] = [word.split(\"-\") for word in train_labels_pred_text]\n",
        "train_result_df2.head()"
      ],
      "metadata": {
        "colab": {
          "base_uri": "https://localhost:8080/",
          "height": 206
        },
        "id": "LPVJEUrKBceO",
        "outputId": "37e29fff-746e-4e9a-c751-5a9d6141563e"
      },
      "execution_count": null,
      "outputs": [
        {
          "output_type": "execute_result",
          "data": {
            "text/plain": [
              "       actual_words                                     actual_labels  \\\n",
              "0         konsiltan                       [B, B, I, B, B, B, B, B, I]   \n",
              "1           depotwa                             [B, B, B, B, B, B, B]   \n",
              "2  sosyopwofesyonèl  [B, B, B, B, B, B, B, B, B, B, B, B, B, B, B, B]   \n",
              "3           vejetal                             [B, B, B, B, B, B, B]   \n",
              "4         repibliye                       [B, B, B, B, B, B, B, B, B]   \n",
              "\n",
              "                                   predicted_labels  \n",
              "0                       [B, B, I, B, B, B, B, B, I]  \n",
              "1                             [B, B, B, B, B, B, B]  \n",
              "2  [B, B, B, B, B, B, B, B, B, B, B, B, B, B, B, B]  \n",
              "3                             [B, B, B, B, B, B, B]  \n",
              "4                       [B, B, B, B, B, B, B, B, B]  "
            ],
            "text/html": [
              "\n",
              "  <div id=\"df-1361b062-4f82-4133-831b-d5dec326d3a4\">\n",
              "    <div class=\"colab-df-container\">\n",
              "      <div>\n",
              "<style scoped>\n",
              "    .dataframe tbody tr th:only-of-type {\n",
              "        vertical-align: middle;\n",
              "    }\n",
              "\n",
              "    .dataframe tbody tr th {\n",
              "        vertical-align: top;\n",
              "    }\n",
              "\n",
              "    .dataframe thead th {\n",
              "        text-align: right;\n",
              "    }\n",
              "</style>\n",
              "<table border=\"1\" class=\"dataframe\">\n",
              "  <thead>\n",
              "    <tr style=\"text-align: right;\">\n",
              "      <th></th>\n",
              "      <th>actual_words</th>\n",
              "      <th>actual_labels</th>\n",
              "      <th>predicted_labels</th>\n",
              "    </tr>\n",
              "  </thead>\n",
              "  <tbody>\n",
              "    <tr>\n",
              "      <th>0</th>\n",
              "      <td>konsiltan</td>\n",
              "      <td>[B, B, I, B, B, B, B, B, I]</td>\n",
              "      <td>[B, B, I, B, B, B, B, B, I]</td>\n",
              "    </tr>\n",
              "    <tr>\n",
              "      <th>1</th>\n",
              "      <td>depotwa</td>\n",
              "      <td>[B, B, B, B, B, B, B]</td>\n",
              "      <td>[B, B, B, B, B, B, B]</td>\n",
              "    </tr>\n",
              "    <tr>\n",
              "      <th>2</th>\n",
              "      <td>sosyopwofesyonèl</td>\n",
              "      <td>[B, B, B, B, B, B, B, B, B, B, B, B, B, B, B, B]</td>\n",
              "      <td>[B, B, B, B, B, B, B, B, B, B, B, B, B, B, B, B]</td>\n",
              "    </tr>\n",
              "    <tr>\n",
              "      <th>3</th>\n",
              "      <td>vejetal</td>\n",
              "      <td>[B, B, B, B, B, B, B]</td>\n",
              "      <td>[B, B, B, B, B, B, B]</td>\n",
              "    </tr>\n",
              "    <tr>\n",
              "      <th>4</th>\n",
              "      <td>repibliye</td>\n",
              "      <td>[B, B, B, B, B, B, B, B, B]</td>\n",
              "      <td>[B, B, B, B, B, B, B, B, B]</td>\n",
              "    </tr>\n",
              "  </tbody>\n",
              "</table>\n",
              "</div>\n",
              "      <button class=\"colab-df-convert\" onclick=\"convertToInteractive('df-1361b062-4f82-4133-831b-d5dec326d3a4')\"\n",
              "              title=\"Convert this dataframe to an interactive table.\"\n",
              "              style=\"display:none;\">\n",
              "        \n",
              "  <svg xmlns=\"http://www.w3.org/2000/svg\" height=\"24px\"viewBox=\"0 0 24 24\"\n",
              "       width=\"24px\">\n",
              "    <path d=\"M0 0h24v24H0V0z\" fill=\"none\"/>\n",
              "    <path d=\"M18.56 5.44l.94 2.06.94-2.06 2.06-.94-2.06-.94-.94-2.06-.94 2.06-2.06.94zm-11 1L8.5 8.5l.94-2.06 2.06-.94-2.06-.94L8.5 2.5l-.94 2.06-2.06.94zm10 10l.94 2.06.94-2.06 2.06-.94-2.06-.94-.94-2.06-.94 2.06-2.06.94z\"/><path d=\"M17.41 7.96l-1.37-1.37c-.4-.4-.92-.59-1.43-.59-.52 0-1.04.2-1.43.59L10.3 9.45l-7.72 7.72c-.78.78-.78 2.05 0 2.83L4 21.41c.39.39.9.59 1.41.59.51 0 1.02-.2 1.41-.59l7.78-7.78 2.81-2.81c.8-.78.8-2.07 0-2.86zM5.41 20L4 18.59l7.72-7.72 1.47 1.35L5.41 20z\"/>\n",
              "  </svg>\n",
              "      </button>\n",
              "      \n",
              "  <style>\n",
              "    .colab-df-container {\n",
              "      display:flex;\n",
              "      flex-wrap:wrap;\n",
              "      gap: 12px;\n",
              "    }\n",
              "\n",
              "    .colab-df-convert {\n",
              "      background-color: #E8F0FE;\n",
              "      border: none;\n",
              "      border-radius: 50%;\n",
              "      cursor: pointer;\n",
              "      display: none;\n",
              "      fill: #1967D2;\n",
              "      height: 32px;\n",
              "      padding: 0 0 0 0;\n",
              "      width: 32px;\n",
              "    }\n",
              "\n",
              "    .colab-df-convert:hover {\n",
              "      background-color: #E2EBFA;\n",
              "      box-shadow: 0px 1px 2px rgba(60, 64, 67, 0.3), 0px 1px 3px 1px rgba(60, 64, 67, 0.15);\n",
              "      fill: #174EA6;\n",
              "    }\n",
              "\n",
              "    [theme=dark] .colab-df-convert {\n",
              "      background-color: #3B4455;\n",
              "      fill: #D2E3FC;\n",
              "    }\n",
              "\n",
              "    [theme=dark] .colab-df-convert:hover {\n",
              "      background-color: #434B5C;\n",
              "      box-shadow: 0px 1px 3px 1px rgba(0, 0, 0, 0.15);\n",
              "      filter: drop-shadow(0px 1px 2px rgba(0, 0, 0, 0.3));\n",
              "      fill: #FFFFFF;\n",
              "    }\n",
              "  </style>\n",
              "\n",
              "      <script>\n",
              "        const buttonEl =\n",
              "          document.querySelector('#df-1361b062-4f82-4133-831b-d5dec326d3a4 button.colab-df-convert');\n",
              "        buttonEl.style.display =\n",
              "          google.colab.kernel.accessAllowed ? 'block' : 'none';\n",
              "\n",
              "        async function convertToInteractive(key) {\n",
              "          const element = document.querySelector('#df-1361b062-4f82-4133-831b-d5dec326d3a4');\n",
              "          const dataTable =\n",
              "            await google.colab.kernel.invokeFunction('convertToInteractive',\n",
              "                                                     [key], {});\n",
              "          if (!dataTable) return;\n",
              "\n",
              "          const docLinkHtml = 'Like what you see? Visit the ' +\n",
              "            '<a target=\"_blank\" href=https://colab.research.google.com/notebooks/data_table.ipynb>data table notebook</a>'\n",
              "            + ' to learn more about interactive tables.';\n",
              "          element.innerHTML = '';\n",
              "          dataTable['output_type'] = 'display_data';\n",
              "          await google.colab.output.renderOutput(dataTable, element);\n",
              "          const docLink = document.createElement('div');\n",
              "          docLink.innerHTML = docLinkHtml;\n",
              "          element.appendChild(docLink);\n",
              "        }\n",
              "      </script>\n",
              "    </div>\n",
              "  </div>\n",
              "  "
            ]
          },
          "metadata": {},
          "execution_count": 52
        }
      ]
    },
    {
      "cell_type": "code",
      "source": [
        "def find_Labels2Num(label):\n",
        "  label_rev_val = []\n",
        "  label_rev = list(reversed(label))\n",
        "  label_val = []\n",
        "  for val in label_rev:\n",
        "    if val==\"I\":\n",
        "      label_val.append(val)\n",
        "    elif val==\"B\":\n",
        "      label_val.append(val)\n",
        "      label_rev_val.append(len(label_val))\n",
        "      label_val = []\n",
        "  label_val = list(reversed(label_rev_val))\n",
        "  return label_val\n",
        "train_result_df2['predicted_labels_num'] = train_result_df2['predicted_labels'].apply(find_Labels2Num) "
      ],
      "metadata": {
        "id": "Pgs5NvVFPx3S"
      },
      "execution_count": null,
      "outputs": []
    },
    {
      "cell_type": "code",
      "source": [
        "def find_tags(word, label_num):\n",
        "  tag = \"\"\n",
        "  for j in label_num:\n",
        "    tag += word[0:j]+\"-\"\n",
        "    word = word[j:]\n",
        "  return tag\n",
        "\n",
        "train_result_df2[\"predicted_tags\"] = train_result_df2[[\"actual_words\", 'predicted_labels_num']].apply(lambda x: find_tags(x[\"actual_words\"], x['predicted_labels_num']), axis=1)"
      ],
      "metadata": {
        "id": "b2al5stKcX_x"
      },
      "execution_count": null,
      "outputs": []
    },
    {
      "cell_type": "code",
      "source": [
        "train_result_df2.head()"
      ],
      "metadata": {
        "colab": {
          "base_uri": "https://localhost:8080/",
          "height": 206
        },
        "id": "7WZ0l9YjZGyS",
        "outputId": "b21f6db6-c5e1-405a-b014-5502a68f1e22"
      },
      "execution_count": null,
      "outputs": [
        {
          "output_type": "execute_result",
          "data": {
            "text/plain": [
              "       actual_words                                     actual_labels  \\\n",
              "0         konsiltan                       [B, B, I, B, B, B, B, B, I]   \n",
              "1           depotwa                             [B, B, B, B, B, B, B]   \n",
              "2  sosyopwofesyonèl  [B, B, B, B, B, B, B, B, B, B, B, B, B, B, B, B]   \n",
              "3           vejetal                             [B, B, B, B, B, B, B]   \n",
              "4         repibliye                       [B, B, B, B, B, B, B, B, B]   \n",
              "\n",
              "                                   predicted_labels  \\\n",
              "0                       [B, B, I, B, B, B, B, B, I]   \n",
              "1                             [B, B, B, B, B, B, B]   \n",
              "2  [B, B, B, B, B, B, B, B, B, B, B, B, B, B, B, B]   \n",
              "3                             [B, B, B, B, B, B, B]   \n",
              "4                       [B, B, B, B, B, B, B, B, B]   \n",
              "\n",
              "                               predicted_labels_num  \\\n",
              "0                             [1, 2, 1, 1, 1, 1, 2]   \n",
              "1                             [1, 1, 1, 1, 1, 1, 1]   \n",
              "2  [1, 1, 1, 1, 1, 1, 1, 1, 1, 1, 1, 1, 1, 1, 1, 1]   \n",
              "3                             [1, 1, 1, 1, 1, 1, 1]   \n",
              "4                       [1, 1, 1, 1, 1, 1, 1, 1, 1]   \n",
              "\n",
              "                     predicted_tags  \n",
              "0                  k-on-s-i-l-t-an-  \n",
              "1                    d-e-p-o-t-w-a-  \n",
              "2  s-o-s-y-o-p-w-o-f-e-s-y-o-n-è-l-  \n",
              "3                    v-e-j-e-t-a-l-  \n",
              "4                r-e-p-i-b-l-i-y-e-  "
            ],
            "text/html": [
              "\n",
              "  <div id=\"df-d2f7a66d-fc9b-4b91-bab6-0d00fd20809a\">\n",
              "    <div class=\"colab-df-container\">\n",
              "      <div>\n",
              "<style scoped>\n",
              "    .dataframe tbody tr th:only-of-type {\n",
              "        vertical-align: middle;\n",
              "    }\n",
              "\n",
              "    .dataframe tbody tr th {\n",
              "        vertical-align: top;\n",
              "    }\n",
              "\n",
              "    .dataframe thead th {\n",
              "        text-align: right;\n",
              "    }\n",
              "</style>\n",
              "<table border=\"1\" class=\"dataframe\">\n",
              "  <thead>\n",
              "    <tr style=\"text-align: right;\">\n",
              "      <th></th>\n",
              "      <th>actual_words</th>\n",
              "      <th>actual_labels</th>\n",
              "      <th>predicted_labels</th>\n",
              "      <th>predicted_labels_num</th>\n",
              "      <th>predicted_tags</th>\n",
              "    </tr>\n",
              "  </thead>\n",
              "  <tbody>\n",
              "    <tr>\n",
              "      <th>0</th>\n",
              "      <td>konsiltan</td>\n",
              "      <td>[B, B, I, B, B, B, B, B, I]</td>\n",
              "      <td>[B, B, I, B, B, B, B, B, I]</td>\n",
              "      <td>[1, 2, 1, 1, 1, 1, 2]</td>\n",
              "      <td>k-on-s-i-l-t-an-</td>\n",
              "    </tr>\n",
              "    <tr>\n",
              "      <th>1</th>\n",
              "      <td>depotwa</td>\n",
              "      <td>[B, B, B, B, B, B, B]</td>\n",
              "      <td>[B, B, B, B, B, B, B]</td>\n",
              "      <td>[1, 1, 1, 1, 1, 1, 1]</td>\n",
              "      <td>d-e-p-o-t-w-a-</td>\n",
              "    </tr>\n",
              "    <tr>\n",
              "      <th>2</th>\n",
              "      <td>sosyopwofesyonèl</td>\n",
              "      <td>[B, B, B, B, B, B, B, B, B, B, B, B, B, B, B, B]</td>\n",
              "      <td>[B, B, B, B, B, B, B, B, B, B, B, B, B, B, B, B]</td>\n",
              "      <td>[1, 1, 1, 1, 1, 1, 1, 1, 1, 1, 1, 1, 1, 1, 1, 1]</td>\n",
              "      <td>s-o-s-y-o-p-w-o-f-e-s-y-o-n-è-l-</td>\n",
              "    </tr>\n",
              "    <tr>\n",
              "      <th>3</th>\n",
              "      <td>vejetal</td>\n",
              "      <td>[B, B, B, B, B, B, B]</td>\n",
              "      <td>[B, B, B, B, B, B, B]</td>\n",
              "      <td>[1, 1, 1, 1, 1, 1, 1]</td>\n",
              "      <td>v-e-j-e-t-a-l-</td>\n",
              "    </tr>\n",
              "    <tr>\n",
              "      <th>4</th>\n",
              "      <td>repibliye</td>\n",
              "      <td>[B, B, B, B, B, B, B, B, B]</td>\n",
              "      <td>[B, B, B, B, B, B, B, B, B]</td>\n",
              "      <td>[1, 1, 1, 1, 1, 1, 1, 1, 1]</td>\n",
              "      <td>r-e-p-i-b-l-i-y-e-</td>\n",
              "    </tr>\n",
              "  </tbody>\n",
              "</table>\n",
              "</div>\n",
              "      <button class=\"colab-df-convert\" onclick=\"convertToInteractive('df-d2f7a66d-fc9b-4b91-bab6-0d00fd20809a')\"\n",
              "              title=\"Convert this dataframe to an interactive table.\"\n",
              "              style=\"display:none;\">\n",
              "        \n",
              "  <svg xmlns=\"http://www.w3.org/2000/svg\" height=\"24px\"viewBox=\"0 0 24 24\"\n",
              "       width=\"24px\">\n",
              "    <path d=\"M0 0h24v24H0V0z\" fill=\"none\"/>\n",
              "    <path d=\"M18.56 5.44l.94 2.06.94-2.06 2.06-.94-2.06-.94-.94-2.06-.94 2.06-2.06.94zm-11 1L8.5 8.5l.94-2.06 2.06-.94-2.06-.94L8.5 2.5l-.94 2.06-2.06.94zm10 10l.94 2.06.94-2.06 2.06-.94-2.06-.94-.94-2.06-.94 2.06-2.06.94z\"/><path d=\"M17.41 7.96l-1.37-1.37c-.4-.4-.92-.59-1.43-.59-.52 0-1.04.2-1.43.59L10.3 9.45l-7.72 7.72c-.78.78-.78 2.05 0 2.83L4 21.41c.39.39.9.59 1.41.59.51 0 1.02-.2 1.41-.59l7.78-7.78 2.81-2.81c.8-.78.8-2.07 0-2.86zM5.41 20L4 18.59l7.72-7.72 1.47 1.35L5.41 20z\"/>\n",
              "  </svg>\n",
              "      </button>\n",
              "      \n",
              "  <style>\n",
              "    .colab-df-container {\n",
              "      display:flex;\n",
              "      flex-wrap:wrap;\n",
              "      gap: 12px;\n",
              "    }\n",
              "\n",
              "    .colab-df-convert {\n",
              "      background-color: #E8F0FE;\n",
              "      border: none;\n",
              "      border-radius: 50%;\n",
              "      cursor: pointer;\n",
              "      display: none;\n",
              "      fill: #1967D2;\n",
              "      height: 32px;\n",
              "      padding: 0 0 0 0;\n",
              "      width: 32px;\n",
              "    }\n",
              "\n",
              "    .colab-df-convert:hover {\n",
              "      background-color: #E2EBFA;\n",
              "      box-shadow: 0px 1px 2px rgba(60, 64, 67, 0.3), 0px 1px 3px 1px rgba(60, 64, 67, 0.15);\n",
              "      fill: #174EA6;\n",
              "    }\n",
              "\n",
              "    [theme=dark] .colab-df-convert {\n",
              "      background-color: #3B4455;\n",
              "      fill: #D2E3FC;\n",
              "    }\n",
              "\n",
              "    [theme=dark] .colab-df-convert:hover {\n",
              "      background-color: #434B5C;\n",
              "      box-shadow: 0px 1px 3px 1px rgba(0, 0, 0, 0.15);\n",
              "      filter: drop-shadow(0px 1px 2px rgba(0, 0, 0, 0.3));\n",
              "      fill: #FFFFFF;\n",
              "    }\n",
              "  </style>\n",
              "\n",
              "      <script>\n",
              "        const buttonEl =\n",
              "          document.querySelector('#df-d2f7a66d-fc9b-4b91-bab6-0d00fd20809a button.colab-df-convert');\n",
              "        buttonEl.style.display =\n",
              "          google.colab.kernel.accessAllowed ? 'block' : 'none';\n",
              "\n",
              "        async function convertToInteractive(key) {\n",
              "          const element = document.querySelector('#df-d2f7a66d-fc9b-4b91-bab6-0d00fd20809a');\n",
              "          const dataTable =\n",
              "            await google.colab.kernel.invokeFunction('convertToInteractive',\n",
              "                                                     [key], {});\n",
              "          if (!dataTable) return;\n",
              "\n",
              "          const docLinkHtml = 'Like what you see? Visit the ' +\n",
              "            '<a target=\"_blank\" href=https://colab.research.google.com/notebooks/data_table.ipynb>data table notebook</a>'\n",
              "            + ' to learn more about interactive tables.';\n",
              "          element.innerHTML = '';\n",
              "          dataTable['output_type'] = 'display_data';\n",
              "          await google.colab.output.renderOutput(dataTable, element);\n",
              "          const docLink = document.createElement('div');\n",
              "          docLink.innerHTML = docLinkHtml;\n",
              "          element.appendChild(docLink);\n",
              "        }\n",
              "      </script>\n",
              "    </div>\n",
              "  </div>\n",
              "  "
            ]
          },
          "metadata": {},
          "execution_count": 55
        }
      ]
    },
    {
      "cell_type": "code",
      "source": [
        "FilePath = \"/content/drive/MyDrive/NLP/Assignment02/data/Output_Files/train_result_from_model_W2L2T.txt\"\n",
        "train_file = open(FilePath,\"w\")\n",
        "\n",
        "for i in range(len(train_result_df2)):\n",
        "  text = str(train_result_df2.loc[i, \"actual_words\"])+\"\\t\"+str(train_result_df2.loc[i, \"predicted_tags\"])+\"\\n\"\n",
        "  train_file.write(text)\n",
        "train_file.close()"
      ],
      "metadata": {
        "id": "rCmCBLpx0lPk"
      },
      "execution_count": null,
      "outputs": []
    },
    {
      "cell_type": "code",
      "source": [
        "train_result_df2.to_csv(\"/content/drive/MyDrive/NLP/Assignment02/data/Output_Files/train_result_from_model_WL22T.csv\", index=False)"
      ],
      "metadata": {
        "id": "vB1R8U960rJG"
      },
      "execution_count": null,
      "outputs": []
    },
    {
      "cell_type": "code",
      "source": [
        "model_Words2Labels.saveModel(\"/content/drive/MyDrive/NLP/Assignment02/data/Models/model_Words2Labels.h5\")"
      ],
      "metadata": {
        "colab": {
          "base_uri": "https://localhost:8080/",
          "height": 53
        },
        "id": "SjSZKG7t79bN",
        "outputId": "7dd48fd8-3764-4eac-84f9-de3d8229a6fe"
      },
      "execution_count": null,
      "outputs": [
        {
          "output_type": "stream",
          "name": "stdout",
          "text": [
            "Model is saved successfully\n"
          ]
        },
        {
          "output_type": "execute_result",
          "data": {
            "text/plain": [
              "''"
            ],
            "application/vnd.google.colaboratory.intrinsic+json": {
              "type": "string"
            }
          },
          "metadata": {},
          "execution_count": 76
        }
      ]
    },
    {
      "cell_type": "markdown",
      "source": [
        "## **Predictions**"
      ],
      "metadata": {
        "id": "HyI5ov4ReS-E"
      }
    },
    {
      "cell_type": "markdown",
      "source": [
        "**Load Test dataset**"
      ],
      "metadata": {
        "id": "OoFO4pnd4A9J"
      }
    },
    {
      "cell_type": "code",
      "source": [
        "# Loading training dataset ================================\n",
        "FilePath = \"/content/drive/MyDrive/NLP/Assignment02/data/Input_Files/test.txt\"\n",
        "test_data = load_data_as_dataFrame(FilePath)\n",
        "\n",
        "# WORDS ---------------------------------------------\n",
        "test_words = list(test_data['words'])"
      ],
      "metadata": {
        "id": "_PMZlNgGwslq"
      },
      "execution_count": null,
      "outputs": []
    },
    {
      "cell_type": "markdown",
      "source": [
        "**Preprocessing**"
      ],
      "metadata": {
        "id": "usG_xg-m3-vO"
      }
    },
    {
      "cell_type": "code",
      "source": [
        "test_words_DP = PreprocessingData(test_words, 20)\n",
        "_ = test_words_DP.words_split()\n",
        "_ = test_words_DP.convert_Text2Num(Letters2Num = words_DP.data_params['Letters2Num'])\n",
        "_ = test_words_DP.padding()\n",
        "\n",
        "test_words_array = np.array(test_words_DP.data['words_split_num_pad'].tolist())\n",
        "print(test_words_array.shape)"
      ],
      "metadata": {
        "colab": {
          "base_uri": "https://localhost:8080/"
        },
        "id": "WH1DvUEil1Ym",
        "outputId": "b9299ef1-2300-481f-af86-ce9447824fe7"
      },
      "execution_count": null,
      "outputs": [
        {
          "output_type": "stream",
          "name": "stdout",
          "text": [
            "(1427, 20)\n"
          ]
        }
      ]
    },
    {
      "cell_type": "markdown",
      "source": [
        "### Using **Model : Words to Tags**"
      ],
      "metadata": {
        "id": "W_iL3k33t7K9"
      }
    },
    {
      "cell_type": "code",
      "source": [
        "test_tags_pred = model_Words2Tags.predict_result(test_words_array)"
      ],
      "metadata": {
        "colab": {
          "base_uri": "https://localhost:8080/"
        },
        "id": "qlVf7HL1p57g",
        "outputId": "7af08248-a251-4d29-d9ca-42894f810f72"
      },
      "execution_count": null,
      "outputs": [
        {
          "output_type": "stream",
          "name": "stdout",
          "text": [
            "%%%%%%%%%%%%%%%%%%%%%%%%%%% Model Predictions %%%%%%%%%%%%%%%%%%%%%%%%%%%\n",
            "Prediction is completed Successfully in Time : 0:00:00.675053\n",
            "\n",
            "\n"
          ]
        }
      ]
    },
    {
      "cell_type": "code",
      "source": [
        "startTime = datetime.now()\n",
        "tag_Num2Letters = tags_DP.data_params['Num2Letters']\n",
        "Y_test_pred_text = []\n",
        "for tag_num in test_tags_pred:\n",
        "  tag = \"\"\n",
        "  for j in [n for n in tag_num if n!=0]:\n",
        "    tag += tag_Num2Letters[j] +\"-\"\n",
        "    \n",
        "  else:\n",
        "    tag = tag[:-1]\n",
        "  Y_test_pred_text.append(tag)\n",
        "endTime = datetime.now()\n",
        "print(f\"Prediction is completed Successfully in Time : {endTime-startTime}\")"
      ],
      "metadata": {
        "colab": {
          "base_uri": "https://localhost:8080/"
        },
        "id": "X31t9ZfvqZ3Z",
        "outputId": "3d3d98d9-e746-4311-ee34-f35f0c78476c"
      },
      "execution_count": null,
      "outputs": [
        {
          "output_type": "stream",
          "name": "stdout",
          "text": [
            "Prediction is completed Successfully in Time : 0:00:00.017525\n"
          ]
        }
      ]
    },
    {
      "cell_type": "code",
      "source": [
        "len(words_DP.data['words']), len(Y_test_pred_text)"
      ],
      "metadata": {
        "colab": {
          "base_uri": "https://localhost:8080/"
        },
        "id": "mTCSeRzjq_8_",
        "outputId": "25613909-0df6-444b-b2da-ccd505ff326e"
      },
      "execution_count": null,
      "outputs": [
        {
          "output_type": "execute_result",
          "data": {
            "text/plain": [
              "(12812, 1427)"
            ]
          },
          "metadata": {},
          "execution_count": 37
        }
      ]
    },
    {
      "cell_type": "code",
      "source": [
        "test_result_df1 = pd.DataFrame()\n",
        "test_result_df1['actual_words'] = test_words_DP.data['words']\n",
        "test_result_df1['predicted_tags'] = list(Y_test_pred_text)\n",
        "test_result_df1.head()"
      ],
      "metadata": {
        "colab": {
          "base_uri": "https://localhost:8080/",
          "height": 206
        },
        "id": "20Mm4mcuprXQ",
        "outputId": "46428d58-6a20-4f6e-a65d-bbecdaccac97"
      },
      "execution_count": null,
      "outputs": [
        {
          "output_type": "execute_result",
          "data": {
            "text/plain": [
              "  actual_words predicted_tags\n",
              "0       Oradye    o-r-a-d-y-e\n",
              "1         bous         b-ou-s\n",
              "2        titan       t-i-t-an\n",
              "3         refi        r-e-f-i\n",
              "4      netwayè  n-e-t-w-y-è-è"
            ],
            "text/html": [
              "\n",
              "  <div id=\"df-a924a434-ffdc-4b7f-886c-050e8632afd3\">\n",
              "    <div class=\"colab-df-container\">\n",
              "      <div>\n",
              "<style scoped>\n",
              "    .dataframe tbody tr th:only-of-type {\n",
              "        vertical-align: middle;\n",
              "    }\n",
              "\n",
              "    .dataframe tbody tr th {\n",
              "        vertical-align: top;\n",
              "    }\n",
              "\n",
              "    .dataframe thead th {\n",
              "        text-align: right;\n",
              "    }\n",
              "</style>\n",
              "<table border=\"1\" class=\"dataframe\">\n",
              "  <thead>\n",
              "    <tr style=\"text-align: right;\">\n",
              "      <th></th>\n",
              "      <th>actual_words</th>\n",
              "      <th>predicted_tags</th>\n",
              "    </tr>\n",
              "  </thead>\n",
              "  <tbody>\n",
              "    <tr>\n",
              "      <th>0</th>\n",
              "      <td>Oradye</td>\n",
              "      <td>o-r-a-d-y-e</td>\n",
              "    </tr>\n",
              "    <tr>\n",
              "      <th>1</th>\n",
              "      <td>bous</td>\n",
              "      <td>b-ou-s</td>\n",
              "    </tr>\n",
              "    <tr>\n",
              "      <th>2</th>\n",
              "      <td>titan</td>\n",
              "      <td>t-i-t-an</td>\n",
              "    </tr>\n",
              "    <tr>\n",
              "      <th>3</th>\n",
              "      <td>refi</td>\n",
              "      <td>r-e-f-i</td>\n",
              "    </tr>\n",
              "    <tr>\n",
              "      <th>4</th>\n",
              "      <td>netwayè</td>\n",
              "      <td>n-e-t-w-y-è-è</td>\n",
              "    </tr>\n",
              "  </tbody>\n",
              "</table>\n",
              "</div>\n",
              "      <button class=\"colab-df-convert\" onclick=\"convertToInteractive('df-a924a434-ffdc-4b7f-886c-050e8632afd3')\"\n",
              "              title=\"Convert this dataframe to an interactive table.\"\n",
              "              style=\"display:none;\">\n",
              "        \n",
              "  <svg xmlns=\"http://www.w3.org/2000/svg\" height=\"24px\"viewBox=\"0 0 24 24\"\n",
              "       width=\"24px\">\n",
              "    <path d=\"M0 0h24v24H0V0z\" fill=\"none\"/>\n",
              "    <path d=\"M18.56 5.44l.94 2.06.94-2.06 2.06-.94-2.06-.94-.94-2.06-.94 2.06-2.06.94zm-11 1L8.5 8.5l.94-2.06 2.06-.94-2.06-.94L8.5 2.5l-.94 2.06-2.06.94zm10 10l.94 2.06.94-2.06 2.06-.94-2.06-.94-.94-2.06-.94 2.06-2.06.94z\"/><path d=\"M17.41 7.96l-1.37-1.37c-.4-.4-.92-.59-1.43-.59-.52 0-1.04.2-1.43.59L10.3 9.45l-7.72 7.72c-.78.78-.78 2.05 0 2.83L4 21.41c.39.39.9.59 1.41.59.51 0 1.02-.2 1.41-.59l7.78-7.78 2.81-2.81c.8-.78.8-2.07 0-2.86zM5.41 20L4 18.59l7.72-7.72 1.47 1.35L5.41 20z\"/>\n",
              "  </svg>\n",
              "      </button>\n",
              "      \n",
              "  <style>\n",
              "    .colab-df-container {\n",
              "      display:flex;\n",
              "      flex-wrap:wrap;\n",
              "      gap: 12px;\n",
              "    }\n",
              "\n",
              "    .colab-df-convert {\n",
              "      background-color: #E8F0FE;\n",
              "      border: none;\n",
              "      border-radius: 50%;\n",
              "      cursor: pointer;\n",
              "      display: none;\n",
              "      fill: #1967D2;\n",
              "      height: 32px;\n",
              "      padding: 0 0 0 0;\n",
              "      width: 32px;\n",
              "    }\n",
              "\n",
              "    .colab-df-convert:hover {\n",
              "      background-color: #E2EBFA;\n",
              "      box-shadow: 0px 1px 2px rgba(60, 64, 67, 0.3), 0px 1px 3px 1px rgba(60, 64, 67, 0.15);\n",
              "      fill: #174EA6;\n",
              "    }\n",
              "\n",
              "    [theme=dark] .colab-df-convert {\n",
              "      background-color: #3B4455;\n",
              "      fill: #D2E3FC;\n",
              "    }\n",
              "\n",
              "    [theme=dark] .colab-df-convert:hover {\n",
              "      background-color: #434B5C;\n",
              "      box-shadow: 0px 1px 3px 1px rgba(0, 0, 0, 0.15);\n",
              "      filter: drop-shadow(0px 1px 2px rgba(0, 0, 0, 0.3));\n",
              "      fill: #FFFFFF;\n",
              "    }\n",
              "  </style>\n",
              "\n",
              "      <script>\n",
              "        const buttonEl =\n",
              "          document.querySelector('#df-a924a434-ffdc-4b7f-886c-050e8632afd3 button.colab-df-convert');\n",
              "        buttonEl.style.display =\n",
              "          google.colab.kernel.accessAllowed ? 'block' : 'none';\n",
              "\n",
              "        async function convertToInteractive(key) {\n",
              "          const element = document.querySelector('#df-a924a434-ffdc-4b7f-886c-050e8632afd3');\n",
              "          const dataTable =\n",
              "            await google.colab.kernel.invokeFunction('convertToInteractive',\n",
              "                                                     [key], {});\n",
              "          if (!dataTable) return;\n",
              "\n",
              "          const docLinkHtml = 'Like what you see? Visit the ' +\n",
              "            '<a target=\"_blank\" href=https://colab.research.google.com/notebooks/data_table.ipynb>data table notebook</a>'\n",
              "            + ' to learn more about interactive tables.';\n",
              "          element.innerHTML = '';\n",
              "          dataTable['output_type'] = 'display_data';\n",
              "          await google.colab.output.renderOutput(dataTable, element);\n",
              "          const docLink = document.createElement('div');\n",
              "          docLink.innerHTML = docLinkHtml;\n",
              "          element.appendChild(docLink);\n",
              "        }\n",
              "      </script>\n",
              "    </div>\n",
              "  </div>\n",
              "  "
            ]
          },
          "metadata": {},
          "execution_count": 38
        }
      ]
    },
    {
      "cell_type": "code",
      "source": [
        "FilePath = \"/content/drive/MyDrive/NLP/Assignment02/data/Output_Files/test_result_from_model_W2T.txt\"\n",
        "train_file = open(FilePath,\"w\")\n",
        "\n",
        "for i in range(len(test_result_df1)):\n",
        "  text = str(test_result_df1.loc[i, \"actual_words\"])+\"\\t\"+str(test_result_df1.loc[i, \"predicted_tags\"])+\"\\n\"\n",
        "  train_file.write(text)\n",
        "train_file.close()"
      ],
      "metadata": {
        "id": "xH_-tItH2E63"
      },
      "execution_count": null,
      "outputs": []
    },
    {
      "cell_type": "code",
      "source": [
        "test_result_df1.to_csv(\"/content/drive/MyDrive/NLP/Assignment02/data/Output_Files/test_result_from_model_W2T.csv\", index=False)"
      ],
      "metadata": {
        "id": "b8EWHL6krbho"
      },
      "execution_count": null,
      "outputs": []
    },
    {
      "cell_type": "markdown",
      "source": [
        "### Using **Model : Words to Label to Tags**"
      ],
      "metadata": {
        "id": "e_aqtdUApX-Y"
      }
    },
    {
      "cell_type": "code",
      "source": [
        "test_labels_pred = model_Words2Labels.predict_result(test_words_array)\n",
        "print(\"test_labels_pred shape : \", test_labels_pred.shape)"
      ],
      "metadata": {
        "colab": {
          "base_uri": "https://localhost:8080/"
        },
        "id": "M60vBRFVmIv1",
        "outputId": "55ad7927-b1d0-4248-ed91-db1722b1d8c4"
      },
      "execution_count": null,
      "outputs": [
        {
          "output_type": "stream",
          "name": "stdout",
          "text": [
            "%%%%%%%%%%%%%%%%%%%%%%%%%%% Model Predictions %%%%%%%%%%%%%%%%%%%%%%%%%%%\n",
            "Prediction is completed Successfully in Time : 0:00:00.531268\n",
            "\n",
            "\n",
            "test_labels_pred shape :  (1427, 20)\n"
          ]
        }
      ]
    },
    {
      "cell_type": "code",
      "source": [
        "def find_Labels2Num(label):\n",
        "  label_rev_val = []\n",
        "  label_rev = list(reversed(label))\n",
        "  label_val = []\n",
        "  for val in label_rev:\n",
        "    if val==\"I\":\n",
        "      label_val.append(val)\n",
        "    elif val==\"B\":\n",
        "      label_val.append(val)\n",
        "      label_rev_val.append(len(label_val))\n",
        "      label_val = []\n",
        "  label_val = list(reversed(label_rev_val))\n",
        "  return label_val\n",
        "\n",
        "def find_tags(word, label_num):\n",
        "  tag = \"\"\n",
        "  for j in label_num:\n",
        "    tag += word[0:j]+\"-\"\n",
        "    word = word[j:]\n",
        "  return tag[:-1]"
      ],
      "metadata": {
        "id": "9f8NM47bli2T"
      },
      "execution_count": null,
      "outputs": []
    },
    {
      "cell_type": "code",
      "source": [
        "startTime = datetime.now()\n",
        "tag_Num2Letters = labels_DP.data_params['Num2Letters']\n",
        "Y_pred_text = []\n",
        "for tag_num in test_labels_pred:\n",
        "  tag = \"\"\n",
        "  for j in [n for n in tag_num if n!=0]:\n",
        "    tag += tag_Num2Letters[j] +\"-\"\n",
        "  else:\n",
        "    tag = tag[:-1]\n",
        "  Y_pred_text.append(tag)\n",
        "endTime = datetime.now()\n",
        "print(f\"Prediction is completed Successfully in Time : {endTime-startTime}\")\n",
        "\n",
        "\n",
        "test_result_df2 = pd.DataFrame()\n",
        "test_result_df2['actual_words'] = test_words_DP.data['words']\n",
        "test_result_df2['predicted_labels'] = [word.split(\"-\") for word in Y_pred_text]\n",
        "\n",
        "test_result_df2['predicted_labels_num'] = test_result_df2['predicted_labels'].apply(find_Labels2Num) \n",
        "test_result_df2[\"predicted_tags\"] = test_result_df2[[\"actual_words\", 'predicted_labels_num']].apply(lambda x: find_tags(x[\"actual_words\"], x['predicted_labels_num']), axis=1)\n",
        "\n",
        "test_result_df2.head()"
      ],
      "metadata": {
        "colab": {
          "base_uri": "https://localhost:8080/",
          "height": 223
        },
        "id": "uXTRkeimleyD",
        "outputId": "954df365-597d-4732-9473-bb6c4e1415ad"
      },
      "execution_count": null,
      "outputs": [
        {
          "output_type": "stream",
          "name": "stdout",
          "text": [
            "Prediction is completed Successfully in Time : 0:00:00.014778\n"
          ]
        },
        {
          "output_type": "execute_result",
          "data": {
            "text/plain": [
              "  actual_words       predicted_labels   predicted_labels_num predicted_tags\n",
              "0       Oradye     [B, B, B, B, B, B]     [1, 1, 1, 1, 1, 1]    O-r-a-d-y-e\n",
              "1         bous           [B, B, I, B]              [1, 2, 1]         b-ou-s\n",
              "2        titan        [B, B, B, B, I]           [1, 1, 1, 2]       t-i-t-an\n",
              "3         refi           [B, B, B, B]           [1, 1, 1, 1]        r-e-f-i\n",
              "4      netwayè  [B, B, B, B, B, B, B]  [1, 1, 1, 1, 1, 1, 1]  n-e-t-w-a-y-è"
            ],
            "text/html": [
              "\n",
              "  <div id=\"df-529e19c7-3494-4593-bc2a-f732bd7b596f\">\n",
              "    <div class=\"colab-df-container\">\n",
              "      <div>\n",
              "<style scoped>\n",
              "    .dataframe tbody tr th:only-of-type {\n",
              "        vertical-align: middle;\n",
              "    }\n",
              "\n",
              "    .dataframe tbody tr th {\n",
              "        vertical-align: top;\n",
              "    }\n",
              "\n",
              "    .dataframe thead th {\n",
              "        text-align: right;\n",
              "    }\n",
              "</style>\n",
              "<table border=\"1\" class=\"dataframe\">\n",
              "  <thead>\n",
              "    <tr style=\"text-align: right;\">\n",
              "      <th></th>\n",
              "      <th>actual_words</th>\n",
              "      <th>predicted_labels</th>\n",
              "      <th>predicted_labels_num</th>\n",
              "      <th>predicted_tags</th>\n",
              "    </tr>\n",
              "  </thead>\n",
              "  <tbody>\n",
              "    <tr>\n",
              "      <th>0</th>\n",
              "      <td>Oradye</td>\n",
              "      <td>[B, B, B, B, B, B]</td>\n",
              "      <td>[1, 1, 1, 1, 1, 1]</td>\n",
              "      <td>O-r-a-d-y-e</td>\n",
              "    </tr>\n",
              "    <tr>\n",
              "      <th>1</th>\n",
              "      <td>bous</td>\n",
              "      <td>[B, B, I, B]</td>\n",
              "      <td>[1, 2, 1]</td>\n",
              "      <td>b-ou-s</td>\n",
              "    </tr>\n",
              "    <tr>\n",
              "      <th>2</th>\n",
              "      <td>titan</td>\n",
              "      <td>[B, B, B, B, I]</td>\n",
              "      <td>[1, 1, 1, 2]</td>\n",
              "      <td>t-i-t-an</td>\n",
              "    </tr>\n",
              "    <tr>\n",
              "      <th>3</th>\n",
              "      <td>refi</td>\n",
              "      <td>[B, B, B, B]</td>\n",
              "      <td>[1, 1, 1, 1]</td>\n",
              "      <td>r-e-f-i</td>\n",
              "    </tr>\n",
              "    <tr>\n",
              "      <th>4</th>\n",
              "      <td>netwayè</td>\n",
              "      <td>[B, B, B, B, B, B, B]</td>\n",
              "      <td>[1, 1, 1, 1, 1, 1, 1]</td>\n",
              "      <td>n-e-t-w-a-y-è</td>\n",
              "    </tr>\n",
              "  </tbody>\n",
              "</table>\n",
              "</div>\n",
              "      <button class=\"colab-df-convert\" onclick=\"convertToInteractive('df-529e19c7-3494-4593-bc2a-f732bd7b596f')\"\n",
              "              title=\"Convert this dataframe to an interactive table.\"\n",
              "              style=\"display:none;\">\n",
              "        \n",
              "  <svg xmlns=\"http://www.w3.org/2000/svg\" height=\"24px\"viewBox=\"0 0 24 24\"\n",
              "       width=\"24px\">\n",
              "    <path d=\"M0 0h24v24H0V0z\" fill=\"none\"/>\n",
              "    <path d=\"M18.56 5.44l.94 2.06.94-2.06 2.06-.94-2.06-.94-.94-2.06-.94 2.06-2.06.94zm-11 1L8.5 8.5l.94-2.06 2.06-.94-2.06-.94L8.5 2.5l-.94 2.06-2.06.94zm10 10l.94 2.06.94-2.06 2.06-.94-2.06-.94-.94-2.06-.94 2.06-2.06.94z\"/><path d=\"M17.41 7.96l-1.37-1.37c-.4-.4-.92-.59-1.43-.59-.52 0-1.04.2-1.43.59L10.3 9.45l-7.72 7.72c-.78.78-.78 2.05 0 2.83L4 21.41c.39.39.9.59 1.41.59.51 0 1.02-.2 1.41-.59l7.78-7.78 2.81-2.81c.8-.78.8-2.07 0-2.86zM5.41 20L4 18.59l7.72-7.72 1.47 1.35L5.41 20z\"/>\n",
              "  </svg>\n",
              "      </button>\n",
              "      \n",
              "  <style>\n",
              "    .colab-df-container {\n",
              "      display:flex;\n",
              "      flex-wrap:wrap;\n",
              "      gap: 12px;\n",
              "    }\n",
              "\n",
              "    .colab-df-convert {\n",
              "      background-color: #E8F0FE;\n",
              "      border: none;\n",
              "      border-radius: 50%;\n",
              "      cursor: pointer;\n",
              "      display: none;\n",
              "      fill: #1967D2;\n",
              "      height: 32px;\n",
              "      padding: 0 0 0 0;\n",
              "      width: 32px;\n",
              "    }\n",
              "\n",
              "    .colab-df-convert:hover {\n",
              "      background-color: #E2EBFA;\n",
              "      box-shadow: 0px 1px 2px rgba(60, 64, 67, 0.3), 0px 1px 3px 1px rgba(60, 64, 67, 0.15);\n",
              "      fill: #174EA6;\n",
              "    }\n",
              "\n",
              "    [theme=dark] .colab-df-convert {\n",
              "      background-color: #3B4455;\n",
              "      fill: #D2E3FC;\n",
              "    }\n",
              "\n",
              "    [theme=dark] .colab-df-convert:hover {\n",
              "      background-color: #434B5C;\n",
              "      box-shadow: 0px 1px 3px 1px rgba(0, 0, 0, 0.15);\n",
              "      filter: drop-shadow(0px 1px 2px rgba(0, 0, 0, 0.3));\n",
              "      fill: #FFFFFF;\n",
              "    }\n",
              "  </style>\n",
              "\n",
              "      <script>\n",
              "        const buttonEl =\n",
              "          document.querySelector('#df-529e19c7-3494-4593-bc2a-f732bd7b596f button.colab-df-convert');\n",
              "        buttonEl.style.display =\n",
              "          google.colab.kernel.accessAllowed ? 'block' : 'none';\n",
              "\n",
              "        async function convertToInteractive(key) {\n",
              "          const element = document.querySelector('#df-529e19c7-3494-4593-bc2a-f732bd7b596f');\n",
              "          const dataTable =\n",
              "            await google.colab.kernel.invokeFunction('convertToInteractive',\n",
              "                                                     [key], {});\n",
              "          if (!dataTable) return;\n",
              "\n",
              "          const docLinkHtml = 'Like what you see? Visit the ' +\n",
              "            '<a target=\"_blank\" href=https://colab.research.google.com/notebooks/data_table.ipynb>data table notebook</a>'\n",
              "            + ' to learn more about interactive tables.';\n",
              "          element.innerHTML = '';\n",
              "          dataTable['output_type'] = 'display_data';\n",
              "          await google.colab.output.renderOutput(dataTable, element);\n",
              "          const docLink = document.createElement('div');\n",
              "          docLink.innerHTML = docLinkHtml;\n",
              "          element.appendChild(docLink);\n",
              "        }\n",
              "      </script>\n",
              "    </div>\n",
              "  </div>\n",
              "  "
            ]
          },
          "metadata": {},
          "execution_count": 67
        }
      ]
    },
    {
      "cell_type": "code",
      "source": [
        "FilePath = \"/content/drive/MyDrive/NLP/Assignment02/data/Output_Files/test_result_from_model_W2L2T.txt\"\n",
        "train_file = open(FilePath,\"w\")\n",
        "\n",
        "for i in range(len(test_result_df2)):\n",
        "  text = str(test_result_df2.loc[i, \"actual_words\"])+\"\\t\"+str(test_result_df2.loc[i, \"predicted_tags\"])+\"\\n\"\n",
        "  train_file.write(text)\n",
        "train_file.close()"
      ],
      "metadata": {
        "id": "UoxFOLDt4Z-Q"
      },
      "execution_count": null,
      "outputs": []
    },
    {
      "cell_type": "code",
      "source": [
        "test_result_df2.to_csv(\"/content/drive/MyDrive/NLP/Assignment02/data/Output_Files/test_result_from_model_W2L2T.csv\", index=False)"
      ],
      "metadata": {
        "id": "h3kT3OtyeUs2"
      },
      "execution_count": null,
      "outputs": []
    },
    {
      "cell_type": "code",
      "source": [],
      "metadata": {
        "id": "3l6vLe5E8Igi"
      },
      "execution_count": null,
      "outputs": []
    }
  ]
}