{
  "nbformat": 4,
  "nbformat_minor": 0,
  "metadata": {
    "colab": {
      "provenance": [],
      "collapsed_sections": [],
      "include_colab_link": true
    },
    "kernelspec": {
      "name": "python3",
      "display_name": "Python 3"
    },
    "language_info": {
      "name": "python"
    }
  },
  "cells": [
    {
      "cell_type": "markdown",
      "metadata": {
        "id": "view-in-github",
        "colab_type": "text"
      },
      "source": [
        "<a href=\"https://colab.research.google.com/github/chandanareddy-enugala/NLP-SLU/blob/main/Copy_of_NLP_SentimentAnalysis.ipynb\" target=\"_parent\"><img src=\"https://colab.research.google.com/assets/colab-badge.svg\" alt=\"Open In Colab\"/></a>"
      ]
    },
    {
      "cell_type": "code",
      "execution_count": null,
      "metadata": {
        "colab": {
          "base_uri": "https://localhost:8080/"
        },
        "id": "9sxo9gZ8iE8U",
        "outputId": "39798a71-490c-45c8-c453-ea03d3572b1b"
      },
      "outputs": [
        {
          "output_type": "stream",
          "name": "stdout",
          "text": [
            "Mounted at /content/drive\n"
          ]
        }
      ],
      "source": [
        "from google.colab import drive\n",
        "drive.mount('/content/drive')"
      ]
    },
    {
      "cell_type": "code",
      "source": [
        "import pandas as pd\n",
        "import numpy as np\n",
        "import re\n",
        "import string\n",
        "\n",
        "import seaborn as sns"
      ],
      "metadata": {
        "id": "mMj0MyB-iRuA"
      },
      "execution_count": null,
      "outputs": []
    },
    {
      "cell_type": "markdown",
      "source": [
        "##### Loading Data"
      ],
      "metadata": {
        "id": "WzYQpG-fiZRT"
      }
    },
    {
      "cell_type": "code",
      "source": [
        "filePath = \"/content/drive/MyDrive/NLP/data/train-v2.tsv\"\n",
        "data = pd.read_csv(filePath, lineterminator='\\n',error_bad_lines=False, sep = '\\t',header= None)\n",
        "data"
      ],
      "metadata": {
        "colab": {
          "base_uri": "https://localhost:8080/",
          "height": 513
        },
        "id": "wiAQ6cdpiRwR",
        "outputId": "1c8fac70-36d1-4c00-ff81-ac2772dd3360"
      },
      "execution_count": null,
      "outputs": [
        {
          "output_type": "stream",
          "name": "stderr",
          "text": [
            "/usr/local/lib/python3.7/dist-packages/IPython/core/interactiveshell.py:3326: FutureWarning: The error_bad_lines argument has been deprecated and will be removed in a future version.\n",
            "\n",
            "\n",
            "  exec(code_obj, self.user_global_ns, self.user_ns)\n"
          ]
        },
        {
          "output_type": "execute_result",
          "data": {
            "text/plain": [
              "       0                                                  1\n",
              "0      0  @USER @USER a sicrhau bod mwy o arian poced 'd...\n",
              "1      1  Parti Dolig da gyda tim swyddfa canolog @USER ...\n",
              "2      0               @USER yeaah ma fe yn wir. ( oh well.\n",
              "3      1               @USER hahaha idk. 3am oedd y bws ti?\n",
              "4      0                      @USER dwim yn gal llun ohoni?\n",
              "...   ..                                                ...\n",
              "78604  1  @USER @USER diolch yn fawr am ein diweddaru, r...\n",
              "78605  1  @USER @USER @USER diolch! Digon o opsiynne felly!\n",
              "78606  0                              mor hungover heddiw 🔫\n",
              "78607  1  @USER eidiaaaal, awni dydd llun nesa ia? Y air...\n",
              "78608  0  @USER ahaha, aino maisho mynadd! Erm o be dwin...\n",
              "\n",
              "[78609 rows x 2 columns]"
            ],
            "text/html": [
              "\n",
              "  <div id=\"df-be44962b-daab-426b-b617-53d6d6258a46\">\n",
              "    <div class=\"colab-df-container\">\n",
              "      <div>\n",
              "<style scoped>\n",
              "    .dataframe tbody tr th:only-of-type {\n",
              "        vertical-align: middle;\n",
              "    }\n",
              "\n",
              "    .dataframe tbody tr th {\n",
              "        vertical-align: top;\n",
              "    }\n",
              "\n",
              "    .dataframe thead th {\n",
              "        text-align: right;\n",
              "    }\n",
              "</style>\n",
              "<table border=\"1\" class=\"dataframe\">\n",
              "  <thead>\n",
              "    <tr style=\"text-align: right;\">\n",
              "      <th></th>\n",
              "      <th>0</th>\n",
              "      <th>1</th>\n",
              "    </tr>\n",
              "  </thead>\n",
              "  <tbody>\n",
              "    <tr>\n",
              "      <th>0</th>\n",
              "      <td>0</td>\n",
              "      <td>@USER @USER a sicrhau bod mwy o arian poced 'd...</td>\n",
              "    </tr>\n",
              "    <tr>\n",
              "      <th>1</th>\n",
              "      <td>1</td>\n",
              "      <td>Parti Dolig da gyda tim swyddfa canolog @USER ...</td>\n",
              "    </tr>\n",
              "    <tr>\n",
              "      <th>2</th>\n",
              "      <td>0</td>\n",
              "      <td>@USER yeaah ma fe yn wir. ( oh well.</td>\n",
              "    </tr>\n",
              "    <tr>\n",
              "      <th>3</th>\n",
              "      <td>1</td>\n",
              "      <td>@USER hahaha idk. 3am oedd y bws ti?</td>\n",
              "    </tr>\n",
              "    <tr>\n",
              "      <th>4</th>\n",
              "      <td>0</td>\n",
              "      <td>@USER dwim yn gal llun ohoni?</td>\n",
              "    </tr>\n",
              "    <tr>\n",
              "      <th>...</th>\n",
              "      <td>...</td>\n",
              "      <td>...</td>\n",
              "    </tr>\n",
              "    <tr>\n",
              "      <th>78604</th>\n",
              "      <td>1</td>\n",
              "      <td>@USER @USER diolch yn fawr am ein diweddaru, r...</td>\n",
              "    </tr>\n",
              "    <tr>\n",
              "      <th>78605</th>\n",
              "      <td>1</td>\n",
              "      <td>@USER @USER @USER diolch! Digon o opsiynne felly!</td>\n",
              "    </tr>\n",
              "    <tr>\n",
              "      <th>78606</th>\n",
              "      <td>0</td>\n",
              "      <td>mor hungover heddiw 🔫</td>\n",
              "    </tr>\n",
              "    <tr>\n",
              "      <th>78607</th>\n",
              "      <td>1</td>\n",
              "      <td>@USER eidiaaaal, awni dydd llun nesa ia? Y air...</td>\n",
              "    </tr>\n",
              "    <tr>\n",
              "      <th>78608</th>\n",
              "      <td>0</td>\n",
              "      <td>@USER ahaha, aino maisho mynadd! Erm o be dwin...</td>\n",
              "    </tr>\n",
              "  </tbody>\n",
              "</table>\n",
              "<p>78609 rows × 2 columns</p>\n",
              "</div>\n",
              "      <button class=\"colab-df-convert\" onclick=\"convertToInteractive('df-be44962b-daab-426b-b617-53d6d6258a46')\"\n",
              "              title=\"Convert this dataframe to an interactive table.\"\n",
              "              style=\"display:none;\">\n",
              "        \n",
              "  <svg xmlns=\"http://www.w3.org/2000/svg\" height=\"24px\"viewBox=\"0 0 24 24\"\n",
              "       width=\"24px\">\n",
              "    <path d=\"M0 0h24v24H0V0z\" fill=\"none\"/>\n",
              "    <path d=\"M18.56 5.44l.94 2.06.94-2.06 2.06-.94-2.06-.94-.94-2.06-.94 2.06-2.06.94zm-11 1L8.5 8.5l.94-2.06 2.06-.94-2.06-.94L8.5 2.5l-.94 2.06-2.06.94zm10 10l.94 2.06.94-2.06 2.06-.94-2.06-.94-.94-2.06-.94 2.06-2.06.94z\"/><path d=\"M17.41 7.96l-1.37-1.37c-.4-.4-.92-.59-1.43-.59-.52 0-1.04.2-1.43.59L10.3 9.45l-7.72 7.72c-.78.78-.78 2.05 0 2.83L4 21.41c.39.39.9.59 1.41.59.51 0 1.02-.2 1.41-.59l7.78-7.78 2.81-2.81c.8-.78.8-2.07 0-2.86zM5.41 20L4 18.59l7.72-7.72 1.47 1.35L5.41 20z\"/>\n",
              "  </svg>\n",
              "      </button>\n",
              "      \n",
              "  <style>\n",
              "    .colab-df-container {\n",
              "      display:flex;\n",
              "      flex-wrap:wrap;\n",
              "      gap: 12px;\n",
              "    }\n",
              "\n",
              "    .colab-df-convert {\n",
              "      background-color: #E8F0FE;\n",
              "      border: none;\n",
              "      border-radius: 50%;\n",
              "      cursor: pointer;\n",
              "      display: none;\n",
              "      fill: #1967D2;\n",
              "      height: 32px;\n",
              "      padding: 0 0 0 0;\n",
              "      width: 32px;\n",
              "    }\n",
              "\n",
              "    .colab-df-convert:hover {\n",
              "      background-color: #E2EBFA;\n",
              "      box-shadow: 0px 1px 2px rgba(60, 64, 67, 0.3), 0px 1px 3px 1px rgba(60, 64, 67, 0.15);\n",
              "      fill: #174EA6;\n",
              "    }\n",
              "\n",
              "    [theme=dark] .colab-df-convert {\n",
              "      background-color: #3B4455;\n",
              "      fill: #D2E3FC;\n",
              "    }\n",
              "\n",
              "    [theme=dark] .colab-df-convert:hover {\n",
              "      background-color: #434B5C;\n",
              "      box-shadow: 0px 1px 3px 1px rgba(0, 0, 0, 0.15);\n",
              "      filter: drop-shadow(0px 1px 2px rgba(0, 0, 0, 0.3));\n",
              "      fill: #FFFFFF;\n",
              "    }\n",
              "  </style>\n",
              "\n",
              "      <script>\n",
              "        const buttonEl =\n",
              "          document.querySelector('#df-be44962b-daab-426b-b617-53d6d6258a46 button.colab-df-convert');\n",
              "        buttonEl.style.display =\n",
              "          google.colab.kernel.accessAllowed ? 'block' : 'none';\n",
              "\n",
              "        async function convertToInteractive(key) {\n",
              "          const element = document.querySelector('#df-be44962b-daab-426b-b617-53d6d6258a46');\n",
              "          const dataTable =\n",
              "            await google.colab.kernel.invokeFunction('convertToInteractive',\n",
              "                                                     [key], {});\n",
              "          if (!dataTable) return;\n",
              "\n",
              "          const docLinkHtml = 'Like what you see? Visit the ' +\n",
              "            '<a target=\"_blank\" href=https://colab.research.google.com/notebooks/data_table.ipynb>data table notebook</a>'\n",
              "            + ' to learn more about interactive tables.';\n",
              "          element.innerHTML = '';\n",
              "          dataTable['output_type'] = 'display_data';\n",
              "          await google.colab.output.renderOutput(dataTable, element);\n",
              "          const docLink = document.createElement('div');\n",
              "          docLink.innerHTML = docLinkHtml;\n",
              "          element.appendChild(docLink);\n",
              "        }\n",
              "      </script>\n",
              "    </div>\n",
              "  </div>\n",
              "  "
            ]
          },
          "metadata": {},
          "execution_count": 3
        }
      ]
    },
    {
      "cell_type": "code",
      "source": [
        "data.columns = [\"responses\", \"tweets\"] "
      ],
      "metadata": {
        "id": "qFwM6XN8iRzw"
      },
      "execution_count": null,
      "outputs": []
    },
    {
      "cell_type": "code",
      "source": [
        "class SentimentAnalysis:\n",
        "    def __init__(self):\n",
        "        self.positive_words_count = {}\n",
        "        self.negative_words_count = {}\n",
        "        self.positive_words_probability = {}\n",
        "        self.negative_words_probability = {}\n",
        "\n",
        "    # %%%%%%%%%%%%%%%%%%%%%%%%%%%%%%%%%%%%% REMOVE DUPLICATES %%%%%%%%%%%%%%%%%%%%%%%%%%%%%%%%%%%%%\n",
        "    def removeDuplicates(self, data):\n",
        "        lengthBefore = len(data)\n",
        "\n",
        "        data = data.drop_duplicates()\n",
        "        data = data.reset_index(drop=True)\n",
        "\n",
        "        lengthAfter = len(data)\n",
        "        print(f\"{lengthBefore - lengthAfter} duplicate rows are removed\")\n",
        "        return data\n",
        "\n",
        "    def plotDataResponse(self, data):\n",
        "        sns.countplot(data['responses'])\n",
        "        print(data['responses'].value_counts())\n",
        "\n",
        "        # %%%%%%%%%%%%%%%%%%%%%%%%%%%%%%%%%%%%% CLEANING DATA %%%%%%%%%%%%%%%%%%%%%%%%%%%%%%%%%%%%%\n",
        "\n",
        "    # Remove (1) @User (2) {URL}, (3) Emojies, (4) Punctuations, (5) Double spaces\n",
        "    # Indices 0, 15, 1755\n",
        "    def remove_user_punc(self, tweet):\n",
        "\n",
        "        # ------------------------------------------------------------------- (1) Removing ('@User')\n",
        "        tweet = re.sub('@[\\w]*', '', tweet)\n",
        "\n",
        "        # ------------------------------------------------------------------- (2) Removing ('{URL}')\n",
        "        tweet = re.sub('{URL}', '', tweet)\n",
        "\n",
        "        # ------------------------------------------------------------------- (3) Removing (Emojies)\n",
        "        tweet = re.sub('[^a-zA-Z]', ' ', tweet)\n",
        "\n",
        "        # ------------------------------------------------------------------- (4) Removing (Puncuations : '!\"#$%&\\'()*+,-./:;<=>?@[\\\\]^_`{|}~')\n",
        "        for pun in string.punctuation:\n",
        "            tweet = tweet.replace(pun, \"\")\n",
        "\n",
        "        # ------------------------------------------------------------------- (5) Removing (Extra Spaces)\n",
        "        tweet = tweet.replace(\"  \", \"\")\n",
        "\n",
        "        return tweet\n",
        "\n",
        "    def cleaningData(self, data):\n",
        "        data['tweets'] = data['tweets'].apply(self.remove_user_punc)\n",
        "        print(\"-> Words starting with @ are removed successfully\")\n",
        "        print(\"-> Words like {URL} are removed successfully\")\n",
        "        print(\"-> Words like Emojies are removed successfully\")\n",
        "        print(\"-> Puncuations are removed successfully\")\n",
        "        print(\"-> Double spaces are removed successfully\")\n",
        "        return data\n",
        "\n",
        "    # %%%%%%%%%%%%%%%%%%%%%%%%%%%%%%%%%%%%% WORDS COUNT %%%%%%%%%%%%%%%%%%%%%%%%%%%%%%%%%%%%%\n",
        "    # 0 - Negative; 1 - Positive\n",
        "    def tweet_words_count(self, tweets, responses):\n",
        "        # Loop for each Sentence in Data -----------------------------------\n",
        "        for i in range(len(tweets)):\n",
        "            tweet_words = tweets[i].split()\n",
        "            # Loop for each Word in Sentence -------------------------------\n",
        "            for word in tweet_words:\n",
        "                # Adding WORD with NEGATIVE FREQUENCY ----------------------\n",
        "                if responses[i] == 0:\n",
        "                    if word in self.negative_words_count.keys():\n",
        "                        self.negative_words_count[word] += 1\n",
        "                    else:\n",
        "                        self.negative_words_count[word] = 1\n",
        "                # Adding WORD and POSITIVE FREQUENCY ----------------------\n",
        "                else:\n",
        "                    if word in self.positive_words_count.keys():\n",
        "                        self.positive_words_count[word] += 1\n",
        "                    else:\n",
        "                        self.positive_words_count[word] = 1\n",
        "        return ''\n",
        "\n",
        "    # %%%%%%%%%%%%%%%%%%%%%%%%%%%%%%%%%%%%% WORD PROBABILITIES %%%%%%%%%%%%%%%%%%%%%%%%%%%%%%%%%%%%%\n",
        "    def words_probability(self):\n",
        "        total_tweet_words = set(list(self.positive_words_count.keys()) + list(self.negative_words_count.keys()))\n",
        "        for key in total_tweet_words:\n",
        "            # KEY POSITIVE Count ---------------------------------------------\n",
        "            if key in self.positive_words_count.keys():\n",
        "                key_positive = self.positive_words_count[key]\n",
        "            else:\n",
        "                key_positive = 0\n",
        "\n",
        "            # KEY NEGATIVE Count ---------------------------------------------\n",
        "            if key in self.negative_words_count.keys():\n",
        "                key_negative = self.negative_words_count[key]\n",
        "            else:\n",
        "                key_negative = 0\n",
        "\n",
        "            key_total = key_positive + key_negative\n",
        "            self.positive_words_probability[key] = key_positive / key_total\n",
        "            self.negative_words_probability[key] = key_negative / key_total\n",
        "        return ''\n",
        "\n",
        "    # %%%%%%%%%%%%%%%%%%%%%%%%%%%%%%%%%%%%% PREPROCESSING DATA %%%%%%%%%%%%%%%%%%%%%%%%%%%%%%%%%%%%%\n",
        "    def preprocessData(self, data):\n",
        "        data = self.removeDuplicates(data)\n",
        "        data = self.cleaningData(data)\n",
        "        return data\n",
        "\n",
        "    # %%%%%%%%%%%%%%%%%%%%%%%%%%%%%%%%%%%%% TRAINING %%%%%%%%%%%%%%%%%%%%%%%%%%%%%%%%%%%%%\n",
        "    def train(self, tweets, responses):\n",
        "        _ = self.tweet_words_count(tweets, responses)\n",
        "        _ = self.words_probability()\n",
        "        print(\"Training is completed successfully\")\n",
        "\n",
        "    # %%%%%%%%%%%%%%%%%%%%%%%%%%%%%%%%%%%%% EVALUATE TEST DATA %%%%%%%%%%%%%%%%%%%%%%%%%%%%%%%%%%%%%\n",
        "    def evaluate(self, tweets, responses):\n",
        "        matched_responses = 0\n",
        "        results = self.predict(tweets)\n",
        "        for i in range(len(responses)):\n",
        "            if responses[i]==results[i]:\n",
        "                matched_responses += 1\n",
        "        print(f\"-> Accuracy : {(matched_responses/len(responses))*100}%\")\n",
        "\n",
        "    # %%%%%%%%%%%%%%%%%%%%%%%%%%%%%%%%%%%%% PREDICT %%%%%%%%%%%%%%%%%%%%%%%%%%%%%%%%%%%%%\n",
        "    def predict(self,  tweets):\n",
        "        positive_tweet_prob = 1\n",
        "        negative_tweet_prob = 1\n",
        "        results = []\n",
        "\n",
        "        for i in range(len(tweets)):\n",
        "            tweet_words = tweets[i].split()\n",
        "            for key in tweet_words:\n",
        "                if key in self.positive_words_probability.keys():\n",
        "                    positive_tweet_prob *= self.positive_words_probability[key]\n",
        "\n",
        "                if key in self.negative_words_probability.keys():\n",
        "                    negative_tweet_prob *= self.negative_words_probability[key]\n",
        "            if positive_tweet_prob > negative_tweet_prob:\n",
        "                results.append(1)\n",
        "            else:\n",
        "                results.append(0)\n",
        "        return results"
      ],
      "metadata": {
        "id": "R0eGQrG9iuyf"
      },
      "execution_count": null,
      "outputs": []
    },
    {
      "cell_type": "code",
      "source": [
        "SA = SentimentAnalysis()\n",
        "data = SA.preprocessData(data)"
      ],
      "metadata": {
        "colab": {
          "base_uri": "https://localhost:8080/"
        },
        "id": "qO6GvCoaixuR",
        "outputId": "3fa137be-ab90-4e6d-e078-02a2e5281665"
      },
      "execution_count": null,
      "outputs": [
        {
          "output_type": "stream",
          "name": "stdout",
          "text": [
            "165 duplicate rows are removed\n",
            "-> Words starting with @ are removed successfully\n",
            "-> Words like {URL} are removed successfully\n",
            "-> Words like Emojies are removed successfully\n",
            "-> Puncuations are removed successfully\n",
            "-> Double spaces are removed successfully\n"
          ]
        }
      ]
    },
    {
      "cell_type": "code",
      "source": [
        "SA.train(data['tweets'], data['responses'])"
      ],
      "metadata": {
        "colab": {
          "base_uri": "https://localhost:8080/"
        },
        "id": "dRH-FQqki4wn",
        "outputId": "874ec8fa-7780-47d4-ed45-4786eb83df50"
      },
      "execution_count": null,
      "outputs": [
        {
          "output_type": "stream",
          "name": "stdout",
          "text": [
            "Training is completed successfully\n"
          ]
        }
      ]
    },
    {
      "cell_type": "code",
      "source": [
        "SA.evaluate(data['tweets'], data['responses'])"
      ],
      "metadata": {
        "colab": {
          "base_uri": "https://localhost:8080/"
        },
        "id": "GKwS-qjhjJMa",
        "outputId": "d4288073-ace7-4a7b-d379-883468e28ad9"
      },
      "execution_count": null,
      "outputs": [
        {
          "output_type": "stream",
          "name": "stdout",
          "text": [
            "Accuracy : 50.087242122549526%\n"
          ]
        }
      ]
    },
    {
      "cell_type": "code",
      "source": [
        "results = SA.predict(data['tweets'])"
      ],
      "metadata": {
        "id": "gMq2fGN2jQYC"
      },
      "execution_count": null,
      "outputs": []
    },
    {
      "cell_type": "code",
      "source": [
        "result_df = pd.DataFrame(columns=[\"actual\", \"pred\"])\n",
        "result_df[\"actual\"] = data['responses']\n",
        "result_df[\"pred\"] = results"
      ],
      "metadata": {
        "id": "EqPuwLHHjhAd"
      },
      "execution_count": null,
      "outputs": []
    },
    {
      "cell_type": "code",
      "source": [
        "(result_df['actual']==result_df['pred']).sum()/len(result_df)"
      ],
      "metadata": {
        "colab": {
          "base_uri": "https://localhost:8080/"
        },
        "id": "d3IOae9EjpTN",
        "outputId": "8ec72b8a-e195-40ed-d4f5-86220b32d4fb"
      },
      "execution_count": null,
      "outputs": [
        {
          "output_type": "execute_result",
          "data": {
            "text/plain": [
              "0.5008724212254952"
            ]
          },
          "metadata": {},
          "execution_count": 27
        }
      ]
    },
    {
      "cell_type": "code",
      "source": [],
      "metadata": {
        "id": "MUZizM8SkAMh"
      },
      "execution_count": null,
      "outputs": []
    }
  ]
}