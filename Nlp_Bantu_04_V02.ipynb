{
  "nbformat": 4,
  "nbformat_minor": 0,
  "metadata": {
    "colab": {
      "provenance": [],
      "collapsed_sections": [
        "HvS8ncVwgtFz"
      ],
      "include_colab_link": true
    },
    "kernelspec": {
      "name": "python3",
      "display_name": "Python 3"
    },
    "language_info": {
      "name": "python"
    }
  },
  "cells": [
    {
      "cell_type": "markdown",
      "metadata": {
        "id": "view-in-github",
        "colab_type": "text"
      },
      "source": [
        "<a href=\"https://colab.research.google.com/github/chandanareddy-enugala/NLP-SLU/blob/main/Nlp_Bantu_04_V02.ipynb\" target=\"_parent\"><img src=\"https://colab.research.google.com/assets/colab-badge.svg\" alt=\"Open In Colab\"/></a>"
      ]
    },
    {
      "cell_type": "code",
      "execution_count": 1,
      "metadata": {
        "id": "WFeg-Zqpe6AV",
        "colab": {
          "base_uri": "https://localhost:8080/"
        },
        "outputId": "fbcb4e1f-f1bf-4980-ceb3-e1a3d6eedf6f"
      },
      "outputs": [
        {
          "output_type": "stream",
          "name": "stdout",
          "text": [
            "Mounted at /content/drive\n"
          ]
        }
      ],
      "source": [
        "from google.colab import drive\n",
        "drive.mount('/content/drive')"
      ]
    },
    {
      "cell_type": "markdown",
      "source": [
        "**Important Notes from given Problem Statement:**\n",
        "- It is essential that the probabilities for all 48 characters with a given history sum to 1.0!. In other words, you must produce a conditional probability distribution at each step — returning probabilities that sum to\n",
        "more than 1.0 is an easy way to “cheat” and I'll be checking carefully that this isn't the case.\n",
        "- Evaluate functions that return the probability of a character given the history of characters preceding it (with trivial implementations).\n",
        "\n",
        "- Your program to be a call to the “evaluate” function which displays the cross entropies of your four language models on the test sets.\n",
        "- Evaluation: Your goal is to produce language models with the smallest cross-entropy (in units of bits per\n",
        "character)\n",
        "- H = -1/N sum i=1toN (log2(P(ci\\c1...ci-1))); where c1,..., cN are the characters of the test corpus."
      ],
      "metadata": {
        "id": "zEkVhNOd8zTd"
      }
    },
    {
      "cell_type": "markdown",
      "source": [
        "**Approach of the Code**"
      ],
      "metadata": {
        "id": "_9XMVqUckds1"
      }
    },
    {
      "cell_type": "markdown",
      "source": [
        "======================================================================= 1 Loading   \n",
        "1) Load train dataset  \n",
        "\n",
        "======================================================================= 2 Cleaning  \n",
        "2) Prepare the useful characters: ASCII_Chars  \n",
        "3) Clean dataset:  \n",
        "  - Remove punctuation characters  \n",
        "  - List of all the characters without losing the order of the characters  \n",
        "\n",
        "======================================================================= 3 Training     \n",
        "4) Find the ngrams & ngram_nextCharacters of these characters  \n",
        "5) Find ngrams count & ngram_nextCharacters count and store them  \n",
        "\n",
        "======================================================================= 4 Probability  \n",
        "6) Find the probability of ngram & nextChar  \n",
        "\n",
        "======================================================================= 5 Evaluating  \n",
        "8) For each given history & nextChar,   \n",
        "  - get the probability of history(ngram) and nextChar  \n",
        "  - apply -log2 on probability  \n",
        "  - summation of all these gives result as log2loss.  "
      ],
      "metadata": {
        "id": "z_BGsYX7WJ5A"
      }
    },
    {
      "cell_type": "markdown",
      "source": [
        "### **Defining Language Model**"
      ],
      "metadata": {
        "id": "MCvUGtnNgmh0"
      }
    },
    {
      "cell_type": "code",
      "source": [
        "import re\n",
        "import os\n",
        "import sys\n",
        "import numpy as np\n",
        "import time\n",
        "import math\n",
        "from datetime import datetime"
      ],
      "metadata": {
        "id": "0JDOhM3_fNDP"
      },
      "execution_count": 2,
      "outputs": []
    },
    {
      "cell_type": "code",
      "source": [
        "class DictionaryFunctions:\n",
        "  def __init__(self) -> None:\n",
        "    pass\n",
        "  def addVal_to_dictKey(self, D, k, val=1): # Inputs: Dictionary, Key, Value; Ouput: Dictionary (Updated)\n",
        "    if k in D:\n",
        "      if type(val)==int:\n",
        "        D[k] += val\n",
        "      elif (type(val)==str):\n",
        "        D[k].append(val)\n",
        "    else:\n",
        "      if type(val)==int:\n",
        "        D[k] = val\n",
        "      elif (type(val)==str):\n",
        "        D[k] = [val]\n",
        "    return D\n",
        "\n",
        "    def find_probs_of_dict(self, D):\n",
        "      total = 0\n",
        "      for key in D.keys():\n",
        "        total += D[key]\n",
        "      for key in D.keys():\n",
        "        D[key] /= total\n",
        "      return D \n",
        "\n",
        "  def get_dict_from_list(self, L):\n",
        "    D = {}\n",
        "    for char in L:\n",
        "      if char in D:\n",
        "        D[char] += 1\n",
        "      else:\n",
        "        D[char] = 1\n",
        "    return D\n",
        "\n",
        "  def max_of_dict(self, D):  \n",
        "    maxProb = 0\n",
        "    maxKey = ''\n",
        "    for key, probVal in D.items():\n",
        "      if probVal>maxProb:\n",
        "        maxProb = probVal\n",
        "        maxKey = key\n",
        "    return (maxKey, maxProb)"
      ],
      "metadata": {
        "id": "TsMUF__fmwzL"
      },
      "execution_count": 3,
      "outputs": []
    },
    {
      "cell_type": "code",
      "source": [
        "class Language_Model:\n",
        "  def __init__(self, n, lang=\"\") -> None:\n",
        "    self.n = n\n",
        "    self.lang = lang\n",
        "    self.DF = DictionaryFunctions()\n",
        "    self.ASCII_Chars = ' !\"\\'(),-.0123456789:;?abcdefghijklmnopqrstuvwxyz'\n",
        "    self.sentence_EndChars = '.!?'\n",
        "    self.ngrams = {}\n",
        "    self.ngrams_nextChars = {}\n",
        "    self._ngrams_List = []\n",
        "    self._ngrams_nextChars_List = []\n",
        "    self._ngrams_possChars = {}\n",
        "    self.startPad = ['<START>']\n",
        "    self.endPad = ['<END>']\n",
        "    self._ngrams_notAvailable = []\n",
        "    self._ngrams_nextChars_notAvailable = []\n",
        "  \n",
        "  def _get_ngrams(self, text):\n",
        "    n = self.n\n",
        "    chars_tokens = (n)*self.startPad + text + (n)*self.endPad\n",
        "    ngrams_nextChars = [(tuple(chars_tokens[i:i+n]),chars_tokens[i+n]) for i in range(len(chars_tokens)-n)]\n",
        "    return ngrams_nextChars\n",
        "\n",
        "  def clean_data(self, dataset: str) -> list:  \n",
        "    ASCII_Chars = self.ASCII_Chars\n",
        "    all_characters_in_data = re.findall(r\"[%s]\"%ASCII_Chars, dataset)\n",
        "    # data_clean = \"\".join(all_characters_in_data)\n",
        "    return all_characters_in_data\n",
        "    \n",
        "  def get_Sentences_from_Text(self, text):\n",
        "    if type(text)==list:\n",
        "      all_characters_in_data = text\n",
        "    elif type(text) == str:\n",
        "      all_characters_in_data = list(text)\n",
        "    else:\n",
        "      return \"Please pass input either 'List_of_Characters' or 'Text_String'.\"\n",
        "    endChars = self.sentence_EndChars # endChars=\".!?\" ; where '.' -> (period), '!' -> (exclamation mark) and '?' -> (question mark)\n",
        "    sentences = []\n",
        "    sentence = []\n",
        "    for c in all_characters_in_data:\n",
        "      if c not in endChars:\n",
        "        sentence.append(c)\n",
        "      else:\n",
        "        sentence.append(c)\n",
        "        sentences.append(sentence)\n",
        "        sentence = []\n",
        "    return sentences\n",
        "  \n",
        "  def store_ngrams(self, sentences):\n",
        "    for sent in sentences:\n",
        "      ngrams_nextChars = self._get_ngrams(sent)\n",
        "      for ngram_nextChar in ngrams_nextChars:\n",
        "        self._ngrams_nextChars_List.append(ngram_nextChar)\n",
        "        self._ngrams_List.append(ngram_nextChar[0])\n",
        "        self._ngrams_possChars = self.DF.addVal_to_dictKey(self._ngrams_possChars, ngram_nextChar[0], str(ngram_nextChar[1]))\n",
        "\n",
        "    self.ngrams_nextChars = self.DF.get_dict_from_list(self._ngrams_nextChars_List)\n",
        "    self.ngrams = self.DF.get_dict_from_list(self._ngrams_List)\n",
        "\n",
        "    return \"Success: ngrams & ngrams_nextChars are stored successfully\"\n",
        "  \n",
        "  def fit(self, data):\n",
        "    all_characters_in_data = self.clean_data(data)\n",
        "    sentences = self.get_Sentences_from_Text(all_characters_in_data)\n",
        "    statusMessage = self.store_ngrams(sentences)\n",
        "    print(\"==== TRAINING IS COMPLETED ====\")\n",
        "    print(statusMessage)\n",
        "  \n",
        "  def get_prob(self, ngram, char):\n",
        "    if ngram in self.ngrams:\n",
        "      A = self.ngrams[ngram]\n",
        "    else:\n",
        "      self._ngrams_notAvailable.append(ngram)\n",
        "      A = 0\n",
        "    ngram_nextChar = tuple((ngram, char))\n",
        "\n",
        "    if ngram_nextChar in self.ngrams_nextChars:\n",
        "      B = self.ngrams_nextChars[ngram_nextChar]\n",
        "    else:\n",
        "      self._ngrams_nextChars_notAvailable.append(ngram_nextChar)\n",
        "      B = 0\n",
        "    if A!=0:\n",
        "      result = float(B/A)\n",
        "    else:\n",
        "      result = 0\n",
        "    return result\n",
        "  \n",
        "  def evaluate(self, text: str):\n",
        "    total_log2loss = 0\n",
        "    ngram = self.n * self.startPad\n",
        "    inputList = list(text)\n",
        "    for char in text:\n",
        "      result = self.get_prob(tuple(ngram), char)\n",
        "      if result != 0:\n",
        "        total_log2loss -= np.log2(result)\n",
        "      \n",
        "      ngram = ngram[1:]+[char]\n",
        "    return total_log2loss/len(inputList)\n",
        "  \n",
        "  def evaluation_Status(self):\n",
        "    print(f\"Not available 'ngrams' are : {'-'*10}\")\n",
        "    print(self._ngrams_notAvailable)\n",
        "    print(f\"Not available 'ngrams_nextChars' are : {'-'*10}\")\n",
        "    print(self._ngrams_nextChars_notAvailable)\n"
      ],
      "metadata": {
        "id": "jKb0_9cofxKY"
      },
      "execution_count": 4,
      "outputs": []
    },
    {
      "cell_type": "markdown",
      "source": [
        "### **Load the Datasets**"
      ],
      "metadata": {
        "id": "HvS8ncVwgtFz"
      }
    },
    {
      "cell_type": "code",
      "source": [
        "def load_data(filePath):\n",
        "  data_cwe = open(filePath, 'r').read().lower()\n",
        "  return data_cwe"
      ],
      "metadata": {
        "id": "rPMI5oACgxwr"
      },
      "execution_count": 5,
      "outputs": []
    },
    {
      "cell_type": "code",
      "source": [
        "filePath = \"/content/drive/MyDrive/cwe-train.txt\"\n",
        "train_data = load_data(filePath)"
      ],
      "metadata": {
        "id": "yi8TCu-bpAMk"
      },
      "execution_count": 7,
      "outputs": []
    },
    {
      "cell_type": "code",
      "source": [
        "filePath = \"/content/drive/MyDrive/cwe-test.txt\"\n",
        "test_data = load_data(filePath)"
      ],
      "metadata": {
        "id": "jEjY7j6zFB8b"
      },
      "execution_count": 6,
      "outputs": []
    },
    {
      "cell_type": "markdown",
      "source": [
        "### **Train the Language Model : SWE**"
      ],
      "metadata": {
        "id": "xtseLCYng04C"
      }
    },
    {
      "cell_type": "markdown",
      "source": [
        "**5-gram Model**"
      ],
      "metadata": {
        "id": "WY8iItY1hBBz"
      }
    },
    {
      "cell_type": "code",
      "source": [
        "startTime = datetime.now()\n",
        "\n",
        "LM_5 = Language_Model(5)\n",
        "LM_5.fit(train_data)\n",
        "\n",
        "endTime = datetime.now()\n",
        "print(\"\\n\")\n",
        "print(f\"Code running time : {endTime-startTime}\")"
      ],
      "metadata": {
        "colab": {
          "base_uri": "https://localhost:8080/"
        },
        "id": "ohz7wZXCBEy5",
        "outputId": "8a4538c9-9469-4053-e49e-738735182b4d"
      },
      "execution_count": 8,
      "outputs": [
        {
          "output_type": "stream",
          "name": "stdout",
          "text": [
            "==== TRAINING IS COMPLETED ====\n",
            "Success: ngrams & ngrams_nextChars are stored successfully\n",
            "\n",
            "\n",
            "Code running time : 0:00:02.357309\n"
          ]
        }
      ]
    },
    {
      "cell_type": "code",
      "source": [
        "log2loss = LM_5.evaluate(train_data)\n",
        "print(log2loss)"
      ],
      "metadata": {
        "colab": {
          "base_uri": "https://localhost:8080/"
        },
        "id": "TtNRbIftfm1d",
        "outputId": "7c18b512-8167-4b31-89e6-9e20678e69a6"
      },
      "execution_count": 9,
      "outputs": [
        {
          "output_type": "stream",
          "name": "stdout",
          "text": [
            "1.209649119639972\n"
          ]
        }
      ]
    },
    {
      "cell_type": "code",
      "source": [
        "log2loss = LM_5.evaluate(test_data)\n",
        "print(log2loss)"
      ],
      "metadata": {
        "colab": {
          "base_uri": "https://localhost:8080/"
        },
        "id": "zhBKsL61WX5j",
        "outputId": "e8ce8991-2517-40b7-e868-b12d691275e9"
      },
      "execution_count": 10,
      "outputs": [
        {
          "output_type": "stream",
          "name": "stdout",
          "text": [
            "1.1544019103445355\n"
          ]
        }
      ]
    },
    {
      "cell_type": "markdown",
      "source": [
        "**10-gram Model**"
      ],
      "metadata": {
        "id": "TB6uqGH-hInY"
      }
    },
    {
      "cell_type": "code",
      "source": [
        "n = 10\n",
        "\n",
        "startTime = datetime.now()\n",
        "\n",
        "LM_10 = Language_Model(n)\n",
        "LM_10.fit(train_data)\n",
        "\n",
        "print(\"\\n\")\n",
        "print(f\"Training Log2Loss : {LM_10.evaluate(train_data)}\") \n",
        "print(f\"Testing Log2Loss : {LM_10.evaluate(test_data)}\") \n",
        "\n",
        "endTime = datetime.now()\n",
        "print(\"\\n\")\n",
        "print(f\"Code running time : {endTime-startTime}\")"
      ],
      "metadata": {
        "colab": {
          "base_uri": "https://localhost:8080/"
        },
        "id": "pu_I-P9ZhPhR",
        "outputId": "1411babf-0fbd-4bae-c35c-a7ce1b63853c"
      },
      "execution_count": 11,
      "outputs": [
        {
          "output_type": "stream",
          "name": "stdout",
          "text": [
            "==== TRAINING IS COMPLETED ====\n",
            "Success: ngrams & ngrams_nextChars are stored successfully\n",
            "\n",
            "\n",
            "Training Log2Loss : 0.3780673061919561\n",
            "Testing Log2Loss : 0.27591094078507133\n",
            "\n",
            "\n",
            "Code running time : 0:00:05.487034\n"
          ]
        }
      ]
    },
    {
      "cell_type": "markdown",
      "source": [
        "**15-gram Model**"
      ],
      "metadata": {
        "id": "ugJdy4eDhtw1"
      }
    },
    {
      "cell_type": "code",
      "source": [
        "n = 15\n",
        "\n",
        "startTime = datetime.now()\n",
        "\n",
        "LM_15 = Language_Model(n)\n",
        "LM_15.fit(train_data)\n",
        "\n",
        "print(\"\\n\")\n",
        "print(f\"Training Log2Loss : {LM_15.evaluate(train_data)}\") \n",
        "print(f\"Testing Log2Loss : {LM_15.evaluate(test_data)}\") \n",
        "\n",
        "endTime = datetime.now()\n",
        "print(\"\\n\")\n",
        "print(f\"Code running time : {endTime-startTime}\")"
      ],
      "metadata": {
        "colab": {
          "base_uri": "https://localhost:8080/"
        },
        "id": "YnGA_k-GhetT",
        "outputId": "61d186dd-98cd-43e7-a4e5-553174bb2ea0"
      },
      "execution_count": 12,
      "outputs": [
        {
          "output_type": "stream",
          "name": "stdout",
          "text": [
            "==== TRAINING IS COMPLETED ====\n",
            "Success: ngrams & ngrams_nextChars are stored successfully\n",
            "\n",
            "\n",
            "Training Log2Loss : 0.10429658363680185\n",
            "Testing Log2Loss : 0.057930800274652756\n",
            "\n",
            "\n",
            "Code running time : 0:00:06.140572\n"
          ]
        }
      ]
    }
  ]
}