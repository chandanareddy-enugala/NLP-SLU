{
  "nbformat": 4,
  "nbformat_minor": 0,
  "metadata": {
    "colab": {
      "provenance": [],
      "collapsed_sections": [
        "MCvUGtnNgmh0",
        "fCWxCwrekBVx",
        "xtseLCYng04C"
      ],
      "include_colab_link": true
    },
    "kernelspec": {
      "name": "python3",
      "display_name": "Python 3"
    },
    "language_info": {
      "name": "python"
    }
  },
  "cells": [
    {
      "cell_type": "markdown",
      "metadata": {
        "id": "view-in-github",
        "colab_type": "text"
      },
      "source": [
        "<a href=\"https://colab.research.google.com/github/chandanareddy-enugala/NLP-SLU/blob/main/nlp5.ipynb\" target=\"_parent\"><img src=\"https://colab.research.google.com/assets/colab-badge.svg\" alt=\"Open In Colab\"/></a>"
      ]
    },
    {
      "cell_type": "code",
      "execution_count": null,
      "metadata": {
        "id": "WFeg-Zqpe6AV",
        "colab": {
          "base_uri": "https://localhost:8080/"
        },
        "outputId": "c3350bf3-2b7d-4bf4-81e2-2f568743de60"
      },
      "outputs": [
        {
          "output_type": "stream",
          "name": "stdout",
          "text": [
            "Mounted at /content/drive\n"
          ]
        }
      ],
      "source": [
        "from google.colab import drive\n",
        "drive.mount('/content/drive')"
      ]
    },
    {
      "cell_type": "code",
      "source": [
        "import numpy as np\n",
        "import pandas as pd\n",
        "\n",
        "import os\n",
        "from keras.models import Model\n",
        "from keras.layers import Input, LSTM, Dense, GRU\n",
        "import matplotlib.pyplot as plt\n",
        "import seaborn as sns\n",
        "\n",
        "from keras.utils import to_categorical\n",
        "from numpy import argmax\n",
        "\n",
        "\n",
        "import re\n",
        "import os\n",
        "import sys\n",
        "import numpy as np\n",
        "import time\n",
        "import math\n",
        "from datetime import datetime"
      ],
      "metadata": {
        "id": "SvkvflzkJOmU"
      },
      "execution_count": null,
      "outputs": []
    },
    {
      "cell_type": "markdown",
      "source": [
        "### **Defining Dictionary Functions Class**"
      ],
      "metadata": {
        "id": "MCvUGtnNgmh0"
      }
    },
    {
      "cell_type": "markdown",
      "source": [
        "### **Loading Dataset**"
      ],
      "metadata": {
        "id": "fCWxCwrekBVx"
      }
    },
    {
      "cell_type": "code",
      "source": [
        "def load_data(filePath):\n",
        "  data_cwe = open(filePath, 'r').read().lower()\n",
        "  return data_cwe"
      ],
      "metadata": {
        "id": "5gVTam4ukEQu"
      },
      "execution_count": null,
      "outputs": []
    },
    {
      "cell_type": "markdown",
      "source": [
        "### **Preprocessing Model Preparation**"
      ],
      "metadata": {
        "id": "HvS8ncVwgtFz"
      }
    },
    {
      "cell_type": "code",
      "source": [
        "class Language_Translation_Model:\n",
        "  def __init__(self, lang=\"\") -> None:\n",
        "    self.lang = lang\n",
        "    self.data = pd.DataFrame(columns=['sentence'])\n",
        "    self.all_Unique_Characters = None\n",
        "    self.length_all_Unique_Characters = None\n",
        "    self.length_max_sentence = None\n",
        "    self.sentenceArray_to_OHE = None\n",
        "    self.char_to_num = None\n",
        "    self.num_to_char = None\n",
        "    # self.ASCII_Chars = ' !\"\\'(),-.0123456789:;?abcdefghijklmnopqrstuvwxyz'\n",
        "  \n",
        "  def sentence_to_array(self, sentence):\n",
        "    sentenceArray = [self.char_to_num[char] for char in sentence]\n",
        "    #padding = [0 for _ in range(self.length_all_Unique_Characters-len(sentenceArray))]\n",
        "    #sentenceArray = np.array(sentenceArray+padding)\n",
        "    return sentenceArray\n",
        "  \n",
        "  def sentenceArray_to_OHE1(self, sentenceArray):\n",
        "    sentenceArray_OHE = to_categorical(sentenceArray)\n",
        "    (req_rows, req_cols) = (self.length_max_sentence, self.length_all_Unique_Characters)\n",
        "    (actual_rows, actual_cols) = sentenceArray_OHE.shape\n",
        "    sentenceArray_OHE = np.concatenate((sentenceArray_OHE, np.zeros((req_rows-actual_rows, actual_cols), dtype='float32')), axis=0)\n",
        "    sentenceArray_OHE = np.concatenate((sentenceArray_OHE, np.zeros((req_rows, req_cols-actual_cols), dtype='float32')), axis=1)\n",
        "    return sentenceArray_OHE\n",
        "\n",
        "  def OHE_to_sentenceArray(self, sentence_array_OHE):\n",
        "    sentenceArray = []\n",
        "    for OHE in sentence_array_OHE:\n",
        "      if sum(OHE)!=0:\n",
        "        sentenceArray.append(argmax(OHE))\n",
        "    return sentenceArray\n",
        "  \n",
        "  def preprocess_data(self, text):\n",
        "    # Cleaning --------------------------\n",
        "    text = text.replace(\"\\n\", \" \") \n",
        "    for char in [' .', ' ,', ' ;', ' ?', ' !', '( ', ' )']:\n",
        "      text = text.replace(char, char.strip())\n",
        "    text = text.replace(\"<s>\", \"\")\n",
        "    \n",
        "    # =========================== CHARACTERS ===========================\n",
        "    # Unique Characters -----------------\n",
        "    self.all_Unique_Characters = list(set(text.replace(\"</s>\", \"\")))\n",
        "    self.all_Unique_Characters.sort()\n",
        "    \n",
        "    # Max Length of Unique Characters ---\n",
        "    self.length_all_Unique_Characters = len(self.all_Unique_Characters)\n",
        "    \n",
        "    # Preparing Character to Number and vice-versa -----\n",
        "    self.char_to_num = {char:num for num, char in enumerate(self.all_Unique_Characters)}\n",
        "    self.num_to_char = {val:key for key, val in self.char_to_num.items()}\n",
        "\n",
        "    # =========================== SENTENCES ===========================\n",
        "    # Sentences -------------------------\n",
        "    sentences = text.split(\"</s>\")[:-1]\n",
        "    sentences = [sentence.strip() for sentence in sentences]\n",
        "    \n",
        "    # Max Length of Sentences -----------\n",
        "    self.length_max_sentence = max([len(sentence) for sentence in sentences])\n",
        "    \n",
        "    # Preparing OHE Array Variable ------\n",
        "    self.sentenceArray_to_OHE = np.zeros((self.length_max_sentence, self.length_all_Unique_Characters), dtype='float32')\n",
        "    \n",
        "    # =========================== DATAFRAME ===========================\n",
        "    # Storing sentences in dataframe ----\n",
        "    self.data['sentence'] = sentences\n",
        "    # Converting Sentence to Array Numbers ----\n",
        "    self.data['sentence_array'] = self.data['sentence'].apply(lambda x: self.sentence_to_array(x))\n",
        "    # Converting Array Numbers to One-Hot-Encoding (OHE) ----\n",
        "    self.data['sentence_array_OHE'] = self.data['sentence_array'].apply(lambda x: self.sentenceArray_to_OHE1(x))\n",
        "\n",
        "    return self.data"
      ],
      "metadata": {
        "id": "0JI-c16BTH7G"
      },
      "execution_count": null,
      "outputs": []
    },
    {
      "cell_type": "code",
      "source": [
        "filePath = \"/content/drive/MyDrive/NLP/NLP_Assingnmnet05/data/train-05/train-source.txt\"\n",
        "train_input_data = load_data(filePath)"
      ],
      "metadata": {
        "id": "yi8TCu-bpAMk"
      },
      "execution_count": null,
      "outputs": []
    },
    {
      "cell_type": "code",
      "source": [
        "Input_LTM = Language_Translation_Model()\n",
        "Input_data = Input_LTM.preprocess_data(train_input_data[0:10000])\n",
        "Input_data.head()"
      ],
      "metadata": {
        "colab": {
          "base_uri": "https://localhost:8080/",
          "height": 337
        },
        "id": "4s2tKcYwXn1k",
        "outputId": "0ba8e5f7-344d-41cb-9dea-02e3774943e3"
      },
      "execution_count": null,
      "outputs": [
        {
          "output_type": "execute_result",
          "data": {
            "text/plain": [
              "                                            sentence  \\\n",
              "0  cinnte go leór, thiocfadh dóbhtha bás a fhaghá...   \n",
              "1  (bhí sé follasach go rabh an poll sin ag foscl...   \n",
              "2  ) d'fhéadfadh siad bás ' fhagháil ar a bhruach...   \n",
              "3  thiocfadh dóbhtha fosta lámh a chur ina mbás f...   \n",
              "4  ' na dhiaidh sin, bhí rud éigin do-chreidte ag...   \n",
              "\n",
              "                                      sentence_array  \\\n",
              "0  [16, 22, 26, 26, 31, 18, 0, 20, 27, 0, 24, 18,...   \n",
              "1  [4, 15, 21, 36, 0, 30, 35, 0, 19, 27, 24, 24, ...   \n",
              "2  [5, 0, 17, 3, 19, 21, 35, 14, 17, 19, 14, 17, ...   \n",
              "3  [31, 21, 22, 27, 16, 19, 14, 17, 21, 0, 17, 37...   \n",
              "4  [3, 0, 26, 14, 0, 17, 21, 22, 14, 22, 17, 21, ...   \n",
              "\n",
              "                                  sentence_array_OHE  \n",
              "0  [[0.0, 0.0, 0.0, 0.0, 0.0, 0.0, 0.0, 0.0, 0.0,...  \n",
              "1  [[0.0, 0.0, 0.0, 0.0, 1.0, 0.0, 0.0, 0.0, 0.0,...  \n",
              "2  [[0.0, 0.0, 0.0, 0.0, 0.0, 1.0, 0.0, 0.0, 0.0,...  \n",
              "3  [[0.0, 0.0, 0.0, 0.0, 0.0, 0.0, 0.0, 0.0, 0.0,...  \n",
              "4  [[0.0, 0.0, 0.0, 1.0, 0.0, 0.0, 0.0, 0.0, 0.0,...  "
            ],
            "text/html": [
              "\n",
              "  <div id=\"df-f77a624a-8687-4df2-8995-b334bab14274\">\n",
              "    <div class=\"colab-df-container\">\n",
              "      <div>\n",
              "<style scoped>\n",
              "    .dataframe tbody tr th:only-of-type {\n",
              "        vertical-align: middle;\n",
              "    }\n",
              "\n",
              "    .dataframe tbody tr th {\n",
              "        vertical-align: top;\n",
              "    }\n",
              "\n",
              "    .dataframe thead th {\n",
              "        text-align: right;\n",
              "    }\n",
              "</style>\n",
              "<table border=\"1\" class=\"dataframe\">\n",
              "  <thead>\n",
              "    <tr style=\"text-align: right;\">\n",
              "      <th></th>\n",
              "      <th>sentence</th>\n",
              "      <th>sentence_array</th>\n",
              "      <th>sentence_array_OHE</th>\n",
              "    </tr>\n",
              "  </thead>\n",
              "  <tbody>\n",
              "    <tr>\n",
              "      <th>0</th>\n",
              "      <td>cinnte go leór, thiocfadh dóbhtha bás a fhaghá...</td>\n",
              "      <td>[16, 22, 26, 26, 31, 18, 0, 20, 27, 0, 24, 18,...</td>\n",
              "      <td>[[0.0, 0.0, 0.0, 0.0, 0.0, 0.0, 0.0, 0.0, 0.0,...</td>\n",
              "    </tr>\n",
              "    <tr>\n",
              "      <th>1</th>\n",
              "      <td>(bhí sé follasach go rabh an poll sin ag foscl...</td>\n",
              "      <td>[4, 15, 21, 36, 0, 30, 35, 0, 19, 27, 24, 24, ...</td>\n",
              "      <td>[[0.0, 0.0, 0.0, 0.0, 1.0, 0.0, 0.0, 0.0, 0.0,...</td>\n",
              "    </tr>\n",
              "    <tr>\n",
              "      <th>2</th>\n",
              "      <td>) d'fhéadfadh siad bás ' fhagháil ar a bhruach...</td>\n",
              "      <td>[5, 0, 17, 3, 19, 21, 35, 14, 17, 19, 14, 17, ...</td>\n",
              "      <td>[[0.0, 0.0, 0.0, 0.0, 0.0, 1.0, 0.0, 0.0, 0.0,...</td>\n",
              "    </tr>\n",
              "    <tr>\n",
              "      <th>3</th>\n",
              "      <td>thiocfadh dóbhtha fosta lámh a chur ina mbás f...</td>\n",
              "      <td>[31, 21, 22, 27, 16, 19, 14, 17, 21, 0, 17, 37...</td>\n",
              "      <td>[[0.0, 0.0, 0.0, 0.0, 0.0, 0.0, 0.0, 0.0, 0.0,...</td>\n",
              "    </tr>\n",
              "    <tr>\n",
              "      <th>4</th>\n",
              "      <td>' na dhiaidh sin, bhí rud éigin do-chreidte ag...</td>\n",
              "      <td>[3, 0, 26, 14, 0, 17, 21, 22, 14, 22, 17, 21, ...</td>\n",
              "      <td>[[0.0, 0.0, 0.0, 1.0, 0.0, 0.0, 0.0, 0.0, 0.0,...</td>\n",
              "    </tr>\n",
              "  </tbody>\n",
              "</table>\n",
              "</div>\n",
              "      <button class=\"colab-df-convert\" onclick=\"convertToInteractive('df-f77a624a-8687-4df2-8995-b334bab14274')\"\n",
              "              title=\"Convert this dataframe to an interactive table.\"\n",
              "              style=\"display:none;\">\n",
              "        \n",
              "  <svg xmlns=\"http://www.w3.org/2000/svg\" height=\"24px\"viewBox=\"0 0 24 24\"\n",
              "       width=\"24px\">\n",
              "    <path d=\"M0 0h24v24H0V0z\" fill=\"none\"/>\n",
              "    <path d=\"M18.56 5.44l.94 2.06.94-2.06 2.06-.94-2.06-.94-.94-2.06-.94 2.06-2.06.94zm-11 1L8.5 8.5l.94-2.06 2.06-.94-2.06-.94L8.5 2.5l-.94 2.06-2.06.94zm10 10l.94 2.06.94-2.06 2.06-.94-2.06-.94-.94-2.06-.94 2.06-2.06.94z\"/><path d=\"M17.41 7.96l-1.37-1.37c-.4-.4-.92-.59-1.43-.59-.52 0-1.04.2-1.43.59L10.3 9.45l-7.72 7.72c-.78.78-.78 2.05 0 2.83L4 21.41c.39.39.9.59 1.41.59.51 0 1.02-.2 1.41-.59l7.78-7.78 2.81-2.81c.8-.78.8-2.07 0-2.86zM5.41 20L4 18.59l7.72-7.72 1.47 1.35L5.41 20z\"/>\n",
              "  </svg>\n",
              "      </button>\n",
              "      \n",
              "  <style>\n",
              "    .colab-df-container {\n",
              "      display:flex;\n",
              "      flex-wrap:wrap;\n",
              "      gap: 12px;\n",
              "    }\n",
              "\n",
              "    .colab-df-convert {\n",
              "      background-color: #E8F0FE;\n",
              "      border: none;\n",
              "      border-radius: 50%;\n",
              "      cursor: pointer;\n",
              "      display: none;\n",
              "      fill: #1967D2;\n",
              "      height: 32px;\n",
              "      padding: 0 0 0 0;\n",
              "      width: 32px;\n",
              "    }\n",
              "\n",
              "    .colab-df-convert:hover {\n",
              "      background-color: #E2EBFA;\n",
              "      box-shadow: 0px 1px 2px rgba(60, 64, 67, 0.3), 0px 1px 3px 1px rgba(60, 64, 67, 0.15);\n",
              "      fill: #174EA6;\n",
              "    }\n",
              "\n",
              "    [theme=dark] .colab-df-convert {\n",
              "      background-color: #3B4455;\n",
              "      fill: #D2E3FC;\n",
              "    }\n",
              "\n",
              "    [theme=dark] .colab-df-convert:hover {\n",
              "      background-color: #434B5C;\n",
              "      box-shadow: 0px 1px 3px 1px rgba(0, 0, 0, 0.15);\n",
              "      filter: drop-shadow(0px 1px 2px rgba(0, 0, 0, 0.3));\n",
              "      fill: #FFFFFF;\n",
              "    }\n",
              "  </style>\n",
              "\n",
              "      <script>\n",
              "        const buttonEl =\n",
              "          document.querySelector('#df-f77a624a-8687-4df2-8995-b334bab14274 button.colab-df-convert');\n",
              "        buttonEl.style.display =\n",
              "          google.colab.kernel.accessAllowed ? 'block' : 'none';\n",
              "\n",
              "        async function convertToInteractive(key) {\n",
              "          const element = document.querySelector('#df-f77a624a-8687-4df2-8995-b334bab14274');\n",
              "          const dataTable =\n",
              "            await google.colab.kernel.invokeFunction('convertToInteractive',\n",
              "                                                     [key], {});\n",
              "          if (!dataTable) return;\n",
              "\n",
              "          const docLinkHtml = 'Like what you see? Visit the ' +\n",
              "            '<a target=\"_blank\" href=https://colab.research.google.com/notebooks/data_table.ipynb>data table notebook</a>'\n",
              "            + ' to learn more about interactive tables.';\n",
              "          element.innerHTML = '';\n",
              "          dataTable['output_type'] = 'display_data';\n",
              "          await google.colab.output.renderOutput(dataTable, element);\n",
              "          const docLink = document.createElement('div');\n",
              "          docLink.innerHTML = docLinkHtml;\n",
              "          element.appendChild(docLink);\n",
              "        }\n",
              "      </script>\n",
              "    </div>\n",
              "  </div>\n",
              "  "
            ]
          },
          "metadata": {},
          "execution_count": 163
        }
      ]
    },
    {
      "cell_type": "code",
      "source": [
        "filePath = \"/content/drive/MyDrive/NLP/NLP_Assingnmnet05/data/train-05/train-target.txt\"\n",
        "train_target_data = load_data(filePath)"
      ],
      "metadata": {
        "id": "jEjY7j6zFB8b"
      },
      "execution_count": null,
      "outputs": []
    },
    {
      "cell_type": "code",
      "source": [
        "Output_LTM = Language_Translation_Model()\n",
        "Output_data = Output_LTM.preprocess_data(train_target_data[0:10000])\n",
        "Output_data.head()"
      ],
      "metadata": {
        "colab": {
          "base_uri": "https://localhost:8080/",
          "height": 337
        },
        "id": "jW3-c8D04x5P",
        "outputId": "32ffd58e-a33e-40bc-8aaa-634d04b47e78"
      },
      "execution_count": null,
      "outputs": [
        {
          "output_type": "execute_result",
          "data": {
            "text/plain": [
              "                                            sentence  \\\n",
              "0  cinnte go leor, thiocfadh dóibh bás a fháil ar...   \n",
              "1  bhí sé follasach go raibh an poll sin ag foscl...   \n",
              "2  d'fhéadfadh siad bás a fháil ar a bhruach agus...   \n",
              "3  thiocfadh dóibh fosta lámh a chur ina mbás féi...   \n",
              "4  ina dhiaidh sin bhí rud éigin dochreidte agus ...   \n",
              "\n",
              "                                      sentence_array  \\\n",
              "0  [15, 21, 25, 25, 30, 17, 0, 19, 26, 0, 23, 17,...   \n",
              "1  [14, 20, 35, 0, 29, 34, 0, 18, 26, 23, 23, 13,...   \n",
              "2  [16, 2, 18, 20, 34, 13, 16, 18, 13, 16, 20, 0,...   \n",
              "3  [30, 20, 21, 26, 15, 18, 13, 16, 20, 0, 16, 36...   \n",
              "4  [21, 25, 13, 0, 16, 20, 21, 13, 21, 16, 20, 0,...   \n",
              "\n",
              "                                  sentence_array_OHE  \n",
              "0  [[0.0, 0.0, 0.0, 0.0, 0.0, 0.0, 0.0, 0.0, 0.0,...  \n",
              "1  [[0.0, 0.0, 0.0, 0.0, 0.0, 0.0, 0.0, 0.0, 0.0,...  \n",
              "2  [[0.0, 0.0, 0.0, 0.0, 0.0, 0.0, 0.0, 0.0, 0.0,...  \n",
              "3  [[0.0, 0.0, 0.0, 0.0, 0.0, 0.0, 0.0, 0.0, 0.0,...  \n",
              "4  [[0.0, 0.0, 0.0, 0.0, 0.0, 0.0, 0.0, 0.0, 0.0,...  "
            ],
            "text/html": [
              "\n",
              "  <div id=\"df-d02bebe5-8877-4ad0-b683-f9db23ba8583\">\n",
              "    <div class=\"colab-df-container\">\n",
              "      <div>\n",
              "<style scoped>\n",
              "    .dataframe tbody tr th:only-of-type {\n",
              "        vertical-align: middle;\n",
              "    }\n",
              "\n",
              "    .dataframe tbody tr th {\n",
              "        vertical-align: top;\n",
              "    }\n",
              "\n",
              "    .dataframe thead th {\n",
              "        text-align: right;\n",
              "    }\n",
              "</style>\n",
              "<table border=\"1\" class=\"dataframe\">\n",
              "  <thead>\n",
              "    <tr style=\"text-align: right;\">\n",
              "      <th></th>\n",
              "      <th>sentence</th>\n",
              "      <th>sentence_array</th>\n",
              "      <th>sentence_array_OHE</th>\n",
              "    </tr>\n",
              "  </thead>\n",
              "  <tbody>\n",
              "    <tr>\n",
              "      <th>0</th>\n",
              "      <td>cinnte go leor, thiocfadh dóibh bás a fháil ar...</td>\n",
              "      <td>[15, 21, 25, 25, 30, 17, 0, 19, 26, 0, 23, 17,...</td>\n",
              "      <td>[[0.0, 0.0, 0.0, 0.0, 0.0, 0.0, 0.0, 0.0, 0.0,...</td>\n",
              "    </tr>\n",
              "    <tr>\n",
              "      <th>1</th>\n",
              "      <td>bhí sé follasach go raibh an poll sin ag foscl...</td>\n",
              "      <td>[14, 20, 35, 0, 29, 34, 0, 18, 26, 23, 23, 13,...</td>\n",
              "      <td>[[0.0, 0.0, 0.0, 0.0, 0.0, 0.0, 0.0, 0.0, 0.0,...</td>\n",
              "    </tr>\n",
              "    <tr>\n",
              "      <th>2</th>\n",
              "      <td>d'fhéadfadh siad bás a fháil ar a bhruach agus...</td>\n",
              "      <td>[16, 2, 18, 20, 34, 13, 16, 18, 13, 16, 20, 0,...</td>\n",
              "      <td>[[0.0, 0.0, 0.0, 0.0, 0.0, 0.0, 0.0, 0.0, 0.0,...</td>\n",
              "    </tr>\n",
              "    <tr>\n",
              "      <th>3</th>\n",
              "      <td>thiocfadh dóibh fosta lámh a chur ina mbás féi...</td>\n",
              "      <td>[30, 20, 21, 26, 15, 18, 13, 16, 20, 0, 16, 36...</td>\n",
              "      <td>[[0.0, 0.0, 0.0, 0.0, 0.0, 0.0, 0.0, 0.0, 0.0,...</td>\n",
              "    </tr>\n",
              "    <tr>\n",
              "      <th>4</th>\n",
              "      <td>ina dhiaidh sin bhí rud éigin dochreidte agus ...</td>\n",
              "      <td>[21, 25, 13, 0, 16, 20, 21, 13, 21, 16, 20, 0,...</td>\n",
              "      <td>[[0.0, 0.0, 0.0, 0.0, 0.0, 0.0, 0.0, 0.0, 0.0,...</td>\n",
              "    </tr>\n",
              "  </tbody>\n",
              "</table>\n",
              "</div>\n",
              "      <button class=\"colab-df-convert\" onclick=\"convertToInteractive('df-d02bebe5-8877-4ad0-b683-f9db23ba8583')\"\n",
              "              title=\"Convert this dataframe to an interactive table.\"\n",
              "              style=\"display:none;\">\n",
              "        \n",
              "  <svg xmlns=\"http://www.w3.org/2000/svg\" height=\"24px\"viewBox=\"0 0 24 24\"\n",
              "       width=\"24px\">\n",
              "    <path d=\"M0 0h24v24H0V0z\" fill=\"none\"/>\n",
              "    <path d=\"M18.56 5.44l.94 2.06.94-2.06 2.06-.94-2.06-.94-.94-2.06-.94 2.06-2.06.94zm-11 1L8.5 8.5l.94-2.06 2.06-.94-2.06-.94L8.5 2.5l-.94 2.06-2.06.94zm10 10l.94 2.06.94-2.06 2.06-.94-2.06-.94-.94-2.06-.94 2.06-2.06.94z\"/><path d=\"M17.41 7.96l-1.37-1.37c-.4-.4-.92-.59-1.43-.59-.52 0-1.04.2-1.43.59L10.3 9.45l-7.72 7.72c-.78.78-.78 2.05 0 2.83L4 21.41c.39.39.9.59 1.41.59.51 0 1.02-.2 1.41-.59l7.78-7.78 2.81-2.81c.8-.78.8-2.07 0-2.86zM5.41 20L4 18.59l7.72-7.72 1.47 1.35L5.41 20z\"/>\n",
              "  </svg>\n",
              "      </button>\n",
              "      \n",
              "  <style>\n",
              "    .colab-df-container {\n",
              "      display:flex;\n",
              "      flex-wrap:wrap;\n",
              "      gap: 12px;\n",
              "    }\n",
              "\n",
              "    .colab-df-convert {\n",
              "      background-color: #E8F0FE;\n",
              "      border: none;\n",
              "      border-radius: 50%;\n",
              "      cursor: pointer;\n",
              "      display: none;\n",
              "      fill: #1967D2;\n",
              "      height: 32px;\n",
              "      padding: 0 0 0 0;\n",
              "      width: 32px;\n",
              "    }\n",
              "\n",
              "    .colab-df-convert:hover {\n",
              "      background-color: #E2EBFA;\n",
              "      box-shadow: 0px 1px 2px rgba(60, 64, 67, 0.3), 0px 1px 3px 1px rgba(60, 64, 67, 0.15);\n",
              "      fill: #174EA6;\n",
              "    }\n",
              "\n",
              "    [theme=dark] .colab-df-convert {\n",
              "      background-color: #3B4455;\n",
              "      fill: #D2E3FC;\n",
              "    }\n",
              "\n",
              "    [theme=dark] .colab-df-convert:hover {\n",
              "      background-color: #434B5C;\n",
              "      box-shadow: 0px 1px 3px 1px rgba(0, 0, 0, 0.15);\n",
              "      filter: drop-shadow(0px 1px 2px rgba(0, 0, 0, 0.3));\n",
              "      fill: #FFFFFF;\n",
              "    }\n",
              "  </style>\n",
              "\n",
              "      <script>\n",
              "        const buttonEl =\n",
              "          document.querySelector('#df-d02bebe5-8877-4ad0-b683-f9db23ba8583 button.colab-df-convert');\n",
              "        buttonEl.style.display =\n",
              "          google.colab.kernel.accessAllowed ? 'block' : 'none';\n",
              "\n",
              "        async function convertToInteractive(key) {\n",
              "          const element = document.querySelector('#df-d02bebe5-8877-4ad0-b683-f9db23ba8583');\n",
              "          const dataTable =\n",
              "            await google.colab.kernel.invokeFunction('convertToInteractive',\n",
              "                                                     [key], {});\n",
              "          if (!dataTable) return;\n",
              "\n",
              "          const docLinkHtml = 'Like what you see? Visit the ' +\n",
              "            '<a target=\"_blank\" href=https://colab.research.google.com/notebooks/data_table.ipynb>data table notebook</a>'\n",
              "            + ' to learn more about interactive tables.';\n",
              "          element.innerHTML = '';\n",
              "          dataTable['output_type'] = 'display_data';\n",
              "          await google.colab.output.renderOutput(dataTable, element);\n",
              "          const docLink = document.createElement('div');\n",
              "          docLink.innerHTML = docLinkHtml;\n",
              "          element.appendChild(docLink);\n",
              "        }\n",
              "      </script>\n",
              "    </div>\n",
              "  </div>\n",
              "  "
            ]
          },
          "metadata": {},
          "execution_count": 161
        }
      ]
    },
    {
      "cell_type": "code",
      "source": [
        "encoder_input_data = np.array([record for record in Input_data['sentence_array_OHE']])\n",
        "decoder_input_data = np.array([np.concatenate((np.zeros((record.shape[0], 1), dtype='float32'), record[:, 1:]), axis=1) for record in Output_data['sentence_array_OHE']])\n",
        "decoder_target_data = np.array([record for record in Output_data['sentence_array_OHE']])"
      ],
      "metadata": {
        "id": "NyNCet3HIGxb"
      },
      "execution_count": null,
      "outputs": []
    },
    {
      "cell_type": "markdown",
      "source": [
        "### **Model Preparation**"
      ],
      "metadata": {
        "id": "9GtOnbg7lMMH"
      }
    },
    {
      "cell_type": "code",
      "source": [
        "batch_size = 128\n",
        "epochs=1\n",
        "latent_dim=256\n",
        "num_samples=10000"
      ],
      "metadata": {
        "id": "wVjsuqgdlYHT"
      },
      "execution_count": null,
      "outputs": []
    },
    {
      "cell_type": "code",
      "source": [
        "encoder_inputs = Input(shape=(None, Input_LTM.length_all_Unique_Characters))\n",
        "encoder = LSTM(latent_dim, return_state=True) # latent_dim = 256\n",
        "encoder_outputs, state_h, state_c = encoder(encoder_inputs)\n",
        "# We discard `encoder_outputs` and only keep the states.\n",
        "encoder_states = [state_h, state_c]"
      ],
      "metadata": {
        "id": "vaD-BSs1jgde"
      },
      "execution_count": null,
      "outputs": []
    },
    {
      "cell_type": "code",
      "source": [
        "#Decoder\n",
        "decoder_inputs = Input(shape=(None, Output_LTM.length_all_Unique_Characters))\n",
        "\n",
        "# We set up our decoder to return full output sequences, and to return internal states as well. We don't use the return states in the training model, but we will use them in inference.\n",
        "decoder_lstm = LSTM(latent_dim, return_sequences=True, return_state=True)\n",
        "decoder_outputs, _, _ = decoder_lstm(decoder_inputs, initial_state=encoder_states)\n",
        "decoder_dense = Dense(Output_LTM.length_all_Unique_Characters, activation='softmax')\n",
        "decoder_outputs = decoder_dense(decoder_outputs)"
      ],
      "metadata": {
        "id": "lFkEx7wpiWg2"
      },
      "execution_count": null,
      "outputs": []
    },
    {
      "cell_type": "code",
      "source": [
        "# Defining Model ------------------\n",
        "model = Model([encoder_inputs, decoder_inputs], decoder_outputs)\n",
        "\n",
        "# Training Model ------------------\n",
        "model.compile(optimizer='rmsprop', loss='categorical_crossentropy', metrics=['accuracy'])\n",
        "model.fit([encoder_input_data, decoder_input_data], \n",
        "          decoder_target_data,\n",
        "          batch_size=batch_size,\n",
        "          epochs=epochs,\n",
        "          validation_split=0.2)"
      ],
      "metadata": {
        "colab": {
          "base_uri": "https://localhost:8080/"
        },
        "id": "-__pyVyfmlv2",
        "outputId": "f642f742-22b3-469c-f04e-0985afc015b8"
      },
      "execution_count": null,
      "outputs": [
        {
          "output_type": "stream",
          "name": "stdout",
          "text": [
            "1/1 [==============================] - 8s 8s/step - loss: 1.2344 - accuracy: 0.3334 - val_loss: 1.2413 - val_accuracy: 0.7151\n"
          ]
        },
        {
          "output_type": "execute_result",
          "data": {
            "text/plain": [
              "<keras.callbacks.History at 0x7fae9f2d26d0>"
            ]
          },
          "metadata": {},
          "execution_count": 252
        }
      ]
    },
    {
      "cell_type": "markdown",
      "source": [
        "**Predictions**"
      ],
      "metadata": {
        "id": "91-KmQHbOy3w"
      }
    },
    {
      "cell_type": "code",
      "source": [
        "encoder_model = Model(encoder_inputs, encoder_states)\n",
        "\n",
        "decoder_states_inputs = [Input(shape=(latent_dim,)), Input(shape=(latent_dim,))]\n",
        "decoder_outputs, state_h, state_c = decoder_lstm(decoder_inputs, initial_state=decoder_states_inputs)\n",
        "decoder_states = [state_h, state_c]\n",
        "decoder_outputs = decoder_dense(decoder_outputs)\n",
        "decoder_model = Model(\n",
        "    [decoder_inputs] + decoder_states_inputs,\n",
        "    [decoder_outputs] + decoder_states)"
      ],
      "metadata": {
        "id": "t0RKQhnIJMNK"
      },
      "execution_count": null,
      "outputs": []
    },
    {
      "cell_type": "code",
      "source": [
        "def decode_sequence(input_seq):\n",
        "    # Encode the input as state vectors.\n",
        "    states_value = encoder_model.predict(input_seq)\n",
        "\n",
        "    # Generate empty target sequence of length 1.\n",
        "    target_seq = np.zeros((1, 1, num_decoder_tokens))\n",
        "    # Populate the first character of target sequence with the start character.\n",
        "    target_seq[0, 0, target_token_index['\\t']] = 1.\n",
        "\n",
        "    # Sampling loop for a batch of sequences\n",
        "    # (to simplify, here we assume a batch of size 1).\n",
        "    stop_condition = False\n",
        "    decoded_sentence = ''\n",
        "    while not stop_condition:\n",
        "        output_tokens, h, c = decoder_model.predict(\n",
        "            [target_seq] + states_value)\n",
        "\n",
        "        # Sample a token\n",
        "        sampled_token_index = np.argmax(output_tokens[0, -1, :])\n",
        "        sampled_char = reverse_target_char_index[sampled_token_index]\n",
        "        decoded_sentence += sampled_char\n",
        "\n",
        "        # Exit condition: either hit max length\n",
        "        # or find stop character.\n",
        "        if (sampled_char == '\\n' or\n",
        "           len(decoded_sentence) > max_decoder_seq_length):\n",
        "            stop_condition = True\n",
        "\n",
        "        # Update the target sequence (of length 1).\n",
        "        target_seq = np.zeros((1, 1, num_decoder_tokens))\n",
        "        target_seq[0, 0, sampled_token_index] = 1.\n",
        "\n",
        "        # Update states\n",
        "        states_value = [h, c]\n",
        "\n",
        "    return decoded_sentence"
      ],
      "metadata": {
        "id": "2Fl-wRoLSCNS"
      },
      "execution_count": null,
      "outputs": []
    },
    {
      "cell_type": "code",
      "source": [
        "test_input_seq = data.loc[0, 'sentence']\n",
        "print(test_input_seq)\n",
        "encoder_model.predict(test_input_seq)"
      ],
      "metadata": {
        "id": "JiZG0DmCO1sy"
      },
      "execution_count": null,
      "outputs": []
    },
    {
      "cell_type": "markdown",
      "source": [
        "**Save Model**"
      ],
      "metadata": {
        "id": "kVe8nuwmJTR3"
      }
    },
    {
      "cell_type": "code",
      "source": [
        "model.save('s2s.h5')"
      ],
      "metadata": {
        "id": "ylpEx5jUJMRA"
      },
      "execution_count": null,
      "outputs": []
    },
    {
      "cell_type": "code",
      "source": [],
      "metadata": {
        "id": "oNwYliM8JV4P"
      },
      "execution_count": null,
      "outputs": []
    },
    {
      "cell_type": "code",
      "source": [],
      "metadata": {
        "id": "2PjAh5UzJV6s"
      },
      "execution_count": null,
      "outputs": []
    },
    {
      "cell_type": "code",
      "source": [],
      "metadata": {
        "id": "_AXscMyOJV-Q"
      },
      "execution_count": null,
      "outputs": []
    },
    {
      "cell_type": "code",
      "source": [],
      "metadata": {
        "id": "X82NZEmYJWA3"
      },
      "execution_count": null,
      "outputs": []
    }
  ]
}