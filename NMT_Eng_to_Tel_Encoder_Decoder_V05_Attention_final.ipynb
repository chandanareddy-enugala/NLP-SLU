{
  "nbformat": 4,
  "nbformat_minor": 0,
  "metadata": {
    "colab": {
      "provenance": [],
      "include_colab_link": true
    },
    "kernelspec": {
      "name": "python3",
      "display_name": "Python 3"
    },
    "language_info": {
      "name": "python"
    },
    "gpuClass": "standard"
  },
  "cells": [
    {
      "cell_type": "markdown",
      "metadata": {
        "id": "view-in-github",
        "colab_type": "text"
      },
      "source": [
        "<a href=\"https://colab.research.google.com/github/chandanareddy-enugala/NLP-SLU/blob/main/NMT_Eng_to_Tel_Encoder_Decoder_V05_Attention_final.ipynb\" target=\"_parent\"><img src=\"https://colab.research.google.com/assets/colab-badge.svg\" alt=\"Open In Colab\"/></a>"
      ]
    },
    {
      "cell_type": "code",
      "execution_count": 1,
      "metadata": {
        "colab": {
          "base_uri": "https://localhost:8080/"
        },
        "id": "xnCOOXGakV2d",
        "outputId": "9e06699e-688d-4910-fc59-5bebb6091f0b"
      },
      "outputs": [
        {
          "output_type": "stream",
          "name": "stdout",
          "text": [
            "Mounted at /content/drive\n"
          ]
        }
      ],
      "source": [
        "from google.colab import drive\n",
        "drive.mount('/content/drive')"
      ]
    },
    {
      "cell_type": "code",
      "source": [
        "!pip install einops"
      ],
      "metadata": {
        "colab": {
          "base_uri": "https://localhost:8080/"
        },
        "id": "NCvIU-wi38dF",
        "outputId": "97606168-0631-4a98-8f1a-1bcf4ca4ccbd"
      },
      "execution_count": 2,
      "outputs": [
        {
          "output_type": "stream",
          "name": "stdout",
          "text": [
            "Looking in indexes: https://pypi.org/simple, https://us-python.pkg.dev/colab-wheels/public/simple/\n",
            "Collecting einops\n",
            "  Downloading einops-0.6.0-py3-none-any.whl (41 kB)\n",
            "\u001b[K     |████████████████████████████████| 41 kB 102 kB/s \n",
            "\u001b[?25hInstalling collected packages: einops\n",
            "Successfully installed einops-0.6.0\n"
          ]
        }
      ]
    },
    {
      "cell_type": "code",
      "source": [
        "!pip install tensorflow_text"
      ],
      "metadata": {
        "colab": {
          "base_uri": "https://localhost:8080/"
        },
        "id": "tWx0ajeP38gf",
        "outputId": "69cce928-1b32-4e37-da1d-8d27edd9c693"
      },
      "execution_count": 3,
      "outputs": [
        {
          "output_type": "stream",
          "name": "stdout",
          "text": [
            "Looking in indexes: https://pypi.org/simple, https://us-python.pkg.dev/colab-wheels/public/simple/\n",
            "Collecting tensorflow_text\n",
            "  Downloading tensorflow_text-2.11.0-cp38-cp38-manylinux_2_17_x86_64.manylinux2014_x86_64.whl (5.8 MB)\n",
            "\u001b[K     |████████████████████████████████| 5.8 MB 5.1 MB/s \n",
            "\u001b[?25hRequirement already satisfied: tensorflow-hub>=0.8.0 in /usr/local/lib/python3.8/dist-packages (from tensorflow_text) (0.12.0)\n",
            "Collecting tensorflow<2.12,>=2.11.0\n",
            "  Downloading tensorflow-2.11.0-cp38-cp38-manylinux_2_17_x86_64.manylinux2014_x86_64.whl (588.3 MB)\n",
            "\u001b[K     |████████████████████████████████| 588.3 MB 18 kB/s \n",
            "\u001b[?25hRequirement already satisfied: six>=1.12.0 in /usr/local/lib/python3.8/dist-packages (from tensorflow<2.12,>=2.11.0->tensorflow_text) (1.15.0)\n",
            "Requirement already satisfied: grpcio<2.0,>=1.24.3 in /usr/local/lib/python3.8/dist-packages (from tensorflow<2.12,>=2.11.0->tensorflow_text) (1.51.1)\n",
            "Requirement already satisfied: termcolor>=1.1.0 in /usr/local/lib/python3.8/dist-packages (from tensorflow<2.12,>=2.11.0->tensorflow_text) (2.1.1)\n",
            "Requirement already satisfied: opt-einsum>=2.3.2 in /usr/local/lib/python3.8/dist-packages (from tensorflow<2.12,>=2.11.0->tensorflow_text) (3.3.0)\n",
            "Requirement already satisfied: absl-py>=1.0.0 in /usr/local/lib/python3.8/dist-packages (from tensorflow<2.12,>=2.11.0->tensorflow_text) (1.3.0)\n",
            "Collecting keras<2.12,>=2.11.0\n",
            "  Downloading keras-2.11.0-py2.py3-none-any.whl (1.7 MB)\n",
            "\u001b[K     |████████████████████████████████| 1.7 MB 39.4 MB/s \n",
            "\u001b[?25hRequirement already satisfied: astunparse>=1.6.0 in /usr/local/lib/python3.8/dist-packages (from tensorflow<2.12,>=2.11.0->tensorflow_text) (1.6.3)\n",
            "Requirement already satisfied: setuptools in /usr/local/lib/python3.8/dist-packages (from tensorflow<2.12,>=2.11.0->tensorflow_text) (57.4.0)\n",
            "Requirement already satisfied: gast<=0.4.0,>=0.2.1 in /usr/local/lib/python3.8/dist-packages (from tensorflow<2.12,>=2.11.0->tensorflow_text) (0.4.0)\n",
            "Collecting tensorboard<2.12,>=2.11\n",
            "  Downloading tensorboard-2.11.0-py3-none-any.whl (6.0 MB)\n",
            "\u001b[K     |████████████████████████████████| 6.0 MB 39.5 MB/s \n",
            "\u001b[?25hRequirement already satisfied: packaging in /usr/local/lib/python3.8/dist-packages (from tensorflow<2.12,>=2.11.0->tensorflow_text) (21.3)\n",
            "Requirement already satisfied: google-pasta>=0.1.1 in /usr/local/lib/python3.8/dist-packages (from tensorflow<2.12,>=2.11.0->tensorflow_text) (0.2.0)\n",
            "Collecting tensorflow-estimator<2.12,>=2.11.0\n",
            "  Downloading tensorflow_estimator-2.11.0-py2.py3-none-any.whl (439 kB)\n",
            "\u001b[K     |████████████████████████████████| 439 kB 62.0 MB/s \n",
            "\u001b[?25hRequirement already satisfied: protobuf<3.20,>=3.9.2 in /usr/local/lib/python3.8/dist-packages (from tensorflow<2.12,>=2.11.0->tensorflow_text) (3.19.6)\n",
            "Requirement already satisfied: libclang>=13.0.0 in /usr/local/lib/python3.8/dist-packages (from tensorflow<2.12,>=2.11.0->tensorflow_text) (14.0.6)\n",
            "Requirement already satisfied: typing-extensions>=3.6.6 in /usr/local/lib/python3.8/dist-packages (from tensorflow<2.12,>=2.11.0->tensorflow_text) (4.4.0)\n",
            "Collecting flatbuffers>=2.0\n",
            "  Downloading flatbuffers-22.12.6-py2.py3-none-any.whl (26 kB)\n",
            "Requirement already satisfied: wrapt>=1.11.0 in /usr/local/lib/python3.8/dist-packages (from tensorflow<2.12,>=2.11.0->tensorflow_text) (1.14.1)\n",
            "Requirement already satisfied: h5py>=2.9.0 in /usr/local/lib/python3.8/dist-packages (from tensorflow<2.12,>=2.11.0->tensorflow_text) (3.1.0)\n",
            "Requirement already satisfied: tensorflow-io-gcs-filesystem>=0.23.1 in /usr/local/lib/python3.8/dist-packages (from tensorflow<2.12,>=2.11.0->tensorflow_text) (0.28.0)\n",
            "Requirement already satisfied: numpy>=1.20 in /usr/local/lib/python3.8/dist-packages (from tensorflow<2.12,>=2.11.0->tensorflow_text) (1.21.6)\n",
            "Requirement already satisfied: wheel<1.0,>=0.23.0 in /usr/local/lib/python3.8/dist-packages (from astunparse>=1.6.0->tensorflow<2.12,>=2.11.0->tensorflow_text) (0.38.4)\n",
            "Requirement already satisfied: tensorboard-data-server<0.7.0,>=0.6.0 in /usr/local/lib/python3.8/dist-packages (from tensorboard<2.12,>=2.11->tensorflow<2.12,>=2.11.0->tensorflow_text) (0.6.1)\n",
            "Requirement already satisfied: markdown>=2.6.8 in /usr/local/lib/python3.8/dist-packages (from tensorboard<2.12,>=2.11->tensorflow<2.12,>=2.11.0->tensorflow_text) (3.4.1)\n",
            "Requirement already satisfied: google-auth<3,>=1.6.3 in /usr/local/lib/python3.8/dist-packages (from tensorboard<2.12,>=2.11->tensorflow<2.12,>=2.11.0->tensorflow_text) (2.15.0)\n",
            "Requirement already satisfied: werkzeug>=1.0.1 in /usr/local/lib/python3.8/dist-packages (from tensorboard<2.12,>=2.11->tensorflow<2.12,>=2.11.0->tensorflow_text) (1.0.1)\n",
            "Requirement already satisfied: requests<3,>=2.21.0 in /usr/local/lib/python3.8/dist-packages (from tensorboard<2.12,>=2.11->tensorflow<2.12,>=2.11.0->tensorflow_text) (2.23.0)\n",
            "Requirement already satisfied: tensorboard-plugin-wit>=1.6.0 in /usr/local/lib/python3.8/dist-packages (from tensorboard<2.12,>=2.11->tensorflow<2.12,>=2.11.0->tensorflow_text) (1.8.1)\n",
            "Requirement already satisfied: google-auth-oauthlib<0.5,>=0.4.1 in /usr/local/lib/python3.8/dist-packages (from tensorboard<2.12,>=2.11->tensorflow<2.12,>=2.11.0->tensorflow_text) (0.4.6)\n",
            "Requirement already satisfied: cachetools<6.0,>=2.0.0 in /usr/local/lib/python3.8/dist-packages (from google-auth<3,>=1.6.3->tensorboard<2.12,>=2.11->tensorflow<2.12,>=2.11.0->tensorflow_text) (5.2.0)\n",
            "Requirement already satisfied: pyasn1-modules>=0.2.1 in /usr/local/lib/python3.8/dist-packages (from google-auth<3,>=1.6.3->tensorboard<2.12,>=2.11->tensorflow<2.12,>=2.11.0->tensorflow_text) (0.2.8)\n",
            "Requirement already satisfied: rsa<5,>=3.1.4 in /usr/local/lib/python3.8/dist-packages (from google-auth<3,>=1.6.3->tensorboard<2.12,>=2.11->tensorflow<2.12,>=2.11.0->tensorflow_text) (4.9)\n",
            "Requirement already satisfied: requests-oauthlib>=0.7.0 in /usr/local/lib/python3.8/dist-packages (from google-auth-oauthlib<0.5,>=0.4.1->tensorboard<2.12,>=2.11->tensorflow<2.12,>=2.11.0->tensorflow_text) (1.3.1)\n",
            "Requirement already satisfied: importlib-metadata>=4.4 in /usr/local/lib/python3.8/dist-packages (from markdown>=2.6.8->tensorboard<2.12,>=2.11->tensorflow<2.12,>=2.11.0->tensorflow_text) (4.13.0)\n",
            "Requirement already satisfied: zipp>=0.5 in /usr/local/lib/python3.8/dist-packages (from importlib-metadata>=4.4->markdown>=2.6.8->tensorboard<2.12,>=2.11->tensorflow<2.12,>=2.11.0->tensorflow_text) (3.11.0)\n",
            "Requirement already satisfied: pyasn1<0.5.0,>=0.4.6 in /usr/local/lib/python3.8/dist-packages (from pyasn1-modules>=0.2.1->google-auth<3,>=1.6.3->tensorboard<2.12,>=2.11->tensorflow<2.12,>=2.11.0->tensorflow_text) (0.4.8)\n",
            "Requirement already satisfied: urllib3!=1.25.0,!=1.25.1,<1.26,>=1.21.1 in /usr/local/lib/python3.8/dist-packages (from requests<3,>=2.21.0->tensorboard<2.12,>=2.11->tensorflow<2.12,>=2.11.0->tensorflow_text) (1.24.3)\n",
            "Requirement already satisfied: certifi>=2017.4.17 in /usr/local/lib/python3.8/dist-packages (from requests<3,>=2.21.0->tensorboard<2.12,>=2.11->tensorflow<2.12,>=2.11.0->tensorflow_text) (2022.9.24)\n",
            "Requirement already satisfied: idna<3,>=2.5 in /usr/local/lib/python3.8/dist-packages (from requests<3,>=2.21.0->tensorboard<2.12,>=2.11->tensorflow<2.12,>=2.11.0->tensorflow_text) (2.10)\n",
            "Requirement already satisfied: chardet<4,>=3.0.2 in /usr/local/lib/python3.8/dist-packages (from requests<3,>=2.21.0->tensorboard<2.12,>=2.11->tensorflow<2.12,>=2.11.0->tensorflow_text) (3.0.4)\n",
            "Requirement already satisfied: oauthlib>=3.0.0 in /usr/local/lib/python3.8/dist-packages (from requests-oauthlib>=0.7.0->google-auth-oauthlib<0.5,>=0.4.1->tensorboard<2.12,>=2.11->tensorflow<2.12,>=2.11.0->tensorflow_text) (3.2.2)\n",
            "Requirement already satisfied: pyparsing!=3.0.5,>=2.0.2 in /usr/local/lib/python3.8/dist-packages (from packaging->tensorflow<2.12,>=2.11.0->tensorflow_text) (3.0.9)\n",
            "Installing collected packages: tensorflow-estimator, tensorboard, keras, flatbuffers, tensorflow, tensorflow-text\n",
            "  Attempting uninstall: tensorflow-estimator\n",
            "    Found existing installation: tensorflow-estimator 2.9.0\n",
            "    Uninstalling tensorflow-estimator-2.9.0:\n",
            "      Successfully uninstalled tensorflow-estimator-2.9.0\n",
            "  Attempting uninstall: tensorboard\n",
            "    Found existing installation: tensorboard 2.9.1\n",
            "    Uninstalling tensorboard-2.9.1:\n",
            "      Successfully uninstalled tensorboard-2.9.1\n",
            "  Attempting uninstall: keras\n",
            "    Found existing installation: keras 2.9.0\n",
            "    Uninstalling keras-2.9.0:\n",
            "      Successfully uninstalled keras-2.9.0\n",
            "  Attempting uninstall: flatbuffers\n",
            "    Found existing installation: flatbuffers 1.12\n",
            "    Uninstalling flatbuffers-1.12:\n",
            "      Successfully uninstalled flatbuffers-1.12\n",
            "  Attempting uninstall: tensorflow\n",
            "    Found existing installation: tensorflow 2.9.2\n",
            "    Uninstalling tensorflow-2.9.2:\n",
            "      Successfully uninstalled tensorflow-2.9.2\n",
            "Successfully installed flatbuffers-22.12.6 keras-2.11.0 tensorboard-2.11.0 tensorflow-2.11.0 tensorflow-estimator-2.11.0 tensorflow-text-2.11.0\n"
          ]
        }
      ]
    },
    {
      "cell_type": "code",
      "source": [
        "import os\n",
        "import sys\n",
        "import random\n",
        "import time\n",
        "import re\n",
        "import numpy as np\n",
        "import pandas as pd\n",
        "from typing import Any, Tuple\n",
        "import nltk\n",
        "\n",
        "nltk.download('punkt')\n",
        "\n",
        "import einops\n",
        "import matplotlib.pyplot as plt\n",
        "import matplotlib.ticker as ticker\n",
        "\n",
        "from sklearn.preprocessing import LabelEncoder\n",
        "from sklearn.model_selection import train_test_split\n",
        "from sklearn.metrics import precision_score, recall_score, f1_score\n",
        "from sklearn import preprocessing\n",
        "\n",
        "random.seed(16)\n",
        "import tensorflow as tf\n",
        "import tensorflow_text  as tf_text\n",
        "# from Bio import pairwise2\n",
        "from functools import partial\n",
        "from collections import deque\n",
        "import pathlib\n",
        "\n",
        "use_builtins = True\n",
        "import pickle"
      ],
      "metadata": {
        "colab": {
          "base_uri": "https://localhost:8080/"
        },
        "id": "u0A6qwjNkonh",
        "outputId": "30a495ba-053f-4d72-f364-672eb589469b"
      },
      "execution_count": 4,
      "outputs": [
        {
          "output_type": "stream",
          "name": "stderr",
          "text": [
            "[nltk_data] Downloading package punkt to /root/nltk_data...\n",
            "[nltk_data]   Unzipping tokenizers/punkt.zip.\n"
          ]
        }
      ]
    },
    {
      "cell_type": "code",
      "source": [
        "import random\n",
        "import numpy as np\n",
        "import nltk\n",
        "nltk.download('punkt')\n",
        "import einops\n",
        "import matplotlib.pyplot as plt\n",
        "random.seed(16)\n",
        "import tensorflow as tf\n",
        "import tensorflow_text  as tf_text\n",
        "use_builtins = True\n",
        "import pickle"
      ],
      "metadata": {
        "colab": {
          "base_uri": "https://localhost:8080/"
        },
        "id": "io8b3SGi4Q62",
        "outputId": "01e0b74b-0040-4a37-e086-9ffc38b2f3e8"
      },
      "execution_count": 5,
      "outputs": [
        {
          "output_type": "stream",
          "name": "stderr",
          "text": [
            "[nltk_data] Downloading package punkt to /root/nltk_data...\n",
            "[nltk_data]   Package punkt is already up-to-date!\n"
          ]
        }
      ]
    },
    {
      "cell_type": "code",
      "source": [
        "dataLocation = \"/content/drive/MyDrive/nlp/\"\n",
        "fileName = \"english_telugu_data.txt\"\n",
        "filePath = dataLocation + fileName\n",
        "data = []\n",
        "with open(filePath, mode='rt', encoding='utf-8') as f:\n",
        "  for line in f.readlines():\n",
        "    data.append(line)"
      ],
      "metadata": {
        "id": "sZpcmlGTkyHz"
      },
      "execution_count": 6,
      "outputs": []
    },
    {
      "cell_type": "code",
      "source": [
        "# ====================================================================================================\n",
        "# SPLITTING DATA\n",
        "# ====================================================================================================\n",
        "# ------------------------------------------------------------------------ SPLIT INPUT & TARGET\n",
        "def split_data_into_source_target(data, splitString):  # data, \"++++$++++\"\n",
        "  print(\"Separating English & Telugu into differnt variables --->\")\n",
        "  print(\"========================================================\")\n",
        "  source_eng = []\n",
        "  target_tel = []\n",
        "  for line in data:\n",
        "      line_split = line.split(splitString)\n",
        "      source_eng.append(line_split[0])\n",
        "      target_tel.append(line_split[1])\n",
        "  print(\"English data is stored @source_eng variable which will be returned\")\n",
        "  print(\"Telugu data is stored @target_tel variable which will be returned\")\n",
        "  print(\"\\n\", \" \" * 10, \"# \" * 5, \"\\n\")\n",
        "  return source_eng, target_tel\n",
        "\n",
        "input_texts, target_texts = split_data_into_source_target(data, \"++++$++++\")\n",
        "\n",
        "input_training_data = input_texts[:100001]\n",
        "target_training_data = target_texts[:100001]"
      ],
      "metadata": {
        "colab": {
          "base_uri": "https://localhost:8080/"
        },
        "id": "mGL-yneAkyoX",
        "outputId": "8caae411-c1a3-4995-f87f-496587ad9d0f"
      },
      "execution_count": 7,
      "outputs": [
        {
          "output_type": "stream",
          "name": "stdout",
          "text": [
            "Separating English & Telugu into differnt variables --->\n",
            "========================================================\n",
            "English data is stored @source_eng variable which will be returned\n",
            "Telugu data is stored @target_tel variable which will be returned\n",
            "\n",
            "            # # # # #  \n",
            "\n"
          ]
        }
      ]
    },
    {
      "cell_type": "code",
      "source": [
        "print(\"input_training_data records  : \", len(input_training_data))\n",
        "print(\"target_training_data records : \", len(target_training_data))"
      ],
      "metadata": {
        "colab": {
          "base_uri": "https://localhost:8080/"
        },
        "id": "0Hv6-pwR4hN0",
        "outputId": "4071bdc9-234c-4038-fe4c-ef8615411704"
      },
      "execution_count": 8,
      "outputs": [
        {
          "output_type": "stream",
          "name": "stdout",
          "text": [
            "input_training_data records  :  100001\n",
            "target_training_data records :  100001\n"
          ]
        }
      ]
    },
    {
      "cell_type": "code",
      "source": [
        "allwords=[]\n",
        "for sentence in input_training_data:\n",
        "  allwords += sentence.split(\" \")"
      ],
      "metadata": {
        "id": "b4VL6msBVS5N"
      },
      "execution_count": 9,
      "outputs": []
    },
    {
      "cell_type": "code",
      "source": [
        "len(list(set(allwords)))"
      ],
      "metadata": {
        "colab": {
          "base_uri": "https://localhost:8080/"
        },
        "id": "s-CEVr_QVznn",
        "outputId": "a8dae8eb-dafd-4dbc-a4ab-d179a501c5e0"
      },
      "execution_count": 10,
      "outputs": [
        {
          "output_type": "execute_result",
          "data": {
            "text/plain": [
              "22026"
            ]
          },
          "metadata": {},
          "execution_count": 10
        }
      ]
    },
    {
      "cell_type": "code",
      "source": [
        "input_training_data[10], target_training_data[10]"
      ],
      "metadata": {
        "colab": {
          "base_uri": "https://localhost:8080/"
        },
        "id": "PgeqoHQ73Ubq",
        "outputId": "6997ad1e-7796-4984-fabf-0a801580d117"
      },
      "execution_count": 11,
      "outputs": [
        {
          "output_type": "execute_result",
          "data": {
            "text/plain": [
              "('He feels very happy.', 'అతను చాలా సంతోషంగా ఉన్నాడు.\\n')"
            ]
          },
          "metadata": {},
          "execution_count": 11
        }
      ]
    },
    {
      "cell_type": "markdown",
      "source": [
        "**ShapeChecker**"
      ],
      "metadata": {
        "id": "bioufCCQlEAv"
      }
    },
    {
      "cell_type": "code",
      "source": [
        "class ShapeChecker():\n",
        "  def __init__(self):\n",
        "    # Keep a cache of every axis-name seen\n",
        "    self.shapes = {}\n",
        "\n",
        "  def __call__(self, tensor, names, broadcast=False):\n",
        "    if not tf.executing_eagerly():\n",
        "        return\n",
        "    parsed = einops.parse_shape(tensor, names)\n",
        "\n",
        "    for name, newDim in parsed.items():\n",
        "        oldDim = self.shapes.get(name, None)\n",
        "        if (broadcast and newDim == 1):\n",
        "            continue\n",
        "        if oldDim is None:\n",
        "            # It adds the axis length to the cache, if the axis name is new.\n",
        "            self.shapes[name] = newDim\n",
        "            continue\n",
        "        if newDim != oldDim:\n",
        "            raise ValueError(f\"Shape mismatch for dimension: '{name}'\\n\"\n",
        "                              f\"    found: {newDim}\\n\"\n",
        "                              f\"    expected: {oldDim}\\n\")"
      ],
      "metadata": {
        "id": "HPJ_1uK6lCrI"
      },
      "execution_count": 12,
      "outputs": []
    },
    {
      "cell_type": "markdown",
      "source": [
        "**Uniform Distribution data Creation**"
      ],
      "metadata": {
        "id": "2MQBmSNNlLZS"
      }
    },
    {
      "cell_type": "code",
      "source": [
        "len(input_training_data_ud),len(target_training_data_ud),len(input_validation_data_ud),len(target_validation_data_ud)"
      ],
      "metadata": {
        "colab": {
          "base_uri": "https://localhost:8080/"
        },
        "id": "P2_y8ghtb_mR",
        "outputId": "2cdac0ff-01ee-447c-bb21-2fae8098877c"
      },
      "execution_count": null,
      "outputs": [
        {
          "output_type": "execute_result",
          "data": {
            "text/plain": [
              "(79990, 79990, 20011, 20011)"
            ]
          },
          "metadata": {},
          "execution_count": 48
        }
      ]
    },
    {
      "cell_type": "code",
      "source": [
        "SOURCE_TRAINING_DATA_SIZE = len(input_training_data)\n",
        "BATCH_SIZE = 32\n",
        "\n",
        "is_train_ud = np.random.uniform(size=(len(target_training_data),)) < 0.8\n",
        "\n",
        "input_training_data_ud=[]\n",
        "target_training_data_ud=[]\n",
        "input_validation_data_ud=[]\n",
        "target_validation_data_ud=[]\n",
        "training_indexes=[i for i,bl in enumerate(is_train_ud)  if bl==True]\n",
        "validation_indexes=[i for i,bl in enumerate(is_train_ud)  if bl!=True]\n",
        "for i in training_indexes:\n",
        "    input_training_data_ud.append(input_training_data[i])\n",
        "    target_training_data_ud.append(target_training_data[i])\n",
        "for i in validation_indexes:\n",
        "    input_validation_data_ud.append(input_training_data[i])\n",
        "    target_validation_data_ud.append(target_training_data[i])\n"
      ],
      "metadata": {
        "id": "RpQ2pREFfPwu"
      },
      "execution_count": 13,
      "outputs": []
    },
    {
      "cell_type": "code",
      "source": [
        "len(input_training_data_ud),len(target_training_data_ud),len(input_validation_data_ud),len(target_validation_data_ud)"
      ],
      "metadata": {
        "colab": {
          "base_uri": "https://localhost:8080/"
        },
        "id": "5-rorOP7b-h3",
        "outputId": "248daee1-ffe5-429d-d2ff-dcc7ec0708c4"
      },
      "execution_count": 14,
      "outputs": [
        {
          "output_type": "execute_result",
          "data": {
            "text/plain": [
              "(80001, 80001, 20000, 20000)"
            ]
          },
          "metadata": {},
          "execution_count": 14
        }
      ]
    },
    {
      "cell_type": "code",
      "source": [
        "# ================================================================================================================================================\n",
        "# ================================================================================================================================================\n",
        "training_batchData = (tf.data.Dataset\n",
        "                      .from_tensor_slices((input_training_data_ud,target_training_data_ud ))\n",
        "                      .shuffle(SOURCE_TRAINING_DATA_SIZE)\n",
        "                      .batch(BATCH_SIZE)\n",
        "                      )\n",
        "\n",
        "validation_batchData = (tf.data.Dataset\n",
        "                        .from_tensor_slices((input_validation_data_ud, target_validation_data_ud))\n",
        "                        .shuffle(SOURCE_TRAINING_DATA_SIZE)\n",
        "                        .batch(BATCH_SIZE)\n",
        "                        )\n",
        "\n",
        "for input_strings, target_strings in training_batchData.take(1):\n",
        "    print(input_strings[:10])\n",
        "    print(\"=======================================\")\n",
        "    print(target_strings[:10])\n",
        "    break\n"
      ],
      "metadata": {
        "colab": {
          "base_uri": "https://localhost:8080/"
        },
        "id": "S-S9tWjIN0LP",
        "outputId": "031785d3-f6af-40bb-8a4f-3fb8906c6f8a"
      },
      "execution_count": 15,
      "outputs": [
        {
          "output_type": "stream",
          "name": "stdout",
          "text": [
            "tf.Tensor(\n",
            "[b'Do you know whose car that is?'\n",
            " b\"It won't take me much time to do that.\" b\"That's why I'm here.\"\n",
            " b'Tell me that was a joke!' b\"Tom shouldn't have made Mary angry.\"\n",
            " b\"I'll do that no matter what you say.\" b\"I say it's worth a try.\"\n",
            " b'I want to get rich quickly.'\n",
            " b\"It's going to take time to get that done.\"\n",
            " b'There are quite a few hotels by the lake.'], shape=(10,), dtype=string)\n",
            "=======================================\n",
            "tf.Tensor(\n",
            "[b'\\xe0\\xb0\\x85\\xe0\\xb0\\xa6\\xe0\\xb0\\xbf \\xe0\\xb0\\x8e\\xe0\\xb0\\xb5\\xe0\\xb0\\xb0\\xe0\\xb0\\xbf \\xe0\\xb0\\x95\\xe0\\xb0\\xbe\\xe0\\xb0\\xb0\\xe0\\xb1\\x81 \\xe0\\xb0\\x85\\xe0\\xb0\\xa8\\xe0\\xb0\\xbf \\xe0\\xb0\\xae\\xe0\\xb1\\x80\\xe0\\xb0\\x95\\xe0\\xb1\\x81 \\xe0\\xb0\\xa4\\xe0\\xb1\\x86\\xe0\\xb0\\xb2\\xe0\\xb1\\x81\\xe0\\xb0\\xb8\\xe0\\xb0\\xbe?\\n'\n",
            " b'\\xe0\\xb0\\x85\\xe0\\xb0\\xb2\\xe0\\xb0\\xbe \\xe0\\xb0\\x9a\\xe0\\xb1\\x87\\xe0\\xb0\\xaf\\xe0\\xb0\\xa1\\xe0\\xb0\\xbe\\xe0\\xb0\\xa8\\xe0\\xb0\\xbf\\xe0\\xb0\\x95\\xe0\\xb0\\xbf \\xe0\\xb0\\xa8\\xe0\\xb0\\xbe\\xe0\\xb0\\x95\\xe0\\xb1\\x81 \\xe0\\xb0\\x8e\\xe0\\xb0\\x95\\xe0\\xb1\\x8d\\xe0\\xb0\\x95\\xe0\\xb1\\x81\\xe0\\xb0\\xb5 \\xe0\\xb0\\xb8\\xe0\\xb0\\xae\\xe0\\xb0\\xaf\\xe0\\xb0\\x82 \\xe0\\xb0\\xaa\\xe0\\xb0\\x9f\\xe0\\xb1\\x8d\\xe0\\xb0\\x9f\\xe0\\xb0\\xa6\\xe0\\xb1\\x81.\\n'\n",
            " b'\\xe0\\xb0\\x85\\xe0\\xb0\\x82\\xe0\\xb0\\xa6\\xe0\\xb1\\x81\\xe0\\xb0\\x95\\xe0\\xb1\\x87 \\xe0\\xb0\\xa8\\xe0\\xb1\\x87\\xe0\\xb0\\xa8\\xe0\\xb1\\x81 \\xe0\\xb0\\x87\\xe0\\xb0\\x95\\xe0\\xb1\\x8d\\xe0\\xb0\\x95\\xe0\\xb0\\xa1 \\xe0\\xb0\\x89\\xe0\\xb0\\xa8\\xe0\\xb1\\x8d\\xe0\\xb0\\xa8\\xe0\\xb0\\xbe\\xe0\\xb0\\xa8\\xe0\\xb1\\x81.\\n'\n",
            " b'\\xe0\\xb0\\x85\\xe0\\xb0\\xa6\\xe0\\xb0\\xbf \\xe0\\xb0\\x92\\xe0\\xb0\\x95 \\xe0\\xb0\\x9c\\xe0\\xb1\\x8b\\xe0\\xb0\\x95\\xe0\\xb1\\x8d \\xe0\\xb0\\x85\\xe0\\xb0\\xa8\\xe0\\xb0\\xbf \\xe0\\xb0\\x9a\\xe0\\xb1\\x86\\xe0\\xb0\\xaa\\xe0\\xb1\\x8d\\xe0\\xb0\\xaa\\xe0\\xb1\\x81!\\n'\n",
            " b'\\xe0\\xb0\\x9f\\xe0\\xb0\\xbe\\xe0\\xb0\\xae\\xe0\\xb1\\x8d \\xe0\\xb0\\xae\\xe0\\xb1\\x87\\xe0\\xb0\\xb0\\xe0\\xb1\\x80\\xe0\\xb0\\xa8\\xe0\\xb0\\xbf \\xe0\\xb0\\x95\\xe0\\xb1\\x8b\\xe0\\xb0\\xaa\\xe0\\xb0\\x97\\xe0\\xb0\\xbf\\xe0\\xb0\\x82\\xe0\\xb0\\x9a\\xe0\\xb0\\x95\\xe0\\xb1\\x82\\xe0\\xb0\\xa1\\xe0\\xb0\\xa6\\xe0\\xb1\\x81.\\n'\n",
            " b'\\xe0\\xb0\\xae\\xe0\\xb1\\x80\\xe0\\xb0\\xb0\\xe0\\xb1\\x81 \\xe0\\xb0\\x8f\\xe0\\xb0\\xae\\xe0\\xb0\\xbf \\xe0\\xb0\\x9a\\xe0\\xb1\\x86\\xe0\\xb0\\xaa\\xe0\\xb1\\x8d\\xe0\\xb0\\xaa\\xe0\\xb0\\xbf\\xe0\\xb0\\xa8\\xe0\\xb0\\xbe \\xe0\\xb0\\xa8\\xe0\\xb1\\x87\\xe0\\xb0\\xa8\\xe0\\xb1\\x81 \\xe0\\xb0\\x9a\\xe0\\xb1\\x87\\xe0\\xb0\\xb8\\xe0\\xb1\\x8d\\xe0\\xb0\\xa4\\xe0\\xb0\\xbe\\xe0\\xb0\\xa8\\xe0\\xb1\\x81.\\n'\n",
            " b'\\xe0\\xb0\\x87\\xe0\\xb0\\xa6\\xe0\\xb0\\xbf \\xe0\\xb0\\xaa\\xe0\\xb1\\x8d\\xe0\\xb0\\xb0\\xe0\\xb0\\xaf\\xe0\\xb0\\xa4\\xe0\\xb1\\x8d\\xe0\\xb0\\xa8\\xe0\\xb0\\xbf\\xe0\\xb0\\x82\\xe0\\xb0\\x9a\\xe0\\xb0\\x82\\xe0\\xb0\\xa1\\xe0\\xb0\\xbf \\xe0\\xb0\\xb5\\xe0\\xb0\\xbf\\xe0\\xb0\\xb2\\xe0\\xb1\\x81\\xe0\\xb0\\xb5\\xe0\\xb1\\x88\\xe0\\xb0\\xa8\\xe0\\xb0\\xa6\\xe0\\xb0\\xa8\\xe0\\xb0\\xbf \\xe0\\xb0\\xa8\\xe0\\xb1\\x87\\xe0\\xb0\\xa8\\xe0\\xb1\\x81 \\xe0\\xb0\\x9a\\xe0\\xb1\\x86\\xe0\\xb0\\xaa\\xe0\\xb1\\x8d\\xe0\\xb0\\xa4\\xe0\\xb1\\x81\\xe0\\xb0\\xa8\\xe0\\xb1\\x8d\\xe0\\xb0\\xa8\\xe0\\xb0\\xbe\\xe0\\xb0\\xa8\\xe0\\xb1\\x81.\\n'\n",
            " b'\\xe0\\xb0\\xa8\\xe0\\xb1\\x87\\xe0\\xb0\\xa8\\xe0\\xb1\\x81 \\xe0\\xb0\\xa4\\xe0\\xb1\\x8d\\xe0\\xb0\\xb5\\xe0\\xb0\\xb0\\xe0\\xb0\\x97\\xe0\\xb0\\xbe \\xe0\\xb0\\xa7\\xe0\\xb0\\xa8\\xe0\\xb0\\xb5\\xe0\\xb0\\x82\\xe0\\xb0\\xa4\\xe0\\xb1\\x81\\xe0\\xb0\\xa1\\xe0\\xb0\\xbf\\xe0\\xb0\\xa8\\xe0\\xb0\\xbf \\xe0\\xb0\\x95\\xe0\\xb0\\xbe\\xe0\\xb0\\xb5\\xe0\\xb0\\xbe\\xe0\\xb0\\xb2\\xe0\\xb0\\xa8\\xe0\\xb1\\x81\\xe0\\xb0\\x95\\xe0\\xb1\\x81\\xe0\\xb0\\x82\\xe0\\xb0\\x9f\\xe0\\xb1\\x81\\xe0\\xb0\\xa8\\xe0\\xb1\\x8d\\xe0\\xb0\\xa8\\xe0\\xb0\\xbe\\xe0\\xb0\\xa8\\xe0\\xb1\\x81.\\n'\n",
            " b'\\xe0\\xb0\\x85\\xe0\\xb0\\xa6\\xe0\\xb0\\xbf \\xe0\\xb0\\xaa\\xe0\\xb1\\x82\\xe0\\xb0\\xb0\\xe0\\xb1\\x8d\\xe0\\xb0\\xa4\\xe0\\xb0\\xbf \\xe0\\xb0\\x95\\xe0\\xb0\\xbe\\xe0\\xb0\\xb5\\xe0\\xb0\\xa1\\xe0\\xb0\\xbe\\xe0\\xb0\\xa8\\xe0\\xb0\\xbf\\xe0\\xb0\\x95\\xe0\\xb0\\xbf \\xe0\\xb0\\xb8\\xe0\\xb0\\xae\\xe0\\xb0\\xaf\\xe0\\xb0\\x82 \\xe0\\xb0\\xaa\\xe0\\xb0\\xa1\\xe0\\xb1\\x81\\xe0\\xb0\\xa4\\xe0\\xb1\\x81\\xe0\\xb0\\x82\\xe0\\xb0\\xa6\\xe0\\xb0\\xbf.\\n'\n",
            " b'\\xe0\\xb0\\xb8\\xe0\\xb0\\xb0\\xe0\\xb0\\xb8\\xe0\\xb1\\x8d\\xe0\\xb0\\xb8\\xe0\\xb1\\x81 \\xe0\\xb0\\xa6\\xe0\\xb0\\x97\\xe0\\xb1\\x8d\\xe0\\xb0\\x97\\xe0\\xb0\\xb0 \\xe0\\xb0\\x95\\xe0\\xb1\\x8a\\xe0\\xb0\\xa8\\xe0\\xb1\\x8d\\xe0\\xb0\\xa8\\xe0\\xb0\\xbf \\xe0\\xb0\\xb9\\xe0\\xb1\\x8b\\xe0\\xb0\\x9f\\xe0\\xb0\\xb3\\xe0\\xb1\\x8d\\xe0\\xb0\\xb3\\xe0\\xb1\\x81 \\xe0\\xb0\\x89\\xe0\\xb0\\xa8\\xe0\\xb1\\x8d\\xe0\\xb0\\xa8\\xe0\\xb0\\xbe\\xe0\\xb0\\xaf\\xe0\\xb0\\xbf.\\n'], shape=(10,), dtype=string)\n"
          ]
        }
      ]
    },
    {
      "cell_type": "code",
      "source": [],
      "metadata": {
        "id": "AbBKfX7fVP28"
      },
      "execution_count": null,
      "outputs": []
    },
    {
      "cell_type": "markdown",
      "source": [
        "**Standardization**"
      ],
      "metadata": {
        "id": "JCpcrGUn0MLd"
      }
    },
    {
      "cell_type": "markdown",
      "source": [
        "**Normalization, Lower, Strip**"
      ],
      "metadata": {
        "id": "89Bi0nWp0Ten"
      }
    },
    {
      "cell_type": "code",
      "source": [
        "# ================================================================================================================================================\n",
        "# Unicode normalization\n",
        "# ================================================================================================================================================\n",
        "def text_normalize_lower_strip(sentence):\n",
        "    # Split accented characters.\n",
        "    sentence = tf_text.normalize_utf8(sentence, 'NFKD')\n",
        "    #lowering all the letters\n",
        "    sentence = tf.strings.lower(sentence)\n",
        "    #removing spaces from the starting and end\n",
        "    sentence = tf.strings.strip(sentence)\n",
        "    #add([START] in the beginning and [END] in the ending)\n",
        "    sentence = tf.strings.join(['[START]', sentence, '[END]'], separator=' ')\n",
        "    return sentence"
      ],
      "metadata": {
        "id": "zY9TTUq6kywp"
      },
      "execution_count": 16,
      "outputs": []
    },
    {
      "cell_type": "code",
      "source": [
        "#validating the above function\n",
        "example_text = tf.constant('vaLidating The aBove function. ')\n",
        "print(example_text.numpy().decode())\n",
        "print(text_normalize_lower_strip(example_text).numpy().decode())"
      ],
      "metadata": {
        "colab": {
          "base_uri": "https://localhost:8080/"
        },
        "id": "heh9rQ9mTE7C",
        "outputId": "291d24e1-c075-456b-b021-079dec14529f"
      },
      "execution_count": 17,
      "outputs": [
        {
          "output_type": "stream",
          "name": "stdout",
          "text": [
            "vaLidating The aBove function. \n",
            "[START] validating the above function. [END]\n"
          ]
        }
      ]
    },
    {
      "cell_type": "markdown",
      "source": [
        "**Text Vectorization**"
      ],
      "metadata": {
        "id": "RuaIW_rv0eTD"
      }
    },
    {
      "cell_type": "code",
      "source": [
        "\n",
        "# ================================================================================================================================================\n",
        "# Text Vectorization\n",
        "# ================================================================================================================================================\n",
        "max_vocab_size = 12000\n",
        "input_text_preprocessor = tf.keras.layers.TextVectorization(standardize=text_normalize_lower_strip,\n",
        "                                                            max_tokens=max_vocab_size,\n",
        "                                                            ragged=True)\n",
        "\n",
        "input_text_preprocessor.adapt(training_batchData.map(lambda context, target: context))\n",
        "# Here are the first 10 words from the vocabulary:\n",
        "print(input_text_preprocessor.get_vocabulary()[:10])\n",
        "\n",
        "target_text_preprocessor = tf.keras.layers.TextVectorization(standardize=text_normalize_lower_strip,\n",
        "                                                             max_tokens=max_vocab_size,\n",
        "                                                             ragged=True)\n",
        "\n",
        "target_text_preprocessor.adapt(training_batchData.map(lambda context, target: target))\n",
        "print(target_text_preprocessor.get_vocabulary()[:10])"
      ],
      "metadata": {
        "colab": {
          "base_uri": "https://localhost:8080/"
        },
        "id": "aDK5Vktu0gYf",
        "outputId": "a5f22310-f7c6-45cd-fed3-cd4b12be5997"
      },
      "execution_count": 19,
      "outputs": [
        {
          "output_type": "stream",
          "name": "stdout",
          "text": [
            "['', '[UNK]', '[START]', '[END]', 'tom', 'i', 'to', 'the', 'you', 'a']\n",
            "['', '[UNK]', '[START]', '[END]', 'టామ్', 'నేను', 'మీరు', 'నాకు', 'చాలా', 'నా']\n"
          ]
        }
      ]
    },
    {
      "cell_type": "markdown",
      "source": [
        "**Layers -> Text -> Token ID**"
      ],
      "metadata": {
        "id": "v8ZR2aSU0xy5"
      }
    },
    {
      "cell_type": "code",
      "source": [
        "# ================================================================================================================================================\n",
        "# Layers can convert a batch of strings into a batch of token IDs\n",
        "# ================================================================================================================================================\n",
        "# CHECK : NO_USE -----------------------------\n",
        "example_tokens = input_text_preprocessor(input_strings)\n",
        "print(example_tokens[:3, :])"
      ],
      "metadata": {
        "colab": {
          "base_uri": "https://localhost:8080/"
        },
        "id": "Odk6z7Of0gcF",
        "outputId": "7749d421-a191-494b-f46d-93605c42efd4"
      },
      "execution_count": 20,
      "outputs": [
        {
          "output_type": "stream",
          "name": "stdout",
          "text": [
            "<tf.RaggedTensor [[2, 13, 8, 24, 827, 240, 11, 934, 3],\n",
            " [2, 26, 108, 111, 28, 123, 99, 6, 13, 47, 3], [2, 98, 55, 27, 102, 3]]>\n"
          ]
        }
      ]
    },
    {
      "cell_type": "markdown",
      "source": [
        "**Layers -> Token ID -> Text**"
      ],
      "metadata": {
        "id": "YcafzlHA1F83"
      }
    },
    {
      "cell_type": "code",
      "source": [
        "# ================================================================================================================================================\n",
        "# The get_vocabulary method can be used to convert token IDs back to text:\n",
        "# ================================================================================================================================================\n",
        "# CHECK : NO_USE -----------------------------\n",
        "context_vocab = np.array(input_text_preprocessor.get_vocabulary())\n",
        "tokens = context_vocab[example_tokens[0].numpy()]\n",
        "print(' '.join(tokens))"
      ],
      "metadata": {
        "colab": {
          "base_uri": "https://localhost:8080/"
        },
        "id": "yNJNcCWI08aa",
        "outputId": "f0cfc817-acdd-471f-898d-d738a411511d"
      },
      "execution_count": 21,
      "outputs": [
        {
          "output_type": "stream",
          "name": "stdout",
          "text": [
            "[START] do you know whose car that is? [END]\n"
          ]
        }
      ]
    },
    {
      "cell_type": "code",
      "source": [
        "def preprocess_data(input, target):\n",
        "    input = input_text_preprocessor(input).to_tensor()\n",
        "    target = target_text_preprocessor(target)\n",
        "    targ_in = target[:,:-1].to_tensor()\n",
        "    targ_out = target[:,1:].to_tensor()\n",
        "    return (input, targ_in), targ_out\n",
        "\n",
        "training_preprocess_data = training_batchData.map(preprocess_data, tf.data.AUTOTUNE)\n",
        "validation_preprocess_data = validation_batchData.map(preprocess_data, tf.data.AUTOTUNE)"
      ],
      "metadata": {
        "id": "BpTHxjx91Ln5"
      },
      "execution_count": 22,
      "outputs": []
    },
    {
      "cell_type": "code",
      "source": [
        "# CHECK : Print -----------------------------\n",
        "for (input_string2, target_string2), ex_tar_out in training_preprocess_data.take(1):\n",
        "    print(input_string2[0, :10].numpy())\n",
        "    print()\n",
        "    print(target_string2[0, :10].numpy())\n",
        "    print(ex_tar_out[0, :10].numpy())"
      ],
      "metadata": {
        "colab": {
          "base_uri": "https://localhost:8080/"
        },
        "id": "-pxakcg21OLt",
        "outputId": "bf677ce3-3070-48d9-b29c-2808ac62b39e"
      },
      "execution_count": 23,
      "outputs": [
        {
          "output_type": "stream",
          "name": "stdout",
          "text": [
            "[   2  994   10   76   16    7  200 9299   16 4485]\n",
            "\n",
            "[   2 4257   71   51    1 1725  937    0    0    0]\n",
            "[4257   71   51    1 1725  937    3    0    0    0]\n"
          ]
        }
      ]
    },
    {
      "cell_type": "markdown",
      "source": [
        "**Encoder Architecture**"
      ],
      "metadata": {
        "id": "MEJ9YFLR1Y9N"
      }
    },
    {
      "cell_type": "code",
      "source": [
        "# ================================================================================================================================================\n",
        "# Encoder Architecture\n",
        "# ================================================================================================================================================\n",
        "class Encoder(tf.keras.layers.Layer):\n",
        "    def __init__(self, text_processor, units):\n",
        "        super(Encoder, self).__init__()\n",
        "        self.text_processor = text_processor\n",
        "        self.vocab_size = text_processor.vocabulary_size()\n",
        "        self.units = units\n",
        "\n",
        "        # The embedding layer converts tokens to vectors\n",
        "        self.embedding = tf.keras.layers.Embedding(self.vocab_size,\n",
        "                                                   units,\n",
        "                                                   mask_zero=True)\n",
        "\n",
        "        # The RNN layer processes those vectors sequentially.\n",
        "        self.rnn = tf.keras.layers.Bidirectional(merge_mode='sum',\n",
        "                                                 layer=tf.keras.layers.GRU(units,\n",
        "                                                                           return_sequences=True,\n",
        "                                                                           recurrent_initializer='glorot_uniform')\n",
        "                                                 )\n",
        "    def call(self, input):\n",
        "        shape_checker = ShapeChecker()\n",
        "        shape_checker(input, 'batch s')\n",
        "\n",
        "        # 2. The embedding layer looks up the embedding vector for each token.\n",
        "        input = self.embedding(input)\n",
        "        shape_checker(input, 'batch s units')\n",
        "\n",
        "        # 3. The GRU processes the sequence of embeddings.\n",
        "        input = self.rnn(input)\n",
        "        shape_checker(input, 'batch s units')\n",
        "\n",
        "        # 4. Returns the new sequence of embeddings.\n",
        "        return input\n",
        "\n",
        "    def convert_input(self, input_texts):\n",
        "        input_texts = tf.convert_to_tensor(input_texts)\n",
        "        if len(input_texts.shape) == 0:\n",
        "            input_texts = tf.convert_to_tensor(input_texts)[tf.newaxis]\n",
        "        input_tensor = self.text_processor(input_texts).to_tensor()\n",
        "        input_tensor = self(input_tensor)\n",
        "        return input_tensor\n"
      ],
      "metadata": {
        "id": "M11dYZCM1bv-"
      },
      "execution_count": 24,
      "outputs": []
    },
    {
      "cell_type": "code",
      "source": [
        "UNITS = 128\n",
        "# Encode the input sequence.\n",
        "encoder = Encoder(input_text_preprocessor, UNITS)\n",
        "ex_context = encoder(input_string2)"
      ],
      "metadata": {
        "id": "86dY3J891byi"
      },
      "execution_count": 25,
      "outputs": []
    },
    {
      "cell_type": "code",
      "source": [
        "# CHECK : Print -----------------------------\n",
        "print(f'Input tokens, shape (batch, s): {input_string2.shape}')\n",
        "print(f'Encoder output, shape (batch, s, units): {ex_context.shape}')"
      ],
      "metadata": {
        "colab": {
          "base_uri": "https://localhost:8080/"
        },
        "id": "2S-LlXr01b0d",
        "outputId": "c9dddffd-b495-443c-f236-373e5a811634"
      },
      "execution_count": 26,
      "outputs": [
        {
          "output_type": "stream",
          "name": "stdout",
          "text": [
            "Input tokens, shape (batch, s): (32, 17)\n",
            "Encoder output, shape (batch, s, units): (32, 17, 128)\n"
          ]
        }
      ]
    },
    {
      "cell_type": "markdown",
      "source": [
        "**Attention Layer**"
      ],
      "metadata": {
        "id": "tvZWmKQW1kIv"
      }
    },
    {
      "cell_type": "code",
      "source": [
        "# ================================================================================================================================================\n",
        "# The attention layer\n",
        "# ================================================================================================================================================\n",
        "class CrossAttention(tf.keras.layers.Layer):\n",
        "    def __init__(self, units, **kwargs):\n",
        "        super().__init__()\n",
        "        self.mha = tf.keras.layers.MultiHeadAttention(key_dim=units, num_heads=1, **kwargs)\n",
        "        self.layernorm = tf.keras.layers.LayerNormalization()\n",
        "        self.add = tf.keras.layers.Add()\n",
        "\n",
        "    def call(self, X, context):\n",
        "        shape_checker = ShapeChecker()\n",
        "\n",
        "        shape_checker(X, 'batch t units')\n",
        "        shape_checker(context, 'batch s units')\n",
        "\n",
        "        attn_output, attn_scores = self.mha(\n",
        "            query=X,\n",
        "            value=context,\n",
        "            return_attention_scores=True)\n",
        "\n",
        "        shape_checker(X, 'batch t units')\n",
        "        shape_checker(attn_scores, 'batch heads t s')\n",
        "\n",
        "        # Cache the attention scores for plotting later.\n",
        "        attn_scores = tf.reduce_mean(attn_scores, axis=1)\n",
        "        shape_checker(attn_scores, 'batch t s')\n",
        "        self.last_attention_weights = attn_scores\n",
        "\n",
        "        X = self.add([X, attn_output])\n",
        "        X = self.layernorm(X)\n",
        "\n",
        "        return X"
      ],
      "metadata": {
        "id": "xe0o9TOD1b4D"
      },
      "execution_count": 27,
      "outputs": []
    },
    {
      "cell_type": "code",
      "source": [
        "attention_layer = CrossAttention(UNITS)\n",
        "\n",
        "# Attend to the encoded tokens\n",
        "embed = tf.keras.layers.Embedding(target_text_preprocessor.vocabulary_size(),\n",
        "                                  output_dim=UNITS,\n",
        "                                  mask_zero=True)\n",
        "ex_target_embed = embed(target_string2)\n",
        "\n",
        "result = attention_layer(ex_target_embed, ex_context)\n",
        "\n",
        "print(f'Input sequence, shape (batch, s, units): {ex_context.shape}')\n",
        "print(f'Target sequence, shape (batch, t, units): {ex_target_embed.shape}')\n",
        "print(f'Attention result, shape (batch, t, units): {result.shape}')\n",
        "print(f'Attention weights, shape (batch, t, s):    {attention_layer.last_attention_weights.shape}')"
      ],
      "metadata": {
        "colab": {
          "base_uri": "https://localhost:8080/"
        },
        "id": "BanUGAMp1p3u",
        "outputId": "9d262198-f9de-4f39-fd6f-30c7c3f1b8c7"
      },
      "execution_count": 28,
      "outputs": [
        {
          "output_type": "stream",
          "name": "stdout",
          "text": [
            "Input sequence, shape (batch, s, units): (32, 17, 128)\n",
            "Target sequence, shape (batch, t, units): (32, 11, 128)\n",
            "Attention result, shape (batch, t, units): (32, 11, 128)\n",
            "Attention weights, shape (batch, t, s):    (32, 11, 17)\n"
          ]
        }
      ]
    },
    {
      "cell_type": "code",
      "source": [
        "attention_layer.last_attention_weights[0].numpy().sum(axis=-1)\n",
        "\n",
        "# Plot Graph -------------------------\n",
        "attention_weights = attention_layer.last_attention_weights\n",
        "mask=(input_string2 != 0).numpy()\n",
        "\n",
        "plt.subplot(1, 2, 1)\n",
        "plt.pcolormesh(mask*attention_weights[:, 0, :])\n",
        "plt.title('Attention weights')\n",
        "\n",
        "plt.subplot(1, 2, 2)\n",
        "plt.pcolormesh(mask)\n",
        "plt.title('Mask');"
      ],
      "metadata": {
        "colab": {
          "base_uri": "https://localhost:8080/",
          "height": 281
        },
        "id": "F3G7sJWD1uJa",
        "outputId": "9ef5000b-df06-457c-8f56-0b69f0e56e56"
      },
      "execution_count": 29,
      "outputs": [
        {
          "output_type": "display_data",
          "data": {
            "text/plain": [
              "<Figure size 432x288 with 2 Axes>"
            ],
            "image/png": "[encoded data removed]"
          },
          "metadata": {
            "needs_background": "light"
          }
        }
      ]
    },
    {
      "cell_type": "markdown",
      "source": [
        "**Decoder Architecture**"
      ],
      "metadata": {
        "id": "y_WQ_zVD11zn"
      }
    },
    {
      "cell_type": "code",
      "source": [
        "# ================================================================================================================================================\n",
        "# Decoder architecture\n",
        "# ================================================================================================================================================\n",
        "class Decoder(tf.keras.layers.Layer):\n",
        "    @classmethod\n",
        "    def add_method(cls, fun):\n",
        "        setattr(cls, fun.__name__, fun)\n",
        "        return fun\n",
        "\n",
        "    def __init__(self, text_processor, units):\n",
        "        super(Decoder, self).__init__()\n",
        "        self.text_processor = text_processor\n",
        "        self.vocab_size = text_processor.vocabulary_size()\n",
        "        self.word_to_index = tf.keras.layers.StringLookup(vocabulary=text_processor.get_vocabulary(),\n",
        "                                                          mask_token='', oov_token='[UNK]'\n",
        "                                                          )\n",
        "        self.index_to_word = tf.keras.layers.StringLookup(vocabulary=text_processor.get_vocabulary(),\n",
        "                                                          mask_token='', oov_token='[UNK]',\n",
        "                                                          invert=True\n",
        "                                                          )\n",
        "        self.start_token = self.word_to_index('[START]')\n",
        "        self.end_token = self.word_to_index('[END]')\n",
        "\n",
        "        self.units = units\n",
        "\n",
        "        # 1. The embedding layer converts token IDs to vectors\n",
        "        self.embedding = tf.keras.layers.Embedding(self.vocab_size,\n",
        "                                                   units, mask_zero=True)\n",
        "\n",
        "        # 2. The RNN keeps track of what's been generated so far.\n",
        "        self.rnn = tf.keras.layers.GRU(units,\n",
        "                                       return_sequences=True,\n",
        "                                       return_state=True,\n",
        "                                       recurrent_initializer='glorot_uniform')\n",
        "\n",
        "        # 3. The RNN output will be the query for the attention layer.\n",
        "        self.attention = CrossAttention(units)\n",
        "\n",
        "        # 4. This fully connected layer produces the logits for each\n",
        "        # output token.\n",
        "        self.output_layer = tf.keras.layers.Dense(self.vocab_size)"
      ],
      "metadata": {
        "id": "CippDxEk131_"
      },
      "execution_count": 30,
      "outputs": []
    },
    {
      "cell_type": "code",
      "source": [
        "@Decoder.add_method\n",
        "def call(self, context, X, state=None, return_state=False):\n",
        "    shape_checker = ShapeChecker()\n",
        "    shape_checker(X, 'batch t')\n",
        "    shape_checker(context, 'batch s units')\n",
        "\n",
        "    # 1. Lookup the embeddings\n",
        "    X = self.embedding(X)\n",
        "    shape_checker(X, 'batch t units')\n",
        "\n",
        "    # 2. Process the target sequence.\n",
        "    X, state = self.rnn(X, initial_state=state)\n",
        "    shape_checker(X, 'batch t units')\n",
        "\n",
        "    # 3. Use the RNN output as the query for the attention over the context.\n",
        "    X = self.attention(X, context)\n",
        "    self.last_attention_weights = self.attention.last_attention_weights\n",
        "    shape_checker(X, 'batch t units')\n",
        "    shape_checker(self.last_attention_weights, 'batch t s')\n",
        "\n",
        "    # Step 4. Generate logit predictions for the next token.\n",
        "    logits = self.output_layer(X)\n",
        "    shape_checker(logits, 'batch t target_vocab_size')\n",
        "\n",
        "    if return_state:\n",
        "        return logits, state\n",
        "    else:\n",
        "        return logits"
      ],
      "metadata": {
        "id": "1OAMhrWt134e"
      },
      "execution_count": 31,
      "outputs": []
    },
    {
      "cell_type": "code",
      "source": [
        "decoder = Decoder(target_text_preprocessor, UNITS)\n",
        "\n",
        "logits = decoder(ex_context, target_string2)\n",
        "print(f'encoder output shape      : (batch, s, units) {ex_context.shape}')\n",
        "print(f'input target tokens shape : (batch, t) {target_string2.shape}')\n",
        "print(f'logits shape shape        : (batch, target_vocabulary_size) {logits.shape}')"
      ],
      "metadata": {
        "colab": {
          "base_uri": "https://localhost:8080/"
        },
        "id": "fzFxxaXz1379",
        "outputId": "62cdf2ae-8be1-494f-d303-bbbca1b2ed58"
      },
      "execution_count": 32,
      "outputs": [
        {
          "output_type": "stream",
          "name": "stdout",
          "text": [
            "encoder output shape      : (batch, s, units) (32, 17, 128)\n",
            "input target tokens shape : (batch, t) (32, 11)\n",
            "logits shape shape        : (batch, target_vocabulary_size) (32, 11, 12000)\n"
          ]
        }
      ]
    },
    {
      "cell_type": "markdown",
      "source": [
        "**Inferene Stage**"
      ],
      "metadata": {
        "id": "pQm8Y1zq2FTa"
      }
    },
    {
      "cell_type": "markdown",
      "source": [],
      "metadata": {
        "id": "cHbBNbW3kohH"
      }
    },
    {
      "cell_type": "code",
      "source": [
        "# ================================================================================================================================================\n",
        "# Inference\n",
        "# ================================================================================================================================================\n",
        "@Decoder.add_method\n",
        "def get_initial_state(self, context):\n",
        "    batch_size = tf.shape(context)[0]\n",
        "    start_tokens = tf.fill([batch_size, 1], self.start_token)\n",
        "    done = tf.zeros([batch_size, 1], dtype=tf.bool)\n",
        "    embedded = self.embedding(start_tokens)\n",
        "    return start_tokens, done, self.rnn.get_initial_state(embedded)[0]\n",
        "\n",
        "@Decoder.add_method\n",
        "def tokens_to_text(self, tokens):\n",
        "    words = self.index_to_word(tokens)\n",
        "    result = tf.strings.reduce_join(words, axis=-1, separator=' ')\n",
        "    result = tf.strings.regex_replace(result, '[START]', '')\n",
        "    result = tf.strings.regex_replace(result, '[END]', '')\n",
        "    return result\n",
        "\n",
        "\n",
        "@Decoder.add_method\n",
        "def get_next_token(self, context, next_token, done, state, temperature=0.0):\n",
        "    logits, state = self(context, next_token,\n",
        "                         state=state,\n",
        "                         return_state=True\n",
        "                         )\n",
        "\n",
        "    if temperature == 0.0:\n",
        "        next_token = tf.argmax(logits, axis=-1)\n",
        "    else:\n",
        "        logits = logits[:, -1, :] / temperature\n",
        "        next_token = tf.random.categorical(logits, num_samples=1)\n",
        "\n",
        "    # If a sequence produces an `end_token`, set it `done`\n",
        "    done = done | (next_token == self.end_token)\n",
        "    # Once a sequence is done it only produces 0-padding.\n",
        "    next_token = tf.where(done, tf.constant(0, dtype=tf.int64), next_token)\n",
        "\n",
        "    return next_token, done, state\n"
      ],
      "metadata": {
        "id": "muvnYdx32ADH"
      },
      "execution_count": 33,
      "outputs": []
    },
    {
      "cell_type": "code",
      "source": [
        "# Setup the loop variables.\n",
        "next_token, done, state = decoder.get_initial_state(ex_context)\n",
        "tokens = []\n",
        "\n",
        "for n in range(10):\n",
        "  # Run one step.\n",
        "  next_token, done, state = decoder.get_next_token(\n",
        "      ex_context, next_token, done, state, temperature=1.0)\n",
        "  # Add the token to the output.\n",
        "  tokens.append(next_token)\n",
        "\n",
        "# Stack all the tokens together.\n",
        "tokens = tf.concat(tokens, axis=-1) # (batch, t)\n",
        "\n",
        "# Convert the tokens back to a a string\n",
        "result = decoder.tokens_to_text(tokens)\n",
        "result[:3].numpy()"
      ],
      "metadata": {
        "colab": {
          "base_uri": "https://localhost:8080/"
        },
        "id": "8wae-P0k2AFd",
        "outputId": "6270bf5b-8cca-414d-8a2b-f67df70cb8a4"
      },
      "execution_count": 34,
      "outputs": [
        {
          "output_type": "execute_result",
          "data": {
            "text/plain": [
              "array([b'\\xe0\\xb0\\xb5\\xe0\\xb0\\xb9\\xe0\\xb0\\xbf\\xe0\\xb0\\x82\\xe0\\xb0\\x9a\\xe0\\xb0\\xbe\\xe0\\xb0\\xa8\\xe0\\xb1\\x81. \\xe0\\xb0\\x95\\xe0\\xb0\\xa8\\xe0\\xb1\\x81\\xe0\\xb0\\x97\\xe0\\xb1\\x8a\\xe0\\xb0\\xa8\\xe0\\xb1\\x8d\\xe0\\xb0\\xa8\\xe0\\xb0\\xbe\\xe0\\xb0\\xa1\\xe0\\xb1\\x81. \\xe0\\xb0\\x9a\\xe0\\xb1\\x86\\xe0\\xb0\\x82\\xe0\\xb0\\xa6\\xe0\\xb0\\xbf\\xe0\\xb0\\xa8 \\xe0\\xb0\\xa4\\xe0\\xb0\\xa1\\xe0\\xb0\\xbf\\xe0\\xb0\\xb8\\xe0\\xb0\\xbf\\xe0\\xb0\\xaa\\xe0\\xb1\\x8b\\xe0\\xb0\\xaf\\xe0\\xb0\\xbe\\xe0\\xb0\\xaf\\xe0\\xb0\\xbf. \\xe0\\xb0\\xa8\\xe0\\xb0\\x97\\xe0\\xb1\\x8d\\xe0\\xb0\\xa8\\xe0\\xb0\\x82\\xe0\\xb0\\x97\\xe0\\xb0\\xbe \\xe0\\xb0\\xaa\\xe0\\xb0\\x9a\\xe0\\xb1\\x8d\\xe0\\xb0\\x9a\\xe0\\xb0\\xbf\\xe0\\xb0\\x95 \\xe0\\xb0\\xb5\\xe0\\xb1\\x86\\xe0\\xb0\\xa4\\xe0\\xb0\\x95\\xe0\\xb0\\x82\\xe0\\xb0\\xa1\\xe0\\xb0\\xbf. \\xe0\\xb0\\xae\\xe0\\xb1\\x81\\xe0\\xb0\\x97\\xe0\\xb0\\xbf\\xe0\\xb0\\xb8\\xe0\\xb0\\xbf\\xe0\\xb0\\x82\\xe0\\xb0\\xa6\\xe0\\xb0\\xbf? \\xe0\\xb0\\xb7\\xe0\\xb0\\xbe\\xe0\\xb0\\xaa\\xe0\\xb0\\xbf\\xe0\\xb0\\x82\\xe0\\xb0\\x97\\xe0\\xb1\\x8d\\xe2\\x80\\x8c\\xe0\\xb0\\x95\\xe0\\xb1\\x81 \\xe0\\xb0\\x87\\xe0\\xb0\\xb0\\xe0\\xb0\\xbe\\xe0\\xb0\\x95\\xe0\\xb1\\x8d',\n",
              "       b'\\xe0\\xb0\\xae\\xe0\\xb0\\xbe\\xe0\\xb0\\xae\\xe0\\xb0\\xaf\\xe0\\xb1\\x8d\\xe0\\xb0\\xaf \\xe0\\xb0\\x95\\xe0\\xb1\\x8d\\xe0\\xb0\\xb2\\xe0\\xb0\\xbf\\xe0\\xb0\\xb7\\xe0\\xb1\\x8d\\xe0\\xb0\\x9f\\xe0\\xb0\\xae\\xe0\\xb1\\x86\\xe0\\xb1\\x96\\xe0\\xb0\\xa8\\xe0\\xb0\\xa6\\xe0\\xb0\\xbf. \\xe0\\xb0\\xaa\\xe0\\xb1\\x86\\xe0\\xb0\\x9f\\xe0\\xb1\\x8d\\xe0\\xb0\\x9f\\xe0\\xb0\\xbf \\xe0\\xb0\\x9a\\xe0\\xb1\\x87\\xe0\\xb0\\xaf\\xe0\\xb0\\xbf\\xe0\\xb0\\x82\\xe0\\xb0\\x9a\\xe0\\xb1\\x81\\xe0\\xb0\\x95\\xe0\\xb1\\x81\\xe0\\xb0\\xa8\\xe0\\xb1\\x8d\\xe0\\xb0\\xa8\\xe0\\xb0\\xbe\\xe0\\xb0\\xa1\\xe0\\xb1\\x81. \\xe0\\xb0\\x97\\xe0\\xb0\\xbf\\xe0\\xb0\\x9f\\xe0\\xb0\\xbe\\xe0\\xb0\\xb0\\xe0\\xb0\\xbf\\xe0\\xb0\\xb8\\xe0\\xb1\\x8d\\xe0\\xb0\\x9f\\xe0\\xb1\\x8d. \\xe0\\xb0\\xa4\\xe0\\xb0\\xbe\\xe0\\xb0\\x97\\xe0\\xb1\\x81\\xe0\\xb0\\xa4\\xe0\\xb1\\x81\\xe0\\xb0\\xa8\\xe0\\xb1\\x8d\\xe0\\xb0\\xa8\\xe0\\xb0\\xbe\\xe0\\xb0\\xb0\\xe0\\xb0\\xbe? \\xe0\\xb0\\xb5\\xe0\\xb0\\xb8\\xe0\\xb1\\x8d\\xe0\\xb0\\xa4\\xe0\\xb1\\x87, \\xe0\\xb0\\xae\\xe0\\xb1\\x81\\xe0\\xb0\\x97\\xe0\\xb0\\xbf\\xe0\\xb0\\x82\\xe0\\xb0\\xaa\\xe0\\xb1\\x81 \\xe0\\xb0\\xac\\xe0\\xb0\\xb9\\xe0\\xb1\\x81\\xe0\\xb0\\xae\\xe0\\xb0\\xa4\\xe0\\xb0\\xbf\\xe0\\xb0\\x97\\xe0\\xb0\\xbe \\xe0\\xb0\\xa8\\xe0\\xb0\\xbf\\xe0\\xb0\\xb5\\xe0\\xb0\\xb8\\xe0\\xb0\\xbf\\xe0\\xb0\\x82\\xe0\\xb0\\x9a\\xe0\\xb0\\xbf\\xe0\\xb0\\xa8\\xe0\\xb0\\xaa\\xe0\\xb1\\x8d\\xe0\\xb0\\xaa\\xe0\\xb1\\x81\\xe0\\xb0\\xa1\\xe0\\xb1\\x81',\n",
              "       b'\\xe0\\xb0\\xae\\xe0\\xb0\\xb0\\xe0\\xb0\\xa3\\xe0\\xb0\\xb6\\xe0\\xb0\\xbf\\xe0\\xb0\\x95\\xe0\\xb1\\x8d\\xe0\\xb0\\xb7 \\xe0\\xb0\\xb5\\xe0\\xb0\\x82\\xe0\\xb0\\xa6\\xe0\\xb0\\xb2\\xe0\\xb0\\xbe\\xe0\\xb0\\xa6\\xe0\\xb0\\xbf \\xe0\\xb0\\xaa\\xe0\\xb0\\xb0\\xe0\\xb1\\x8d\\xe0\\xb0\\xb5\\xe0\\xb0\\xbe\\xe0\\xb0\\xb2\\xe0\\xb1\\x87\\xe0\\xb0\\xa6\\xe0\\xb1\\x81. \\xe0\\xb0\\xa8\\xe0\\xb0\\xbf\\xe0\\xb0\\xb0\\xe0\\xb1\\x82\\xe0\\xb0\\xaa\\xe0\\xb0\\xbf\\xe0\\xb0\\x82\\xe0\\xb0\\x9a\\xe0\\xb0\\xa1\\xe0\\xb0\\xbe\\xe0\\xb0\\xa8\\xe0\\xb0\\xbf\\xe0\\xb0\\x95\\xe0\\xb0\\xbf \\xe0\\xb0\\x9c\\xe0\\xb0\\xb0\\xe0\\xb0\\x97\\xe0\\xb0\\xac\\xe0\\xb1\\x8b\\xe0\\xb0\\xa4\\xe0\\xb1\\x8b\\xe0\\xb0\\x82\\xe0\\xb0\\xa6\\xe0\\xb0\\xbf. \\xe0\\xb0\\xb8\\xe0\\xb0\\xae\\xe0\\xb0\\xbe\\xe0\\xb0\\xb5\\xe0\\xb1\\x87\\xe0\\xb0\\xb6\\xe0\\xb0\\x82\\xe0\\xb0\\xb2\\xe0\\xb1\\x8b \\xe0\\xb0\\xaa\\xe0\\xb0\\x9a\\xe0\\xb1\\x8d\\xe0\\xb0\\x9a\\xe0\\xb0\\xac\\xe0\\xb1\\x8a\\xe0\\xb0\\x9f\\xe0\\xb1\\x8d\\xe0\\xb0\\x9f\\xe0\\xb1\\x81 \\xe0\\xb0\\x9c\\xe0\\xb0\\xa8\\xe0\\xb0\\xbe\\xe0\\xb0\\xad\\xe0\\xb0\\xbe\\xe0\\xb0\\xb2\\xe0\\xb1\\x8b \\xe0\\xb0\\xb2\\xe0\\xb1\\x8b\\xe0\\xb0\\xaa\\xe0\\xb0\\xbe\\xe0\\xb0\\xb2\\xe0\\xb1\\x81 \\xe0\\xb0\\xb5\\xe0\\xb0\\xbf\\xe0\\xb0\\xb5\\xe0\\xb0\\xbe\\xe0\\xb0\\xb9\\xe0\\xb0\\x82'],\n",
              "      dtype=object)"
            ]
          },
          "metadata": {},
          "execution_count": 34
        }
      ]
    },
    {
      "cell_type": "markdown",
      "source": [
        "Code ReferenceTaken from :\n",
        "https://www.tensorflow.org/text/tutorials/nmt_with_attention\n"
      ],
      "metadata": {
        "id": "_24Usg8ul24j"
      }
    },
    {
      "cell_type": "markdown",
      "source": [
        "**Model Prepartion: Translator**"
      ],
      "metadata": {
        "id": "NHHFk0iG2J04"
      }
    },
    {
      "cell_type": "code",
      "source": [
        "# ================================================================================================================================================\n",
        "# Model\n",
        "# ================================================================================================================================================\n",
        "class Translator(tf.keras.Model):\n",
        "    @classmethod\n",
        "    def add_method(cls, fun):\n",
        "        setattr(cls, fun.__name__, fun)\n",
        "        return fun\n",
        "\n",
        "    def __init__(self, units, context_text_processor, target_text_processor):\n",
        "        super().__init__()\n",
        "        # Build the encoder and decoder\n",
        "        encoder = Encoder(context_text_processor, units)\n",
        "        decoder = Decoder(target_text_processor, units)\n",
        "\n",
        "        self.encoder = encoder\n",
        "        self.decoder = decoder\n",
        "\n",
        "    def call(self, inputs):\n",
        "        context, x = inputs\n",
        "        context = self.encoder(context)\n",
        "        logits = self.decoder(context, x)\n",
        "\n",
        "        try:\n",
        "            # Delete the keras mask, so keras doesn't scale the loss+accuracy.\n",
        "            del logits._keras_mask\n",
        "        except AttributeError:\n",
        "            pass\n",
        "\n",
        "        return logits"
      ],
      "metadata": {
        "id": "2kMZwP5v2AHs"
      },
      "execution_count": 35,
      "outputs": []
    },
    {
      "cell_type": "code",
      "source": [
        "model = Translator(UNITS, input_text_preprocessor, target_text_preprocessor)\n",
        "\n",
        "logits = model((input_string2, target_string2))\n",
        "\n",
        "print(f'Input tokens, shape  : (batch, s, units) {input_string2.shape}')\n",
        "print(f'Target tokens, shape : (batch, t) {target_string2.shape}')\n",
        "print(f'       logits, shape : (batch, t, target_vocabulary_size) {logits.shape}')"
      ],
      "metadata": {
        "colab": {
          "base_uri": "https://localhost:8080/"
        },
        "id": "_Mz2x3o72AKR",
        "outputId": "ab7773bd-d043-4c3a-b55d-943f02610a9d"
      },
      "execution_count": 36,
      "outputs": [
        {
          "output_type": "stream",
          "name": "stdout",
          "text": [
            "Input tokens, shape  : (batch, s, units) (32, 17)\n",
            "Target tokens, shape : (batch, t) (32, 11)\n",
            "       logits, shape : (batch, t, target_vocabulary_size) (32, 11, 12000)\n"
          ]
        }
      ]
    },
    {
      "cell_type": "markdown",
      "source": [
        "**Model Training**"
      ],
      "metadata": {
        "id": "RfwVAIJK2Une"
      }
    },
    {
      "cell_type": "code",
      "source": [
        "# ================================================================================================================================================\n",
        "# Training\n",
        "# ================================================================================================================================================\n",
        "def masked_loss(y_true, y_pred):\n",
        "    # Calculate the loss for each item in the batch.\n",
        "    loss_fn = tf.keras.losses.SparseCategoricalCrossentropy(\n",
        "        from_logits=True, reduction='none')\n",
        "    loss = loss_fn(y_true, y_pred)\n",
        "\n",
        "    # Mask off the losses on padding.\n",
        "    mask = tf.cast(y_true != 0, loss.dtype)\n",
        "    loss *= mask\n",
        "\n",
        "    # Return the total.\n",
        "    return tf.reduce_sum(loss) / tf.reduce_sum(mask)\n",
        "\n",
        "\n",
        "def masked_accuracy(Y_actual, Y_pred):\n",
        "    # Calculate the loss for each item in the batch.\n",
        "    Y_pred = tf.argmax(Y_pred, axis=-1)\n",
        "    Y_pred = tf.cast(Y_pred, Y_actual.dtype)\n",
        "\n",
        "    match_records = tf.cast(Y_actual == Y_pred, tf.float32)\n",
        "    mask_value = tf.cast(Y_actual != 0, tf.float32)\n",
        "\n",
        "    return tf.reduce_sum(match_records) / tf.reduce_sum(mask_value)"
      ],
      "metadata": {
        "id": "zlXx_h-B2ANs"
      },
      "execution_count": 37,
      "outputs": []
    },
    {
      "cell_type": "code",
      "source": [
        "model.compile(optimizer='adam',  #adam\n",
        "              loss=masked_loss,\n",
        "              metrics=[masked_accuracy, masked_loss])\n",
        "\n",
        "vocab_size = 1.0 * target_text_preprocessor.vocabulary_size()\n",
        "\n",
        "print({\"expected_loss\": tf.math.log(vocab_size).numpy(), \"expected_acc\": 1 / vocab_size})\n",
        "\n",
        "model.evaluate(validation_preprocess_data, steps=20, return_dict=True)"
      ],
      "metadata": {
        "colab": {
          "base_uri": "https://localhost:8080/"
        },
        "id": "3vlrYPJ_2WEZ",
        "outputId": "8a75d80f-9ae5-49a4-95db-816d0e00562d"
      },
      "execution_count": 38,
      "outputs": [
        {
          "output_type": "stream",
          "name": "stdout",
          "text": [
            "{'expected_loss': 9.392662, 'expected_acc': 8.333333333333333e-05}\n",
            "20/20 [==============================] - 24s 251ms/step - loss: 9.3976 - masked_accuracy: 0.0000e+00 - masked_loss: 9.3976\n"
          ]
        },
        {
          "output_type": "execute_result",
          "data": {
            "text/plain": [
              "{'loss': 9.397582054138184,\n",
              " 'masked_accuracy': 0.0,\n",
              " 'masked_loss': 9.397582054138184}"
            ]
          },
          "metadata": {},
          "execution_count": 38
        }
      ]
    },
    {
      "cell_type": "code",
      "source": [
        "history = model.fit(training_preprocess_data.repeat(),\n",
        "                    epochs=100,\n",
        "                    steps_per_epoch = 100,\n",
        "                    validation_data=validation_preprocess_data,\n",
        "                    validation_steps = 20,\n",
        "                    callbacks=[tf.keras.callbacks.EarlyStopping(patience=5)]\n",
        "                    )"
      ],
      "metadata": {
        "colab": {
          "base_uri": "https://localhost:8080/"
        },
        "id": "v7wC-W2f2WGp",
        "outputId": "20bb6c05-1f92-432a-b484-6785702935bb"
      },
      "execution_count": 39,
      "outputs": [
        {
          "output_type": "stream",
          "name": "stdout",
          "text": [
            "Epoch 1/100\n",
            "100/100 [==============================] - 58s 381ms/step - loss: 6.5962 - masked_accuracy: 0.2036 - masked_loss: 6.5962 - val_loss: 5.6764 - val_masked_accuracy: 0.2514 - val_masked_loss: 5.6764\n",
            "Epoch 2/100\n",
            "100/100 [==============================] - 40s 402ms/step - loss: 5.5331 - masked_accuracy: 0.2813 - masked_loss: 5.5331 - val_loss: 5.0938 - val_masked_accuracy: 0.3250 - val_masked_loss: 5.0938\n",
            "Epoch 3/100\n",
            "100/100 [==============================] - 40s 403ms/step - loss: 5.1127 - masked_accuracy: 0.3225 - masked_loss: 5.1127 - val_loss: 4.8428 - val_masked_accuracy: 0.3498 - val_masked_loss: 4.8428\n",
            "Epoch 4/100\n",
            "100/100 [==============================] - 40s 397ms/step - loss: 4.8481 - masked_accuracy: 0.3460 - masked_loss: 4.8481 - val_loss: 4.5702 - val_masked_accuracy: 0.3782 - val_masked_loss: 4.5702\n",
            "Epoch 5/100\n",
            "100/100 [==============================] - 40s 399ms/step - loss: 4.5574 - masked_accuracy: 0.3825 - masked_loss: 4.5574 - val_loss: 4.2367 - val_masked_accuracy: 0.4150 - val_masked_loss: 4.2367\n",
            "Epoch 6/100\n",
            "100/100 [==============================] - 36s 363ms/step - loss: 4.3475 - masked_accuracy: 0.4038 - masked_loss: 4.3475 - val_loss: 4.1131 - val_masked_accuracy: 0.4286 - val_masked_loss: 4.1131\n",
            "Epoch 7/100\n",
            "100/100 [==============================] - 36s 356ms/step - loss: 4.1451 - masked_accuracy: 0.4270 - masked_loss: 4.1451 - val_loss: 3.8778 - val_masked_accuracy: 0.4482 - val_masked_loss: 3.8778\n",
            "Epoch 8/100\n",
            "100/100 [==============================] - 37s 374ms/step - loss: 4.0102 - masked_accuracy: 0.4410 - masked_loss: 4.0102 - val_loss: 3.7200 - val_masked_accuracy: 0.4775 - val_masked_loss: 3.7200\n",
            "Epoch 9/100\n",
            "100/100 [==============================] - 36s 362ms/step - loss: 3.8497 - masked_accuracy: 0.4524 - masked_loss: 3.8497 - val_loss: 3.6531 - val_masked_accuracy: 0.4678 - val_masked_loss: 3.6531\n",
            "Epoch 10/100\n",
            "100/100 [==============================] - 38s 385ms/step - loss: 3.7196 - masked_accuracy: 0.4680 - masked_loss: 3.7196 - val_loss: 3.5446 - val_masked_accuracy: 0.4830 - val_masked_loss: 3.5446\n",
            "Epoch 11/100\n",
            "100/100 [==============================] - 38s 380ms/step - loss: 3.6603 - masked_accuracy: 0.4720 - masked_loss: 3.6603 - val_loss: 3.3256 - val_masked_accuracy: 0.4975 - val_masked_loss: 3.3256\n",
            "Epoch 12/100\n",
            "100/100 [==============================] - 36s 363ms/step - loss: 3.4731 - masked_accuracy: 0.4908 - masked_loss: 3.4731 - val_loss: 3.2134 - val_masked_accuracy: 0.5133 - val_masked_loss: 3.2134\n",
            "Epoch 13/100\n",
            "100/100 [==============================] - 36s 365ms/step - loss: 3.3562 - masked_accuracy: 0.5017 - masked_loss: 3.3562 - val_loss: 3.0880 - val_masked_accuracy: 0.5180 - val_masked_loss: 3.0880\n",
            "Epoch 14/100\n",
            "100/100 [==============================] - 38s 383ms/step - loss: 3.2832 - masked_accuracy: 0.5149 - masked_loss: 3.2832 - val_loss: 3.0886 - val_masked_accuracy: 0.5263 - val_masked_loss: 3.0886\n",
            "Epoch 15/100\n",
            "100/100 [==============================] - 36s 361ms/step - loss: 3.1407 - masked_accuracy: 0.5280 - masked_loss: 3.1407 - val_loss: 2.8338 - val_masked_accuracy: 0.5624 - val_masked_loss: 2.8338\n",
            "Epoch 16/100\n",
            "100/100 [==============================] - 37s 369ms/step - loss: 3.1359 - masked_accuracy: 0.5335 - masked_loss: 3.1359 - val_loss: 2.8269 - val_masked_accuracy: 0.5481 - val_masked_loss: 2.8269\n",
            "Epoch 17/100\n",
            "100/100 [==============================] - 42s 417ms/step - loss: 2.9985 - masked_accuracy: 0.5419 - masked_loss: 2.9985 - val_loss: 2.7942 - val_masked_accuracy: 0.5618 - val_masked_loss: 2.7942\n",
            "Epoch 18/100\n",
            "100/100 [==============================] - 36s 362ms/step - loss: 2.9339 - masked_accuracy: 0.5479 - masked_loss: 2.9339 - val_loss: 2.7234 - val_masked_accuracy: 0.5632 - val_masked_loss: 2.7234\n",
            "Epoch 19/100\n",
            "100/100 [==============================] - 36s 359ms/step - loss: 2.8344 - masked_accuracy: 0.5560 - masked_loss: 2.8344 - val_loss: 2.7060 - val_masked_accuracy: 0.5675 - val_masked_loss: 2.7060\n",
            "Epoch 20/100\n",
            "100/100 [==============================] - 37s 369ms/step - loss: 2.7655 - masked_accuracy: 0.5665 - masked_loss: 2.7655 - val_loss: 2.5811 - val_masked_accuracy: 0.5864 - val_masked_loss: 2.5811\n",
            "Epoch 21/100\n",
            "100/100 [==============================] - 38s 386ms/step - loss: 2.7275 - masked_accuracy: 0.5716 - masked_loss: 2.7275 - val_loss: 2.5370 - val_masked_accuracy: 0.5786 - val_masked_loss: 2.5370\n",
            "Epoch 22/100\n",
            "100/100 [==============================] - 39s 393ms/step - loss: 2.6318 - masked_accuracy: 0.5776 - masked_loss: 2.6318 - val_loss: 2.4930 - val_masked_accuracy: 0.5918 - val_masked_loss: 2.4930\n",
            "Epoch 23/100\n",
            "100/100 [==============================] - 36s 356ms/step - loss: 2.5772 - masked_accuracy: 0.5877 - masked_loss: 2.5772 - val_loss: 2.4358 - val_masked_accuracy: 0.5911 - val_masked_loss: 2.4358\n",
            "Epoch 24/100\n",
            "100/100 [==============================] - 41s 413ms/step - loss: 2.4961 - masked_accuracy: 0.5960 - masked_loss: 2.4961 - val_loss: 2.3751 - val_masked_accuracy: 0.6046 - val_masked_loss: 2.3751\n",
            "Epoch 25/100\n",
            "100/100 [==============================] - 37s 367ms/step - loss: 2.4542 - masked_accuracy: 0.5951 - masked_loss: 2.4542 - val_loss: 2.3073 - val_masked_accuracy: 0.6132 - val_masked_loss: 2.3073\n",
            "Epoch 26/100\n",
            "100/100 [==============================] - 39s 390ms/step - loss: 2.0256 - masked_accuracy: 0.6346 - masked_loss: 2.0457 - val_loss: 2.3089 - val_masked_accuracy: 0.6112 - val_masked_loss: 2.3089\n",
            "Epoch 27/100\n",
            "100/100 [==============================] - 39s 391ms/step - loss: 1.9911 - masked_accuracy: 0.6398 - masked_loss: 1.9911 - val_loss: 2.2075 - val_masked_accuracy: 0.6204 - val_masked_loss: 2.2075\n",
            "Epoch 28/100\n",
            "100/100 [==============================] - 40s 402ms/step - loss: 1.9336 - masked_accuracy: 0.6494 - masked_loss: 1.9336 - val_loss: 2.2085 - val_masked_accuracy: 0.6268 - val_masked_loss: 2.2085\n",
            "Epoch 29/100\n",
            "100/100 [==============================] - 39s 388ms/step - loss: 1.9319 - masked_accuracy: 0.6532 - masked_loss: 1.9319 - val_loss: 2.1682 - val_masked_accuracy: 0.6306 - val_masked_loss: 2.1682\n",
            "Epoch 30/100\n",
            "100/100 [==============================] - 37s 371ms/step - loss: 1.9386 - masked_accuracy: 0.6518 - masked_loss: 1.9386 - val_loss: 2.0777 - val_masked_accuracy: 0.6345 - val_masked_loss: 2.0777\n",
            "Epoch 31/100\n",
            "100/100 [==============================] - 38s 384ms/step - loss: 1.8777 - masked_accuracy: 0.6543 - masked_loss: 1.8777 - val_loss: 2.0832 - val_masked_accuracy: 0.6406 - val_masked_loss: 2.0832\n",
            "Epoch 32/100\n",
            "100/100 [==============================] - 38s 383ms/step - loss: 1.8836 - masked_accuracy: 0.6544 - masked_loss: 1.8836 - val_loss: 2.1127 - val_masked_accuracy: 0.6339 - val_masked_loss: 2.1127\n",
            "Epoch 33/100\n",
            "100/100 [==============================] - 40s 401ms/step - loss: 1.8790 - masked_accuracy: 0.6541 - masked_loss: 1.8790 - val_loss: 2.0475 - val_masked_accuracy: 0.6388 - val_masked_loss: 2.0475\n",
            "Epoch 34/100\n",
            "100/100 [==============================] - 41s 415ms/step - loss: 1.8115 - masked_accuracy: 0.6638 - masked_loss: 1.8115 - val_loss: 1.8827 - val_masked_accuracy: 0.6593 - val_masked_loss: 1.8827\n",
            "Epoch 35/100\n",
            "100/100 [==============================] - 40s 400ms/step - loss: 1.8393 - masked_accuracy: 0.6590 - masked_loss: 1.8393 - val_loss: 1.9388 - val_masked_accuracy: 0.6465 - val_masked_loss: 1.9388\n",
            "Epoch 36/100\n",
            "100/100 [==============================] - 37s 366ms/step - loss: 1.7989 - masked_accuracy: 0.6635 - masked_loss: 1.7989 - val_loss: 1.9620 - val_masked_accuracy: 0.6473 - val_masked_loss: 1.9620\n",
            "Epoch 37/100\n",
            "100/100 [==============================] - 36s 360ms/step - loss: 1.7654 - masked_accuracy: 0.6705 - masked_loss: 1.7654 - val_loss: 1.9011 - val_masked_accuracy: 0.6453 - val_masked_loss: 1.9011\n",
            "Epoch 38/100\n",
            "100/100 [==============================] - 36s 365ms/step - loss: 1.7548 - masked_accuracy: 0.6680 - masked_loss: 1.7548 - val_loss: 1.8390 - val_masked_accuracy: 0.6662 - val_masked_loss: 1.8390\n",
            "Epoch 39/100\n",
            "100/100 [==============================] - 39s 390ms/step - loss: 1.7844 - masked_accuracy: 0.6670 - masked_loss: 1.7844 - val_loss: 1.8301 - val_masked_accuracy: 0.6611 - val_masked_loss: 1.8301\n",
            "Epoch 40/100\n",
            "100/100 [==============================] - 35s 354ms/step - loss: 1.7082 - masked_accuracy: 0.6737 - masked_loss: 1.7082 - val_loss: 1.8345 - val_masked_accuracy: 0.6613 - val_masked_loss: 1.8345\n",
            "Epoch 41/100\n",
            "100/100 [==============================] - 39s 390ms/step - loss: 1.7014 - masked_accuracy: 0.6798 - masked_loss: 1.7014 - val_loss: 1.8235 - val_masked_accuracy: 0.6637 - val_masked_loss: 1.8235\n",
            "Epoch 42/100\n",
            "100/100 [==============================] - 36s 366ms/step - loss: 1.6663 - masked_accuracy: 0.6794 - masked_loss: 1.6663 - val_loss: 1.7141 - val_masked_accuracy: 0.6752 - val_masked_loss: 1.7141\n",
            "Epoch 43/100\n",
            "100/100 [==============================] - 37s 367ms/step - loss: 1.6683 - masked_accuracy: 0.6804 - masked_loss: 1.6683 - val_loss: 1.7829 - val_masked_accuracy: 0.6587 - val_masked_loss: 1.7829\n",
            "Epoch 44/100\n",
            "100/100 [==============================] - 37s 367ms/step - loss: 1.6247 - masked_accuracy: 0.6901 - masked_loss: 1.6247 - val_loss: 1.7518 - val_masked_accuracy: 0.6701 - val_masked_loss: 1.7518\n",
            "Epoch 45/100\n",
            "100/100 [==============================] - 40s 399ms/step - loss: 1.6498 - masked_accuracy: 0.6819 - masked_loss: 1.6498 - val_loss: 1.6702 - val_masked_accuracy: 0.6738 - val_masked_loss: 1.6702\n",
            "Epoch 46/100\n",
            "100/100 [==============================] - 40s 398ms/step - loss: 1.6443 - masked_accuracy: 0.6848 - masked_loss: 1.6443 - val_loss: 1.6676 - val_masked_accuracy: 0.6744 - val_masked_loss: 1.6676\n",
            "Epoch 47/100\n",
            "100/100 [==============================] - 37s 370ms/step - loss: 1.6191 - masked_accuracy: 0.6841 - masked_loss: 1.6191 - val_loss: 1.6577 - val_masked_accuracy: 0.6784 - val_masked_loss: 1.6577\n",
            "Epoch 48/100\n",
            "100/100 [==============================] - 37s 372ms/step - loss: 1.5526 - masked_accuracy: 0.6970 - masked_loss: 1.5526 - val_loss: 1.6528 - val_masked_accuracy: 0.6821 - val_masked_loss: 1.6528\n",
            "Epoch 49/100\n",
            "100/100 [==============================] - 39s 386ms/step - loss: 1.4937 - masked_accuracy: 0.7038 - masked_loss: 1.4937 - val_loss: 1.6979 - val_masked_accuracy: 0.6845 - val_masked_loss: 1.6979\n",
            "Epoch 50/100\n",
            "100/100 [==============================] - 36s 359ms/step - loss: 1.5104 - masked_accuracy: 0.6982 - masked_loss: 1.5104 - val_loss: 1.6352 - val_masked_accuracy: 0.6715 - val_masked_loss: 1.6352\n",
            "Epoch 51/100\n",
            "100/100 [==============================] - 39s 386ms/step - loss: 1.1512 - masked_accuracy: 0.7404 - masked_loss: 1.1792 - val_loss: 1.6752 - val_masked_accuracy: 0.6790 - val_masked_loss: 1.6752\n",
            "Epoch 52/100\n",
            "100/100 [==============================] - 43s 427ms/step - loss: 1.0658 - masked_accuracy: 0.7572 - masked_loss: 1.0658 - val_loss: 1.6739 - val_masked_accuracy: 0.6860 - val_masked_loss: 1.6739\n",
            "Epoch 53/100\n",
            "100/100 [==============================] - 37s 375ms/step - loss: 1.0767 - masked_accuracy: 0.7548 - masked_loss: 1.0767 - val_loss: 1.7291 - val_masked_accuracy: 0.6730 - val_masked_loss: 1.7291\n",
            "Epoch 54/100\n",
            "100/100 [==============================] - 40s 397ms/step - loss: 1.0803 - masked_accuracy: 0.7539 - masked_loss: 1.0803 - val_loss: 1.6185 - val_masked_accuracy: 0.6986 - val_masked_loss: 1.6185\n",
            "Epoch 55/100\n",
            "100/100 [==============================] - 37s 367ms/step - loss: 1.0759 - masked_accuracy: 0.7518 - masked_loss: 1.0759 - val_loss: 1.7226 - val_masked_accuracy: 0.6802 - val_masked_loss: 1.7226\n",
            "Epoch 56/100\n",
            "100/100 [==============================] - 36s 360ms/step - loss: 1.0683 - masked_accuracy: 0.7558 - masked_loss: 1.0683 - val_loss: 1.5359 - val_masked_accuracy: 0.6930 - val_masked_loss: 1.5359\n",
            "Epoch 57/100\n",
            "100/100 [==============================] - 37s 368ms/step - loss: 1.0730 - masked_accuracy: 0.7528 - masked_loss: 1.0730 - val_loss: 1.4928 - val_masked_accuracy: 0.7039 - val_masked_loss: 1.4928\n",
            "Epoch 58/100\n",
            "100/100 [==============================] - 39s 394ms/step - loss: 1.1085 - masked_accuracy: 0.7506 - masked_loss: 1.1085 - val_loss: 1.5257 - val_masked_accuracy: 0.7007 - val_masked_loss: 1.5257\n",
            "Epoch 59/100\n",
            "100/100 [==============================] - 39s 394ms/step - loss: 1.0991 - masked_accuracy: 0.7499 - masked_loss: 1.0991 - val_loss: 1.6041 - val_masked_accuracy: 0.6849 - val_masked_loss: 1.6041\n",
            "Epoch 60/100\n",
            "100/100 [==============================] - 39s 391ms/step - loss: 1.0714 - masked_accuracy: 0.7540 - masked_loss: 1.0714 - val_loss: 1.6724 - val_masked_accuracy: 0.6799 - val_masked_loss: 1.6724\n",
            "Epoch 61/100\n",
            "100/100 [==============================] - 37s 370ms/step - loss: 1.0981 - masked_accuracy: 0.7488 - masked_loss: 1.0981 - val_loss: 1.5709 - val_masked_accuracy: 0.6969 - val_masked_loss: 1.5709\n",
            "Epoch 62/100\n",
            "100/100 [==============================] - 37s 373ms/step - loss: 1.1076 - masked_accuracy: 0.7511 - masked_loss: 1.1076 - val_loss: 1.5537 - val_masked_accuracy: 0.6924 - val_masked_loss: 1.5537\n"
          ]
        }
      ]
    },
    {
      "cell_type": "code",
      "source": [
        "# Plot Graph -----------------------------------\n",
        "plt.plot(history.history['loss'], label='loss')\n",
        "plt.plot(history.history['val_loss'], label='val_loss')\n",
        "plt.ylim([0,                                                                                                                                                                                                                                                                                                                                                                                                                                                                                                                                                                                                                                                                                                                                                                                                                                                                                                                                                                                                                                                                                                                                                                                                                                                                                                                                                                                                                                                                                                                                                                                                                                                                                                                                                                                                                                                                                                                                                                                                                                                                                                                                                                                                                                                                                                                                                                                                                                                                                                                                                                                                                                                                                                                                                                                                                                                                                                                                                                                                                                                                                                                                                                                                                                                                                                                                                                                                                                                                                                                                                                                                                                                                                                                                                                                                                                                                                                                                                                                                                                                                                                                                                                                                                                                                                                                                                                                                                                                                                                                                                                                                                                                                                                                                                                                                                                                                                                                                                                                                                           max(plt.ylim())])\n",
        "plt.xlabel('Epoch #')\n",
        "plt.ylabel('CE/token')\n",
        "plt.legend()"
      ],
      "metadata": {
        "colab": {
          "base_uri": "https://localhost:8080/",
          "height": 296
        },
        "id": "6pr5d8ka2WKY",
        "outputId": "2730f178-dfab-4319-bac3-dd57808bb4f8"
      },
      "execution_count": 40,
      "outputs": [
        {
          "output_type": "execute_result",
          "data": {
            "text/plain": [
              "<matplotlib.legend.Legend at 0x7f7d11509df0>"
            ]
          },
          "metadata": {},
          "execution_count": 40
        },
        {
          "output_type": "display_data",
          "data": {
            "text/plain": [
              "<Figure size 432x288 with 1 Axes>"
            ],
            "image/png": "[encoded data removed]"
          },
          "metadata": {
            "needs_background": "light"
          }
        }
      ]
    },
    {
      "cell_type": "code",
      "source": [
        "\n",
        "# Plot Graph -----------------------------------\n",
        "plt.plot(history.history['masked_accuracy'], label='accuracy')\n",
        "plt.plot(history.history['val_masked_accuracy'], label='val_accuracy')\n",
        "plt.ylim([0, max(plt.ylim())])\n",
        "plt.xlabel('Epoch #')\n",
        "plt.ylabel('CE/token')\n",
        "plt.legend()"
      ],
      "metadata": {
        "colab": {
          "base_uri": "https://localhost:8080/",
          "height": 296
        },
        "id": "7hflgN7y2gqA",
        "outputId": "c4dff056-d478-4217-9bf2-88be7b42ad12"
      },
      "execution_count": 41,
      "outputs": [
        {
          "output_type": "execute_result",
          "data": {
            "text/plain": [
              "<matplotlib.legend.Legend at 0x7f7d14d1bb80>"
            ]
          },
          "metadata": {},
          "execution_count": 41
        },
        {
          "output_type": "display_data",
          "data": {
            "text/plain": [
              "<Figure size 432x288 with 1 Axes>"
            ],
            "image/png": "[encoded data removed]"
          },
          "metadata": {
            "needs_background": "light"
          }
        }
      ]
    },
    {
      "cell_type": "code",
      "source": [
        "history.history.keys()"
      ],
      "metadata": {
        "colab": {
          "base_uri": "https://localhost:8080/"
        },
        "id": "UnWBPTdb_9gE",
        "outputId": "e9034e0d-1783-4b6e-b0fe-84fade4ee8bc"
      },
      "execution_count": 42,
      "outputs": [
        {
          "output_type": "execute_result",
          "data": {
            "text/plain": [
              "dict_keys(['loss', 'masked_accuracy', 'masked_loss', 'val_loss', 'val_masked_accuracy', 'val_masked_loss'])"
            ]
          },
          "metadata": {},
          "execution_count": 42
        }
      ]
    },
    {
      "cell_type": "markdown",
      "source": [
        "**Save Model**"
      ],
      "metadata": {
        "id": "wBztbf9_2jI3"
      }
    },
    {
      "cell_type": "code",
      "source": [
        "# Saving Model -----------------------------------\n",
        "model.save(dataLocation+'NLP_Eng_to_Tel_Encoder_Decoder_V05_attention_model')"
      ],
      "metadata": {
        "colab": {
          "base_uri": "https://localhost:8080/"
        },
        "id": "B9v4dGgU2gsX",
        "outputId": "67d82e1d-c912-4bf7-a9f5-b7bd0dcf250e"
      },
      "execution_count": 43,
      "outputs": [
        {
          "output_type": "stream",
          "name": "stderr",
          "text": [
            "WARNING:tensorflow:Skipping full serialization of Keras layer <keras.layers.preprocessing.string_lookup.StringLookup object at 0x7f7d14e89be0>, because it is not built.\n",
            "WARNING:absl:Found untraced functions such as _update_step_xla, embedding_3_layer_call_fn, embedding_3_layer_call_and_return_conditional_losses, embedding_4_layer_call_fn, embedding_4_layer_call_and_return_conditional_losses while saving (showing 5 of 33). These functions will not be directly callable after loading.\n"
          ]
        }
      ]
    },
    {
      "cell_type": "markdown",
      "source": [
        "**Model Prediction**"
      ],
      "metadata": {
        "id": "hsdK_X9k2n7t"
      }
    },
    {
      "cell_type": "code",
      "source": [
        "# @title\n",
        "@Translator.add_method\n",
        "def translate(self, texts, *,max_length=50, temperature=0.0):\n",
        "    # Encoding : PreProcess the input texts\n",
        "    context = self.encoder.convert_input(texts)\n",
        "    batch_size = tf.shape(texts)[0]\n",
        "\n",
        "    # Inference Stage : Setup the loop inputs\n",
        "    tokens = []\n",
        "    attention_weights = []\n",
        "    next_token, done, state = self.decoder.get_initial_state(context)\n",
        "\n",
        "    # Decoding: \n",
        "    for _ in range(max_length):\n",
        "        # Generate the next token\n",
        "        next_token, done, state = self.decoder.get_next_token(\n",
        "            context, next_token, done, state, temperature)\n",
        "\n",
        "        # Collect the generated tokens\n",
        "        tokens.append(next_token)\n",
        "        attention_weights.append(self.decoder.last_attention_weights)\n",
        "\n",
        "        if tf.executing_eagerly() and tf.reduce_all(done):\n",
        "            break\n",
        "\n",
        "    # Stack the lists of tokens and attention weights.\n",
        "    tokens = tf.concat(tokens, axis=-1)  # t*[(batch 1)] -> (batch, t)\n",
        "    self.last_attention_weights = tf.concat(attention_weights, axis=1)  # t*[(batch 1 s)] -> (batch, t s)\n",
        "\n",
        "    result = self.decoder.tokens_to_text(tokens)\n",
        "    return result"
      ],
      "metadata": {
        "id": "7NNzn72B2gv4"
      },
      "execution_count": 44,
      "outputs": []
    },
    {
      "cell_type": "code",
      "source": [],
      "metadata": {
        "id": "S63zge7KmVzD"
      },
      "execution_count": null,
      "outputs": []
    },
    {
      "cell_type": "markdown",
      "source": [
        "**Model Testing**"
      ],
      "metadata": {
        "id": "vYC2e9Rz2qLG"
      }
    },
    {
      "cell_type": "code",
      "source": [
        "# ================================================================================================================================================\n",
        "# Testing\n",
        "# ================================================================================================================================================\n",
        "test_source = input_texts[100001:]\n",
        "test_target = target_texts[100001:]\n",
        "\n",
        "print(test_source[159])\n",
        "print(test_target[159])\n",
        "print(len(test_source))"
      ],
      "metadata": {
        "colab": {
          "base_uri": "https://localhost:8080/"
        },
        "id": "VSNYjCs22s3j",
        "outputId": "51858c57-b706-4c62-dd41-fcbb68ee3c2a"
      },
      "execution_count": 58,
      "outputs": [
        {
          "output_type": "stream",
          "name": "stdout",
          "text": [
            "I don't know why Tom didn't come.\n",
            "టామ్ ఎందుకు రాలేదో నాకు తెలియదు.\n",
            "\n",
            "55797\n"
          ]
        }
      ]
    },
    {
      "cell_type": "code",
      "source": [
        "len(test_source)"
      ],
      "metadata": {
        "colab": {
          "base_uri": "https://localhost:8080/"
        },
        "id": "ElueubeGPYUx",
        "outputId": "523a49d5-e95f-4c45-da1d-24a760065075"
      },
      "execution_count": 47,
      "outputs": [
        {
          "output_type": "execute_result",
          "data": {
            "text/plain": [
              "55797"
            ]
          },
          "metadata": {},
          "execution_count": 47
        }
      ]
    },
    {
      "cell_type": "markdown",
      "source": [
        "**BleuScore**"
      ],
      "metadata": {
        "id": "BJGI9nE83Gn5"
      }
    },
    {
      "cell_type": "code",
      "source": [
        "##bleuscore for 10000 records of test data\n",
        "from datetime import datetime\n",
        "startTime=datetime.now()\n",
        "actualEngData = []\n",
        "actualTelData = []\n",
        "predTelData = []\n",
        "bleuScore=0\n",
        "n=10000\n",
        "for i in range(n):\n",
        "    actualEngData.append(test_source[i])\n",
        "    actualTelData.append(test_target[i])\n",
        "    predTelData.append(model.translate([test_source[i]])[0].numpy().decode())\n",
        "for i in range(n):\n",
        "  #predTelData.append(model.translate([actualEngData[i]])[0].numpy().decode())\n",
        "  bleuScore += nltk.translate.bleu_score.sentence_bleu(actualTelData[i], predTelData[i],weights=[1]) #weights=[4]\n",
        "total_bleuscore =bleuScore/n\n",
        "endTime=datetime.now()\n",
        "print(f\"number of test records:{n};bleuSCore:{total_bleuscore}\")\n",
        "endTime=endTime-startTime\n",
        "print(\"code running time\",endTime)\n"
      ],
      "metadata": {
        "id": "1W3nbxfELvPE",
        "colab": {
          "base_uri": "https://localhost:8080/"
        },
        "outputId": "1b77383a-a2be-497f-9928-7cc6210156c1"
      },
      "execution_count": 56,
      "outputs": [
        {
          "output_type": "stream",
          "name": "stdout",
          "text": [
            "number of test records:10000;bleuSCore:0.4807346976265426\n",
            "code running time 2022-12-10 05:41:44.585863\n"
          ]
        }
      ]
    },
    {
      "cell_type": "code",
      "source": [
        "#displaying the predictions\n",
        "startTime=datetime.now()\n",
        "bleuScore=0\n",
        "n=15\n",
        "for i in range(n):\n",
        "    print(\"english_source\",actualEngData[i])\n",
        "    print(\"actual_telugu\",actualTelData[i])\n",
        "    print(\"predTelData\",predTelData[i])\n",
        "    print(\"==========================\")\n",
        "    bleuScore += nltk.translate.bleu_score.sentence_bleu(actualTelData[i], predTelData[i],weights=[1])\n",
        "total_bleuscore =bleuScore/n\n",
        "endTime=datetime.now()\n",
        "print(f\"number of test records:{n};bleuSCore:{total_bleuscore}\")\n",
        "print(\"code running time\",endTime)"
      ],
      "metadata": {
        "colab": {
          "base_uri": "https://localhost:8080/"
        },
        "id": "Mf_5hYd7KSSX",
        "outputId": "3869ed9f-4a59-40e5-9c80-8acab7f4266c"
      },
      "execution_count": 57,
      "outputs": [
        {
          "output_type": "stream",
          "name": "stdout",
          "text": [
            "english_source When I was a child, I believed in Santa Claus.\n",
            "actual_telugu నేను చిన్నతనంలో, శాంతా క్లాజ్‌ను నమ్మాను.\n",
            "\n",
            "predTelData నేను చిన్నతనంలో, నేను వయోలిన్ [UK] \n",
            "==========================\n",
            "english_source Don't you know her name?\n",
            "actual_telugu ఆమె పేరు మీకు తెలియదా?\n",
            "\n",
            "predTelData ఆమె పేరు మీకు తెలుసా? \n",
            "==========================\n",
            "english_source Tom brought Mary to our party.\n",
            "actual_telugu టామ్ మేరీని మా పార్టీకి తీసుకువచ్చాడు.\n",
            "\n",
            "predTelData టామ్ మేరీ మా పార్టీకి తెచ్చాడు. \n",
            "==========================\n",
            "english_source I'm sorry. I forgot about this.\n",
            "actual_telugu నన్ను క్షమించండి.\n",
            "\n",
            "predTelData నేను క్షమించండి, నేను దీని గురించి మర్చిపోయాను. \n",
            "==========================\n",
            "english_source If I weren't poor, I'd buy that car.\n",
            "actual_telugu నేను పేదవాడు కాకపోతే, నేను ఆ కారు కొంటాను.\n",
            "\n",
            "predTelData నేను ఆ [UK] [UK] సమాధానం కొంటాను. \n",
            "==========================\n",
            "english_source Tom is afraid of big dogs.\n",
            "actual_telugu టామ్ పెద్ద కుక్కలకు భయపడతాడు.\n",
            "\n",
            "predTelData టామ్ పెద్ద కుక్కలకు భయపడతాడు. \n",
            "==========================\n",
            "english_source That guy is a party pooper.\n",
            "actual_telugu ఆ వ్యక్తి పార్టీ పూపర్.\n",
            "\n",
            "predTelData ఆ వ్యక్తి పార్టీ [UK] \n",
            "==========================\n",
            "english_source You're going to be very proud of me.\n",
            "actual_telugu మీరు నా గురించి చాలా గర్వపడతారు.\n",
            "\n",
            "predTelData మీరు నా గురించి చాలా [UK] \n",
            "==========================\n",
            "english_source Don't listen to Tom.\n",
            "actual_telugu టామ్ మాట వినవద్దు.\n",
            "\n",
            "predTelData టామ్ మాట వినవద్దు. \n",
            "==========================\n",
            "english_source Tom didn't mention Mary at all.\n",
            "actual_telugu టామ్ మేరీ గురించి అస్సలు ప్రస్తావించలేదు.\n",
            "\n",
            "predTelData టామ్ మేరీ అస్సలు మాట్లాడలేదు. \n",
            "==========================\n",
            "english_source Tom is beginning to lose his hearing.\n",
            "actual_telugu టామ్ తన వినికిడిని కోల్పోవడం ప్రారంభించాడు.\n",
            "\n",
            "predTelData టామ్ తన [UK] ప్రారంభించాడు. \n",
            "==========================\n",
            "english_source I'm dying for frozen yogurt.\n",
            "actual_telugu నేను స్తంభింపచేసిన పెరుగు కోసం చనిపోతున్నాను.\n",
            "\n",
            "predTelData నేను చాలా [UK] [UK] [UK] \n",
            "==========================\n",
            "english_source Tom is sneezing.\n",
            "actual_telugu టామ్ తుమ్ముతున్నాడు.\n",
            "\n",
            "predTelData టామ్ [UK] \n",
            "==========================\n",
            "english_source It is really nice of you.\n",
            "actual_telugu ఇది మీకు నిజంగా బాగుంది.\n",
            "\n",
            "predTelData ఇది నిజంగా ఆనందంగా ఉంది. \n",
            "==========================\n",
            "english_source You're such a beautiful woman.\n",
            "actual_telugu మీరు అంత అందమైన మహిళ.\n",
            "\n",
            "predTelData మీరు ఇంత అందమైన స్త్రీని. \n",
            "==========================\n",
            "number of test records:15;bleuSCore:0.4560012085151404\n",
            "code running time 2022-12-10 05:42:36.281631\n"
          ]
        }
      ]
    },
    {
      "cell_type": "code",
      "source": [
        "\n",
        "result = model.translate([\"Don't you know her name?\"]) # Are you still home\n",
        "result[0].numpy().decode()\n",
        "     "
      ],
      "metadata": {
        "colab": {
          "base_uri": "https://localhost:8080/",
          "height": 35
        },
        "id": "hhaUK6RlJPKI",
        "outputId": "c00f67a7-f9db-45ee-8216-3f26962c5f76"
      },
      "execution_count": 55,
      "outputs": [
        {
          "output_type": "execute_result",
          "data": {
            "text/plain": [
              "'ఆమె పేరు మీకు తెలుసా? '"
            ],
            "application/vnd.google.colaboratory.intrinsic+json": {
              "type": "string"
            }
          },
          "metadata": {},
          "execution_count": 55
        }
      ]
    },
    {
      "cell_type": "code",
      "source": [
        "with open(dataLocation + 'test_source.txt', 'wb') as file:\n",
        "    pickle.dump(test_source, file)\n",
        "with open(dataLocation + 'test_target.txt', 'wb') as file:\n",
        "    pickle.dump(test_target, file)"
      ],
      "metadata": {
        "id": "huebvg4fmZvd"
      },
      "execution_count": null,
      "outputs": []
    },
    {
      "cell_type": "code",
      "source": [
        "#bleuscore for 1000 records of test data\n",
        "def evaluate(actualEngData,actualTelData,n=1000):\n",
        "  predTelData=[]\n",
        "  bleuScore=0\n",
        "  for i in range(n):\n",
        "    predTelData.append(model.translate([actualEngData[i]])[0].numpy().decode())\n",
        "    bleuScore += nltk.translate.bleu_score.sentence_bleu(actualTelData[i], predTelData[i],weights=[1]) #weights=[4]\n",
        "  total_bleuscore=bleuScore/n\n",
        "  result={\"actualEngData\":actualEngData[0:n],\n",
        "          \"actualTelData\":actualTelData[0:n],\n",
        "          \"predTelData\":predTelData[0:n],\n",
        "          \"bleuScore\":total_bleuscore}\n",
        "  return result\n",
        "  "
      ],
      "metadata": {
        "id": "FCGe0OzTmrlo"
      },
      "execution_count": null,
      "outputs": []
    },
    {
      "cell_type": "code",
      "source": [
        "result = evaluate(test_source,test_target,n=1000)\n",
        "\"\"\"print(result[\"actualEngData\"][0])\n",
        "print(result[\"actualTelData\"][0])\n",
        "print(result[\"predTelData\"][0])\"\"\"\n",
        "print(result[\"bleuScore\"])\n"
      ],
      "metadata": {
        "colab": {
          "base_uri": "https://localhost:8080/"
        },
        "id": "U2_8bevFwCix",
        "outputId": "ad045633-8f86-4f7f-f473-fe9e2ab9724d"
      },
      "execution_count": null,
      "outputs": [
        {
          "output_type": "stream",
          "name": "stdout",
          "text": [
            "0.43179537269719415\n"
          ]
        }
      ]
    },
    {
      "cell_type": "code",
      "source": [
        "\"\"\"import pickle\n",
        "with open(dataLocation+'Bleu_Score_With_Attention', 'wb') as file:\n",
        "  pickle.dump(blueScore, file)\"\"\""
      ],
      "metadata": {
        "id": "0mGkcFQq2s9B"
      },
      "execution_count": null,
      "outputs": []
    },
    {
      "cell_type": "code",
      "source": [
        "with open(dataLocation + 'test_source.txt', 'wb') as file:\n",
        "    pickle.dump(test_source, file)\n",
        "with open(dataLocation + 'test_target.txt', 'wb') as file:\n",
        "    pickle.dump(test_target, file)"
      ],
      "metadata": {
        "id": "s-90NCEiB2pu"
      },
      "execution_count": null,
      "outputs": []
    }
  ]
}